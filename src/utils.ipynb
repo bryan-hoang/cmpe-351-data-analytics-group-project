{
 "cells": [
  {
   "cell_type": "code",
   "execution_count": 1,
   "metadata": {},
   "outputs": [],
   "source": [
    "def hellowWorld():\n",
    "    print(\"Hello world!\")"
   ]
  }
 ],
 "metadata": {
  "interpreter": {
   "hash": "e016b51cd0a1cde6840eb832b2657f12200f4a34a7fcbaded48c4dc8b671f457"
  },
  "kernelspec": {
   "display_name": "Python 3.9.10 ('cmpe-351-group-1-Tq--RwXB')",
   "language": "python",
   "name": "python3"
  },
  "language_info": {
   "codemirror_mode": {
    "name": "ipython",
    "version": 3
   },
   "file_extension": ".py",
   "mimetype": "text/x-python",
   "name": "python",
   "nbconvert_exporter": "python",
   "pygments_lexer": "ipython3",
   "version": "3.10.2"
  },
  "orig_nbformat": 4
 },
 "nbformat": 4,
 "nbformat_minor": 2
}
