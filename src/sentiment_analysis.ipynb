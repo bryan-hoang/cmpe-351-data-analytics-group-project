{
 "cells": [
  {
   "cell_type": "markdown",
   "source": [
    "# Performing Sentiment Analysis via Textblob and VADER"
   ],
   "metadata": {
    "collapsed": false
   }
  },
  {
   "cell_type": "code",
   "execution_count": 11,
   "metadata": {
    "collapsed": true
   },
   "outputs": [],
   "source": [
    "import pandas as pd\n",
    "import string\n",
    "import re\n",
    "import nltk\n",
    "from nltk.stem import WordNetLemmatizer\n",
    "from textblob import TextBlob\n",
    "from nltk.sentiment.vader import SentimentIntensityAnalyzer"
   ]
  },
  {
   "cell_type": "code",
   "execution_count": 13,
   "outputs": [
    {
     "data": {
      "text/plain": "       Unnamed: 0  Unnamed: 0.1  \\\n0               0           0.0   \n1               1           1.0   \n2               2           2.0   \n3               3           3.0   \n4               4           4.0   \n...           ...           ...   \n12712         766           NaN   \n12713         767           NaN   \n12714         768           NaN   \n12715         769           NaN   \n12716         770           NaN   \n\n                                                    text  retweet_count  \\\n0      \"It is an open ledger, trying to sneak lots of...            151   \n1      “The #crypto market today has a market capital...             87   \n2      G7 countries and the EU are looking at ways to...             95   \n3      JUST IN: 🇸🇬 Singapore has introduced sanctions...            149   \n4      Make sure you check in on your bros in the str...             45   \n...                                                  ...            ...   \n12712  🎁 #NFTGiveaway 🎁\\n⚡️Ultra Rare Stud NFTs Comin...            483   \n12713  #ARIES. Felicidades. Con el #Sol y #Mercurio e...             77   \n12714  Get industry best interest % just for HODLing ...             24   \n12715  anti-emperyalizmi unutan, #Sol olmaktan çıkan ...             11   \n12716  The #Altcoin moon bag 🤝🚀:\\n\\n#KASTA (Q2 app de...             14   \n\n       favorite_count  followers_count  verified  listed_count  \\\n0                 520          2437101      True         10788   \n1                 245          2437101      True         10788   \n2                 245          2437101      True         10788   \n3                1043           708057      True          1449   \n4                 149             7822      True            80   \n...               ...              ...       ...           ...   \n12712             608           176702      True            33   \n12713             428           373077      True           414   \n12714              69            41535      True           510   \n12715              40            46885      True            75   \n12716              73            81277      True           517   \n\n                           created_at  \\\n0           2022-03-05 09:33:07+00:00   \n1           2022-03-05 12:03:14+00:00   \n2           2022-03-05 13:33:29+00:00   \n3           2022-03-05 11:01:13+00:00   \n4           2022-03-05 14:45:25+00:00   \n...                               ...   \n12712  Mon Apr 04 13:16:59 +0000 2022   \n12713  Mon Apr 04 09:42:27 +0000 2022   \n12714  Mon Apr 04 07:00:29 +0000 2022   \n12715  Mon Apr 04 15:20:52 +0000 2022   \n12716  Mon Apr 04 08:54:28 +0000 2022   \n\n                                                hashtags               name  \n0              [{'text': 'crypto', 'indices': [61, 68]}]       Bitcoin News  \n1               [{'text': 'crypto', 'indices': [5, 12]}]       Bitcoin News  \n2      [{'text': 'cryptocurrency', 'indices': [88, 10...       Bitcoin News  \n3      [{'text': 'cryptocurrency', 'indices': [77, 92]}]       Watcher.Guru  \n4                                                     []       Ian Heinisch  \n...                                                  ...                ...  \n12712  [{'text': 'NFTGiveaway', 'indices': [2, 14]}, ...               LOVE  \n12713  [{'text': 'ARIES', 'indices': [0, 6]}, {'text'...   Esperanza Gracia  \n12714           [{'text': 'BTC', 'indices': [108, 112]}]              Wirex  \n12715             [{'text': 'Sol', 'indices': [26, 30]}]  Şerafettin Turpcu  \n12716  [{'text': 'Altcoin', 'indices': [4, 12]}, {'te...        Crypto King  \n\n[12717 rows x 11 columns]",
      "text/html": "<div>\n<style scoped>\n    .dataframe tbody tr th:only-of-type {\n        vertical-align: middle;\n    }\n\n    .dataframe tbody tr th {\n        vertical-align: top;\n    }\n\n    .dataframe thead th {\n        text-align: right;\n    }\n</style>\n<table border=\"1\" class=\"dataframe\">\n  <thead>\n    <tr style=\"text-align: right;\">\n      <th></th>\n      <th>Unnamed: 0</th>\n      <th>Unnamed: 0.1</th>\n      <th>text</th>\n      <th>retweet_count</th>\n      <th>favorite_count</th>\n      <th>followers_count</th>\n      <th>verified</th>\n      <th>listed_count</th>\n      <th>created_at</th>\n      <th>hashtags</th>\n      <th>name</th>\n    </tr>\n  </thead>\n  <tbody>\n    <tr>\n      <th>0</th>\n      <td>0</td>\n      <td>0.0</td>\n      <td>\"It is an open ledger, trying to sneak lots of...</td>\n      <td>151</td>\n      <td>520</td>\n      <td>2437101</td>\n      <td>True</td>\n      <td>10788</td>\n      <td>2022-03-05 09:33:07+00:00</td>\n      <td>[{'text': 'crypto', 'indices': [61, 68]}]</td>\n      <td>Bitcoin News</td>\n    </tr>\n    <tr>\n      <th>1</th>\n      <td>1</td>\n      <td>1.0</td>\n      <td>“The #crypto market today has a market capital...</td>\n      <td>87</td>\n      <td>245</td>\n      <td>2437101</td>\n      <td>True</td>\n      <td>10788</td>\n      <td>2022-03-05 12:03:14+00:00</td>\n      <td>[{'text': 'crypto', 'indices': [5, 12]}]</td>\n      <td>Bitcoin News</td>\n    </tr>\n    <tr>\n      <th>2</th>\n      <td>2</td>\n      <td>2.0</td>\n      <td>G7 countries and the EU are looking at ways to...</td>\n      <td>95</td>\n      <td>245</td>\n      <td>2437101</td>\n      <td>True</td>\n      <td>10788</td>\n      <td>2022-03-05 13:33:29+00:00</td>\n      <td>[{'text': 'cryptocurrency', 'indices': [88, 10...</td>\n      <td>Bitcoin News</td>\n    </tr>\n    <tr>\n      <th>3</th>\n      <td>3</td>\n      <td>3.0</td>\n      <td>JUST IN: 🇸🇬 Singapore has introduced sanctions...</td>\n      <td>149</td>\n      <td>1043</td>\n      <td>708057</td>\n      <td>True</td>\n      <td>1449</td>\n      <td>2022-03-05 11:01:13+00:00</td>\n      <td>[{'text': 'cryptocurrency', 'indices': [77, 92]}]</td>\n      <td>Watcher.Guru</td>\n    </tr>\n    <tr>\n      <th>4</th>\n      <td>4</td>\n      <td>4.0</td>\n      <td>Make sure you check in on your bros in the str...</td>\n      <td>45</td>\n      <td>149</td>\n      <td>7822</td>\n      <td>True</td>\n      <td>80</td>\n      <td>2022-03-05 14:45:25+00:00</td>\n      <td>[]</td>\n      <td>Ian Heinisch</td>\n    </tr>\n    <tr>\n      <th>...</th>\n      <td>...</td>\n      <td>...</td>\n      <td>...</td>\n      <td>...</td>\n      <td>...</td>\n      <td>...</td>\n      <td>...</td>\n      <td>...</td>\n      <td>...</td>\n      <td>...</td>\n      <td>...</td>\n    </tr>\n    <tr>\n      <th>12712</th>\n      <td>766</td>\n      <td>NaN</td>\n      <td>🎁 #NFTGiveaway 🎁\\n⚡️Ultra Rare Stud NFTs Comin...</td>\n      <td>483</td>\n      <td>608</td>\n      <td>176702</td>\n      <td>True</td>\n      <td>33</td>\n      <td>Mon Apr 04 13:16:59 +0000 2022</td>\n      <td>[{'text': 'NFTGiveaway', 'indices': [2, 14]}, ...</td>\n      <td>LOVE</td>\n    </tr>\n    <tr>\n      <th>12713</th>\n      <td>767</td>\n      <td>NaN</td>\n      <td>#ARIES. Felicidades. Con el #Sol y #Mercurio e...</td>\n      <td>77</td>\n      <td>428</td>\n      <td>373077</td>\n      <td>True</td>\n      <td>414</td>\n      <td>Mon Apr 04 09:42:27 +0000 2022</td>\n      <td>[{'text': 'ARIES', 'indices': [0, 6]}, {'text'...</td>\n      <td>Esperanza Gracia</td>\n    </tr>\n    <tr>\n      <th>12714</th>\n      <td>768</td>\n      <td>NaN</td>\n      <td>Get industry best interest % just for HODLing ...</td>\n      <td>24</td>\n      <td>69</td>\n      <td>41535</td>\n      <td>True</td>\n      <td>510</td>\n      <td>Mon Apr 04 07:00:29 +0000 2022</td>\n      <td>[{'text': 'BTC', 'indices': [108, 112]}]</td>\n      <td>Wirex</td>\n    </tr>\n    <tr>\n      <th>12715</th>\n      <td>769</td>\n      <td>NaN</td>\n      <td>anti-emperyalizmi unutan, #Sol olmaktan çıkan ...</td>\n      <td>11</td>\n      <td>40</td>\n      <td>46885</td>\n      <td>True</td>\n      <td>75</td>\n      <td>Mon Apr 04 15:20:52 +0000 2022</td>\n      <td>[{'text': 'Sol', 'indices': [26, 30]}]</td>\n      <td>Şerafettin Turpcu</td>\n    </tr>\n    <tr>\n      <th>12716</th>\n      <td>770</td>\n      <td>NaN</td>\n      <td>The #Altcoin moon bag 🤝🚀:\\n\\n#KASTA (Q2 app de...</td>\n      <td>14</td>\n      <td>73</td>\n      <td>81277</td>\n      <td>True</td>\n      <td>517</td>\n      <td>Mon Apr 04 08:54:28 +0000 2022</td>\n      <td>[{'text': 'Altcoin', 'indices': [4, 12]}, {'te...</td>\n      <td>Crypto King</td>\n    </tr>\n  </tbody>\n</table>\n<p>12717 rows × 11 columns</p>\n</div>"
     },
     "execution_count": 13,
     "metadata": {},
     "output_type": "execute_result"
    }
   ],
   "source": [
    "data = pd.concat(\n",
    "    map(pd.read_csv, ['tweets_2022_03_05-2022_03_11.csv', 'tweets_2022_03_28-2022_04_04.csv']), ignore_index=True)\n",
    "data.to_csv(\"tweets_2022_03_05-2022_03_11_and_2022_03_28-2022_04_04.csv\")\n",
    "data"
   ],
   "metadata": {
    "collapsed": false,
    "pycharm": {
     "name": "#%%\n"
    }
   }
  },
  {
   "cell_type": "markdown",
   "source": [
    "## Clean Tweets"
   ],
   "metadata": {
    "collapsed": false
   }
  },
  {
   "cell_type": "code",
   "execution_count": 14,
   "outputs": [
    {
     "data": {
      "text/plain": "   tweet_id          name  verified                 created_at  retweet_count  \\\n0         0  Bitcoin News      True  2022-03-05 09:33:07+00:00            151   \n1         1  Bitcoin News      True  2022-03-05 12:03:14+00:00             87   \n2         2  Bitcoin News      True  2022-03-05 13:33:29+00:00             95   \n3         3  Watcher.Guru      True  2022-03-05 11:01:13+00:00            149   \n4         4  Ian Heinisch      True  2022-03-05 14:45:25+00:00             45   \n\n   favorite_count  followers_count  \\\n0             520          2437101   \n1             245          2437101   \n2             245          2437101   \n3            1043           708057   \n4             149             7822   \n\n                                            hashtags  \\\n0          [{'text': 'crypto', 'indices': [61, 68]}]   \n1           [{'text': 'crypto', 'indices': [5, 12]}]   \n2  [{'text': 'cryptocurrency', 'indices': [88, 10...   \n3  [{'text': 'cryptocurrency', 'indices': [77, 92]}]   \n4                                                 []   \n\n                                                text  \n0  \"It is an open ledger, trying to sneak lots of...  \n1  “The #crypto market today has a market capital...  \n2  G7 countries and the EU are looking at ways to...  \n3  JUST IN: 🇸🇬 Singapore has introduced sanctions...  \n4  Make sure you check in on your bros in the str...  ",
      "text/html": "<div>\n<style scoped>\n    .dataframe tbody tr th:only-of-type {\n        vertical-align: middle;\n    }\n\n    .dataframe tbody tr th {\n        vertical-align: top;\n    }\n\n    .dataframe thead th {\n        text-align: right;\n    }\n</style>\n<table border=\"1\" class=\"dataframe\">\n  <thead>\n    <tr style=\"text-align: right;\">\n      <th></th>\n      <th>tweet_id</th>\n      <th>name</th>\n      <th>verified</th>\n      <th>created_at</th>\n      <th>retweet_count</th>\n      <th>favorite_count</th>\n      <th>followers_count</th>\n      <th>hashtags</th>\n      <th>text</th>\n    </tr>\n  </thead>\n  <tbody>\n    <tr>\n      <th>0</th>\n      <td>0</td>\n      <td>Bitcoin News</td>\n      <td>True</td>\n      <td>2022-03-05 09:33:07+00:00</td>\n      <td>151</td>\n      <td>520</td>\n      <td>2437101</td>\n      <td>[{'text': 'crypto', 'indices': [61, 68]}]</td>\n      <td>\"It is an open ledger, trying to sneak lots of...</td>\n    </tr>\n    <tr>\n      <th>1</th>\n      <td>1</td>\n      <td>Bitcoin News</td>\n      <td>True</td>\n      <td>2022-03-05 12:03:14+00:00</td>\n      <td>87</td>\n      <td>245</td>\n      <td>2437101</td>\n      <td>[{'text': 'crypto', 'indices': [5, 12]}]</td>\n      <td>“The #crypto market today has a market capital...</td>\n    </tr>\n    <tr>\n      <th>2</th>\n      <td>2</td>\n      <td>Bitcoin News</td>\n      <td>True</td>\n      <td>2022-03-05 13:33:29+00:00</td>\n      <td>95</td>\n      <td>245</td>\n      <td>2437101</td>\n      <td>[{'text': 'cryptocurrency', 'indices': [88, 10...</td>\n      <td>G7 countries and the EU are looking at ways to...</td>\n    </tr>\n    <tr>\n      <th>3</th>\n      <td>3</td>\n      <td>Watcher.Guru</td>\n      <td>True</td>\n      <td>2022-03-05 11:01:13+00:00</td>\n      <td>149</td>\n      <td>1043</td>\n      <td>708057</td>\n      <td>[{'text': 'cryptocurrency', 'indices': [77, 92]}]</td>\n      <td>JUST IN: 🇸🇬 Singapore has introduced sanctions...</td>\n    </tr>\n    <tr>\n      <th>4</th>\n      <td>4</td>\n      <td>Ian Heinisch</td>\n      <td>True</td>\n      <td>2022-03-05 14:45:25+00:00</td>\n      <td>45</td>\n      <td>149</td>\n      <td>7822</td>\n      <td>[]</td>\n      <td>Make sure you check in on your bros in the str...</td>\n    </tr>\n  </tbody>\n</table>\n</div>"
     },
     "execution_count": 14,
     "metadata": {},
     "output_type": "execute_result"
    }
   ],
   "source": [
    "text_data = data[['Unnamed: 0', 'name','verified', 'created_at', 'retweet_count', 'favorite_count', 'followers_count','hashtags', 'text']]\n",
    "text_data = text_data.rename(columns = {'Unnamed: 0': 'tweet_id'})\n",
    "text_data.head()"
   ],
   "metadata": {
    "collapsed": false,
    "pycharm": {
     "name": "#%%\n"
    }
   }
  },
  {
   "cell_type": "code",
   "execution_count": 15,
   "outputs": [],
   "source": [
    "punctuation = string.punctuation\n",
    "punctuation = punctuation.replace(\"#\", \"\")\n",
    "punctuation = punctuation.replace(\"@\", \"\")\n",
    "def remove_punctuation(text):\n",
    "    punctuationfree=\"\".join([i for i in text if i not in punctuation])\n",
    "    return punctuationfree"
   ],
   "metadata": {
    "collapsed": false,
    "pycharm": {
     "name": "#%%\n"
    }
   }
  },
  {
   "cell_type": "code",
   "execution_count": 16,
   "outputs": [],
   "source": [
    "def tokenization(text):\n",
    "    tokens = re.split('\\W+',text)\n",
    "    return tokens"
   ],
   "metadata": {
    "collapsed": false,
    "pycharm": {
     "name": "#%%\n"
    }
   }
  },
  {
   "cell_type": "code",
   "execution_count": 17,
   "outputs": [
    {
     "name": "stderr",
     "output_type": "stream",
     "text": [
      "[nltk_data] Downloading package stopwords to\n",
      "[nltk_data]     C:\\Users\\leigh\\AppData\\Roaming\\nltk_data...\n",
      "[nltk_data]   Package stopwords is already up-to-date!\n"
     ]
    }
   ],
   "source": [
    "nltk.download('stopwords')\n",
    "stopwords = nltk.corpus.stopwords.words('english')\n",
    "\n",
    "def remove_stopwords(text):\n",
    "    output= [i for i in text if i not in stopwords]\n",
    "    return output"
   ],
   "metadata": {
    "collapsed": false,
    "pycharm": {
     "name": "#%%\n"
    }
   }
  },
  {
   "cell_type": "code",
   "execution_count": 18,
   "outputs": [
    {
     "name": "stderr",
     "output_type": "stream",
     "text": [
      "[nltk_data] Downloading package wordnet to\n",
      "[nltk_data]     C:\\Users\\leigh\\AppData\\Roaming\\nltk_data...\n",
      "[nltk_data]   Package wordnet is already up-to-date!\n"
     ]
    }
   ],
   "source": [
    "nltk.download('wordnet')\n",
    "wordnet_lemmatizer = WordNetLemmatizer()\n",
    "\n",
    "def lemmatizer(text):\n",
    "    lemm_text = [wordnet_lemmatizer.lemmatize(word) for word in text]\n",
    "    return lemm_text"
   ],
   "metadata": {
    "collapsed": false,
    "pycharm": {
     "name": "#%%\n"
    }
   }
  },
  {
   "cell_type": "code",
   "execution_count": 19,
   "outputs": [],
   "source": [
    "def clean_text(text):\n",
    "    text['clean_text']= text['text'].apply(lambda x:remove_punctuation(x))\n",
    "    text['clean_text']= text['clean_text'].apply(lambda x: x.lower())\n",
    "    text['clean_text']= text['clean_text'].apply(lambda x: tokenization(x))\n",
    "    text['clean_text']= text['clean_text'].apply(lambda x:remove_stopwords(x))\n",
    "    text['clean_text']= text['clean_text'].apply(lambda x:lemmatizer(x))\n",
    "    clean = text\n",
    "    return clean"
   ],
   "metadata": {
    "collapsed": false,
    "pycharm": {
     "name": "#%%\n"
    }
   }
  },
  {
   "cell_type": "code",
   "execution_count": 20,
   "outputs": [
    {
     "data": {
      "text/plain": "   tweet_id          name  verified                 created_at  retweet_count  \\\n0         0  Bitcoin News      True  2022-03-05 09:33:07+00:00            151   \n1         1  Bitcoin News      True  2022-03-05 12:03:14+00:00             87   \n2         2  Bitcoin News      True  2022-03-05 13:33:29+00:00             95   \n3         3  Watcher.Guru      True  2022-03-05 11:01:13+00:00            149   \n4         4  Ian Heinisch      True  2022-03-05 14:45:25+00:00             45   \n\n   favorite_count  followers_count  \\\n0             520          2437101   \n1             245          2437101   \n2             245          2437101   \n3            1043           708057   \n4             149             7822   \n\n                                            hashtags  \\\n0          [{'text': 'crypto', 'indices': [61, 68]}]   \n1           [{'text': 'crypto', 'indices': [5, 12]}]   \n2  [{'text': 'cryptocurrency', 'indices': [88, 10...   \n3  [{'text': 'cryptocurrency', 'indices': [77, 92]}]   \n4                                                 []   \n\n                                                text  \\\n0  \"It is an open ledger, trying to sneak lots of...   \n1  “The #crypto market today has a market capital...   \n2  G7 countries and the EU are looking at ways to...   \n3  JUST IN: 🇸🇬 Singapore has introduced sanctions...   \n4  Make sure you check in on your bros in the str...   \n\n                                          clean_text  \n0  [open, ledger, trying, sneak, lot, money, cryp...  \n1  [, crypto, market, today, market, capitalizati...  \n2  [g7, country, eu, looking, way, stop, russia, ...  \n3  [singapore, introduced, sanction, russian, cen...  \n4  [make, sure, check, bros, struggle, never, kno...  ",
      "text/html": "<div>\n<style scoped>\n    .dataframe tbody tr th:only-of-type {\n        vertical-align: middle;\n    }\n\n    .dataframe tbody tr th {\n        vertical-align: top;\n    }\n\n    .dataframe thead th {\n        text-align: right;\n    }\n</style>\n<table border=\"1\" class=\"dataframe\">\n  <thead>\n    <tr style=\"text-align: right;\">\n      <th></th>\n      <th>tweet_id</th>\n      <th>name</th>\n      <th>verified</th>\n      <th>created_at</th>\n      <th>retweet_count</th>\n      <th>favorite_count</th>\n      <th>followers_count</th>\n      <th>hashtags</th>\n      <th>text</th>\n      <th>clean_text</th>\n    </tr>\n  </thead>\n  <tbody>\n    <tr>\n      <th>0</th>\n      <td>0</td>\n      <td>Bitcoin News</td>\n      <td>True</td>\n      <td>2022-03-05 09:33:07+00:00</td>\n      <td>151</td>\n      <td>520</td>\n      <td>2437101</td>\n      <td>[{'text': 'crypto', 'indices': [61, 68]}]</td>\n      <td>\"It is an open ledger, trying to sneak lots of...</td>\n      <td>[open, ledger, trying, sneak, lot, money, cryp...</td>\n    </tr>\n    <tr>\n      <th>1</th>\n      <td>1</td>\n      <td>Bitcoin News</td>\n      <td>True</td>\n      <td>2022-03-05 12:03:14+00:00</td>\n      <td>87</td>\n      <td>245</td>\n      <td>2437101</td>\n      <td>[{'text': 'crypto', 'indices': [5, 12]}]</td>\n      <td>“The #crypto market today has a market capital...</td>\n      <td>[, crypto, market, today, market, capitalizati...</td>\n    </tr>\n    <tr>\n      <th>2</th>\n      <td>2</td>\n      <td>Bitcoin News</td>\n      <td>True</td>\n      <td>2022-03-05 13:33:29+00:00</td>\n      <td>95</td>\n      <td>245</td>\n      <td>2437101</td>\n      <td>[{'text': 'cryptocurrency', 'indices': [88, 10...</td>\n      <td>G7 countries and the EU are looking at ways to...</td>\n      <td>[g7, country, eu, looking, way, stop, russia, ...</td>\n    </tr>\n    <tr>\n      <th>3</th>\n      <td>3</td>\n      <td>Watcher.Guru</td>\n      <td>True</td>\n      <td>2022-03-05 11:01:13+00:00</td>\n      <td>149</td>\n      <td>1043</td>\n      <td>708057</td>\n      <td>[{'text': 'cryptocurrency', 'indices': [77, 92]}]</td>\n      <td>JUST IN: 🇸🇬 Singapore has introduced sanctions...</td>\n      <td>[singapore, introduced, sanction, russian, cen...</td>\n    </tr>\n    <tr>\n      <th>4</th>\n      <td>4</td>\n      <td>Ian Heinisch</td>\n      <td>True</td>\n      <td>2022-03-05 14:45:25+00:00</td>\n      <td>45</td>\n      <td>149</td>\n      <td>7822</td>\n      <td>[]</td>\n      <td>Make sure you check in on your bros in the str...</td>\n      <td>[make, sure, check, bros, struggle, never, kno...</td>\n    </tr>\n  </tbody>\n</table>\n</div>"
     },
     "execution_count": 20,
     "metadata": {},
     "output_type": "execute_result"
    }
   ],
   "source": [
    "text_data = clean_text(text_data)\n",
    "text_data.head()"
   ],
   "metadata": {
    "collapsed": false,
    "pycharm": {
     "name": "#%%\n"
    }
   }
  },
  {
   "cell_type": "code",
   "execution_count": 21,
   "outputs": [
    {
     "name": "stdout",
     "output_type": "stream",
     "text": [
      "<class 'pandas.core.frame.DataFrame'>\n",
      "RangeIndex: 12717 entries, 0 to 12716\n",
      "Data columns (total 10 columns):\n",
      " #   Column           Non-Null Count  Dtype \n",
      "---  ------           --------------  ----- \n",
      " 0   tweet_id         12717 non-null  int64 \n",
      " 1   name             12717 non-null  object\n",
      " 2   verified         12717 non-null  bool  \n",
      " 3   created_at       12717 non-null  object\n",
      " 4   retweet_count    12717 non-null  int64 \n",
      " 5   favorite_count   12717 non-null  int64 \n",
      " 6   followers_count  12717 non-null  int64 \n",
      " 7   hashtags         12717 non-null  object\n",
      " 8   text             12717 non-null  object\n",
      " 9   clean_text       12717 non-null  object\n",
      "dtypes: bool(1), int64(4), object(5)\n",
      "memory usage: 906.7+ KB\n"
     ]
    }
   ],
   "source": [
    "text_data.info()"
   ],
   "metadata": {
    "collapsed": false,
    "pycharm": {
     "name": "#%%\n"
    }
   }
  },
  {
   "cell_type": "markdown",
   "source": [
    "## Sentiment Analysis"
   ],
   "metadata": {
    "collapsed": false
   }
  },
  {
   "cell_type": "code",
   "execution_count": 22,
   "outputs": [],
   "source": [
    "def textblob_polarity(text):\n",
    "    return TextBlob(text).sentiment.polarity"
   ],
   "metadata": {
    "collapsed": false,
    "pycharm": {
     "name": "#%%\n"
    }
   }
  },
  {
   "cell_type": "code",
   "execution_count": 23,
   "outputs": [],
   "source": [
    "text_data['textblob_sentiment'] = text_data['clean_text'].astype('str').apply(textblob_polarity)"
   ],
   "metadata": {
    "collapsed": false,
    "pycharm": {
     "name": "#%%\n"
    }
   }
  },
  {
   "cell_type": "code",
   "execution_count": 24,
   "outputs": [],
   "source": [
    "def textblob_sentiment_summary(text):\n",
    "    sentiment = \"Neutral\"\n",
    "    if text > 0 :\n",
    "        sentiment = \"Positive\"\n",
    "    elif text < 0 :\n",
    "        sentiment = \"Negative\"\n",
    "    return sentiment"
   ],
   "metadata": {
    "collapsed": false,
    "pycharm": {
     "name": "#%%\n"
    }
   }
  },
  {
   "cell_type": "code",
   "execution_count": 25,
   "outputs": [],
   "source": [
    "text_data['textblob_summary'] = text_data['textblob_sentiment'].apply(lambda x: textblob_sentiment_summary(x))"
   ],
   "metadata": {
    "collapsed": false,
    "pycharm": {
     "name": "#%%\n"
    }
   }
  },
  {
   "cell_type": "code",
   "execution_count": 26,
   "outputs": [
    {
     "data": {
      "text/plain": "   tweet_id          name  verified                 created_at  retweet_count  \\\n0         0  Bitcoin News      True  2022-03-05 09:33:07+00:00            151   \n1         1  Bitcoin News      True  2022-03-05 12:03:14+00:00             87   \n2         2  Bitcoin News      True  2022-03-05 13:33:29+00:00             95   \n3         3  Watcher.Guru      True  2022-03-05 11:01:13+00:00            149   \n4         4  Ian Heinisch      True  2022-03-05 14:45:25+00:00             45   \n\n   favorite_count  followers_count  \\\n0             520          2437101   \n1             245          2437101   \n2             245          2437101   \n3            1043           708057   \n4             149             7822   \n\n                                            hashtags  \\\n0          [{'text': 'crypto', 'indices': [61, 68]}]   \n1           [{'text': 'crypto', 'indices': [5, 12]}]   \n2  [{'text': 'cryptocurrency', 'indices': [88, 10...   \n3  [{'text': 'cryptocurrency', 'indices': [77, 92]}]   \n4                                                 []   \n\n                                                text  \\\n0  \"It is an open ledger, trying to sneak lots of...   \n1  “The #crypto market today has a market capital...   \n2  G7 countries and the EU are looking at ways to...   \n3  JUST IN: 🇸🇬 Singapore has introduced sanctions...   \n4  Make sure you check in on your bros in the str...   \n\n                                          clean_text  textblob_sentiment  \\\n0  [open, ledger, trying, sneak, lot, money, cryp...                 0.0   \n1  [, crypto, market, today, market, capitalizati...                -0.2   \n2  [g7, country, eu, looking, way, stop, russia, ...                 0.0   \n3  [singapore, introduced, sanction, russian, cen...                 0.0   \n4  [make, sure, check, bros, struggle, never, kno...                 0.5   \n\n  textblob_summary  \n0          Neutral  \n1         Negative  \n2          Neutral  \n3          Neutral  \n4         Positive  ",
      "text/html": "<div>\n<style scoped>\n    .dataframe tbody tr th:only-of-type {\n        vertical-align: middle;\n    }\n\n    .dataframe tbody tr th {\n        vertical-align: top;\n    }\n\n    .dataframe thead th {\n        text-align: right;\n    }\n</style>\n<table border=\"1\" class=\"dataframe\">\n  <thead>\n    <tr style=\"text-align: right;\">\n      <th></th>\n      <th>tweet_id</th>\n      <th>name</th>\n      <th>verified</th>\n      <th>created_at</th>\n      <th>retweet_count</th>\n      <th>favorite_count</th>\n      <th>followers_count</th>\n      <th>hashtags</th>\n      <th>text</th>\n      <th>clean_text</th>\n      <th>textblob_sentiment</th>\n      <th>textblob_summary</th>\n    </tr>\n  </thead>\n  <tbody>\n    <tr>\n      <th>0</th>\n      <td>0</td>\n      <td>Bitcoin News</td>\n      <td>True</td>\n      <td>2022-03-05 09:33:07+00:00</td>\n      <td>151</td>\n      <td>520</td>\n      <td>2437101</td>\n      <td>[{'text': 'crypto', 'indices': [61, 68]}]</td>\n      <td>\"It is an open ledger, trying to sneak lots of...</td>\n      <td>[open, ledger, trying, sneak, lot, money, cryp...</td>\n      <td>0.0</td>\n      <td>Neutral</td>\n    </tr>\n    <tr>\n      <th>1</th>\n      <td>1</td>\n      <td>Bitcoin News</td>\n      <td>True</td>\n      <td>2022-03-05 12:03:14+00:00</td>\n      <td>87</td>\n      <td>245</td>\n      <td>2437101</td>\n      <td>[{'text': 'crypto', 'indices': [5, 12]}]</td>\n      <td>“The #crypto market today has a market capital...</td>\n      <td>[, crypto, market, today, market, capitalizati...</td>\n      <td>-0.2</td>\n      <td>Negative</td>\n    </tr>\n    <tr>\n      <th>2</th>\n      <td>2</td>\n      <td>Bitcoin News</td>\n      <td>True</td>\n      <td>2022-03-05 13:33:29+00:00</td>\n      <td>95</td>\n      <td>245</td>\n      <td>2437101</td>\n      <td>[{'text': 'cryptocurrency', 'indices': [88, 10...</td>\n      <td>G7 countries and the EU are looking at ways to...</td>\n      <td>[g7, country, eu, looking, way, stop, russia, ...</td>\n      <td>0.0</td>\n      <td>Neutral</td>\n    </tr>\n    <tr>\n      <th>3</th>\n      <td>3</td>\n      <td>Watcher.Guru</td>\n      <td>True</td>\n      <td>2022-03-05 11:01:13+00:00</td>\n      <td>149</td>\n      <td>1043</td>\n      <td>708057</td>\n      <td>[{'text': 'cryptocurrency', 'indices': [77, 92]}]</td>\n      <td>JUST IN: 🇸🇬 Singapore has introduced sanctions...</td>\n      <td>[singapore, introduced, sanction, russian, cen...</td>\n      <td>0.0</td>\n      <td>Neutral</td>\n    </tr>\n    <tr>\n      <th>4</th>\n      <td>4</td>\n      <td>Ian Heinisch</td>\n      <td>True</td>\n      <td>2022-03-05 14:45:25+00:00</td>\n      <td>45</td>\n      <td>149</td>\n      <td>7822</td>\n      <td>[]</td>\n      <td>Make sure you check in on your bros in the str...</td>\n      <td>[make, sure, check, bros, struggle, never, kno...</td>\n      <td>0.5</td>\n      <td>Positive</td>\n    </tr>\n  </tbody>\n</table>\n</div>"
     },
     "execution_count": 26,
     "metadata": {},
     "output_type": "execute_result"
    }
   ],
   "source": [
    "text_data.head()"
   ],
   "metadata": {
    "collapsed": false,
    "pycharm": {
     "name": "#%%\n"
    }
   }
  },
  {
   "cell_type": "code",
   "execution_count": 27,
   "outputs": [
    {
     "name": "stderr",
     "output_type": "stream",
     "text": [
      "[nltk_data] Downloading package vader_lexicon to\n",
      "[nltk_data]     C:\\Users\\leigh\\AppData\\Roaming\\nltk_data...\n",
      "[nltk_data]   Package vader_lexicon is already up-to-date!\n"
     ]
    }
   ],
   "source": [
    "nltk.download('vader_lexicon')\n",
    "sid = SentimentIntensityAnalyzer()"
   ],
   "metadata": {
    "collapsed": false,
    "pycharm": {
     "name": "#%%\n"
    }
   }
  },
  {
   "cell_type": "code",
   "execution_count": 28,
   "outputs": [],
   "source": [
    "text_data['vader_sentiment_pos'] = (text_data['clean_text'].astype('str')).apply(lambda x: sid.polarity_scores(x)['pos'])\n",
    "text_data['vader_sentiment_neg'] = (text_data['clean_text'].astype('str')).apply(lambda x: sid.polarity_scores(x)['neg'])\n",
    "text_data['vader_sentiment_neu'] = (text_data['clean_text'].astype('str')).apply(lambda x: sid.polarity_scores(x)['neu'])\n",
    "text_data['vader_sentiment_compound'] = (text_data['clean_text'].astype('str')).apply(lambda x: sid.polarity_scores(x)['compound'])"
   ],
   "metadata": {
    "collapsed": false,
    "pycharm": {
     "name": "#%%\n"
    }
   }
  },
  {
   "cell_type": "code",
   "execution_count": 29,
   "outputs": [],
   "source": [
    "def vader_sentiment_summary(text):\n",
    "    sentiment = \"Neutral\"\n",
    "    if text >= 0.05 :\n",
    "        sentiment = \"Positive\"\n",
    "    elif text <= - 0.05 :\n",
    "        sentiment = \"Negative\"\n",
    "    return sentiment"
   ],
   "metadata": {
    "collapsed": false,
    "pycharm": {
     "name": "#%%\n"
    }
   }
  },
  {
   "cell_type": "code",
   "execution_count": 30,
   "outputs": [],
   "source": [
    "text_data['vader_summary'] = text_data['vader_sentiment_compound'].apply(lambda x: vader_sentiment_summary(x))"
   ],
   "metadata": {
    "collapsed": false,
    "pycharm": {
     "name": "#%%\n"
    }
   }
  },
  {
   "cell_type": "code",
   "execution_count": 31,
   "outputs": [
    {
     "name": "stdout",
     "output_type": "stream",
     "text": [
      "<class 'pandas.core.frame.DataFrame'>\n",
      "RangeIndex: 12717 entries, 0 to 12716\n",
      "Data columns (total 17 columns):\n",
      " #   Column                    Non-Null Count  Dtype  \n",
      "---  ------                    --------------  -----  \n",
      " 0   tweet_id                  12717 non-null  int64  \n",
      " 1   name                      12717 non-null  object \n",
      " 2   verified                  12717 non-null  bool   \n",
      " 3   created_at                12717 non-null  object \n",
      " 4   retweet_count             12717 non-null  int64  \n",
      " 5   favorite_count            12717 non-null  int64  \n",
      " 6   followers_count           12717 non-null  int64  \n",
      " 7   hashtags                  12717 non-null  object \n",
      " 8   text                      12717 non-null  object \n",
      " 9   clean_text                12717 non-null  object \n",
      " 10  textblob_sentiment        12717 non-null  float64\n",
      " 11  textblob_summary          12717 non-null  object \n",
      " 12  vader_sentiment_pos       12717 non-null  float64\n",
      " 13  vader_sentiment_neg       12717 non-null  float64\n",
      " 14  vader_sentiment_neu       12717 non-null  float64\n",
      " 15  vader_sentiment_compound  12717 non-null  float64\n",
      " 16  vader_summary             12717 non-null  object \n",
      "dtypes: bool(1), float64(5), int64(4), object(7)\n",
      "memory usage: 1.6+ MB\n"
     ]
    }
   ],
   "source": [
    "text_data.info()"
   ],
   "metadata": {
    "collapsed": false,
    "pycharm": {
     "name": "#%%\n"
    }
   }
  },
  {
   "cell_type": "markdown",
   "source": [
    "## Saving Analysis per Coin"
   ],
   "metadata": {
    "collapsed": false
   }
  },
  {
   "cell_type": "code",
   "execution_count": 32,
   "outputs": [],
   "source": [
    "bitcoin_sentiment = text_data[text_data['text'].str.contains('bitcoin|BTC')]\n",
    "ethereum_sentiment = text_data[text_data['text'].str.contains('ethereum|ETH')]\n",
    "doge_sentiment = text_data[text_data['text'].str.contains('dogecoin|DOGE')]\n",
    "avalanche_sentiment = text_data[text_data['text'].str.contains('avalanche|AVAX')]\n",
    "solana_sentiment = text_data[text_data['text'].str.contains('solana|SOL')]\n",
    "crypto_sentiment = text_data[text_data['text'].str.contains('crypto|cryptocurrency|coin')]"
   ],
   "metadata": {
    "collapsed": false,
    "pycharm": {
     "name": "#%%\n"
    }
   }
  },
  {
   "cell_type": "code",
   "execution_count": 33,
   "outputs": [
    {
     "data": {
      "text/plain": "       tweet_id          name  verified                      created_at  \\\n15           15      The Moon      True       2022-03-05 16:55:01+00:00   \n23           23  Bitcoin News      True       2022-03-05 16:34:04+00:00   \n34           34      The Moon      True       2022-03-05 16:55:01+00:00   \n42           42  Bitcoin News      True       2022-03-05 16:34:04+00:00   \n57           57      The Moon      True       2022-03-05 16:55:01+00:00   \n...         ...           ...       ...                             ...   \n12701       755   Crypto Jack      True  Mon Apr 04 12:00:20 +0000 2022   \n12702       756         Wirex      True  Mon Apr 04 07:00:29 +0000 2022   \n12705       759           May      True  Mon Apr 04 08:15:18 +0000 2022   \n12706       760    LunarCrush      True  Mon Apr 04 02:08:30 +0000 2022   \n12714       768         Wirex      True  Mon Apr 04 07:00:29 +0000 2022   \n\n       retweet_count  favorite_count  followers_count  \\\n15               266            1776          1013020   \n23                90             267          2437101   \n34               266            1776          1013020   \n42                90             267          2437101   \n57               266            1776          1013020   \n...              ...             ...              ...   \n12701             76             396            31910   \n12702             24              69            41535   \n12705           1518            1605           158839   \n12706            147            1102           259474   \n12714             24              69            41535   \n\n                                                hashtags  \\\n15             [{'text': 'crypto', 'indices': [12, 19]}]   \n23     [{'text': 'bitcoin', 'indices': [81, 89]}, {'t...   \n34             [{'text': 'crypto', 'indices': [12, 19]}]   \n42     [{'text': 'bitcoin', 'indices': [81, 89]}, {'t...   \n57             [{'text': 'crypto', 'indices': [12, 19]}]   \n...                                                  ...   \n12701  [{'text': 'BTC', 'indices': [48, 52]}, {'text'...   \n12702           [{'text': 'BTC', 'indices': [108, 112]}]   \n12705  [{'text': 'Upril', 'indices': [18, 24]}, {'tex...   \n12706       [{'text': 'bitcoin', 'indices': [100, 108]}]   \n12714           [{'text': 'BTC', 'indices': [108, 112]}]   \n\n                                                    text  \\\n15     Choose your #crypto team:\\r\\n\\r\\nTeam 🅰️      ...   \n23     Shake Shack says participants will get 15% of ...   \n34     Choose your #crypto team:\\r\\n\\r\\nTeam 🅰️      ...   \n42     Shake Shack says participants will get 15% of ...   \n57     Choose your #crypto team:\\r\\n\\r\\nTeam 🅰️      ...   \n...                                                  ...   \n12701  Which Crypto project  you believe strongly ?🚀\\...   \n12702  Get industry best interest % just for HODLing ...   \n12705  Once again, Happy #Upril 😍\\nShill me your proj...   \n12706  🤔Which coins had the highest number of individ...   \n12714  Get industry best interest % just for HODLing ...   \n\n                                              clean_text  textblob_sentiment  \\\n15     [choose, crypto, team, team, team, btc, eth, m...            0.000000   \n23     [shake, shack, say, participant, get, 15, purc...            0.000000   \n34     [choose, crypto, team, team, team, btc, eth, m...            0.000000   \n42     [shake, shack, say, participant, get, 15, purc...            0.000000   \n57     [choose, crypto, team, team, team, btc, eth, m...            0.000000   \n...                                                  ...                 ...   \n12701  [crypto, project, believe, strongly, btc, bnb,...            0.433333   \n12702  [get, industry, best, interest, hodling, bag, ...            1.000000   \n12705  [happy, upril, shill, project, month, btc, cry...            0.800000   \n12706  [, coin, highest, number, individual, social, ...            0.016667   \n12714  [get, industry, best, interest, hodling, bag, ...            1.000000   \n\n      textblob_summary  vader_sentiment_pos  vader_sentiment_neg  \\\n15             Neutral                  0.0                  0.0   \n23             Neutral                  0.0                  0.0   \n34             Neutral                  0.0                  0.0   \n42             Neutral                  0.0                  0.0   \n57             Neutral                  0.0                  0.0   \n...                ...                  ...                  ...   \n12701         Positive                  0.0                  0.0   \n12702         Positive                  0.0                  0.0   \n12705         Positive                  0.0                  0.0   \n12706         Positive                  0.0                  0.0   \n12714         Positive                  0.0                  0.0   \n\n       vader_sentiment_neu  vader_sentiment_compound vader_summary  \n15                     1.0                       0.0       Neutral  \n23                     1.0                       0.0       Neutral  \n34                     1.0                       0.0       Neutral  \n42                     1.0                       0.0       Neutral  \n57                     1.0                       0.0       Neutral  \n...                    ...                       ...           ...  \n12701                  1.0                       0.0       Neutral  \n12702                  1.0                       0.0       Neutral  \n12705                  1.0                       0.0       Neutral  \n12706                  1.0                       0.0       Neutral  \n12714                  1.0                       0.0       Neutral  \n\n[2158 rows x 17 columns]",
      "text/html": "<div>\n<style scoped>\n    .dataframe tbody tr th:only-of-type {\n        vertical-align: middle;\n    }\n\n    .dataframe tbody tr th {\n        vertical-align: top;\n    }\n\n    .dataframe thead th {\n        text-align: right;\n    }\n</style>\n<table border=\"1\" class=\"dataframe\">\n  <thead>\n    <tr style=\"text-align: right;\">\n      <th></th>\n      <th>tweet_id</th>\n      <th>name</th>\n      <th>verified</th>\n      <th>created_at</th>\n      <th>retweet_count</th>\n      <th>favorite_count</th>\n      <th>followers_count</th>\n      <th>hashtags</th>\n      <th>text</th>\n      <th>clean_text</th>\n      <th>textblob_sentiment</th>\n      <th>textblob_summary</th>\n      <th>vader_sentiment_pos</th>\n      <th>vader_sentiment_neg</th>\n      <th>vader_sentiment_neu</th>\n      <th>vader_sentiment_compound</th>\n      <th>vader_summary</th>\n    </tr>\n  </thead>\n  <tbody>\n    <tr>\n      <th>15</th>\n      <td>15</td>\n      <td>The Moon</td>\n      <td>True</td>\n      <td>2022-03-05 16:55:01+00:00</td>\n      <td>266</td>\n      <td>1776</td>\n      <td>1013020</td>\n      <td>[{'text': 'crypto', 'indices': [12, 19]}]</td>\n      <td>Choose your #crypto team:\\r\\n\\r\\nTeam 🅰️      ...</td>\n      <td>[choose, crypto, team, team, team, btc, eth, m...</td>\n      <td>0.000000</td>\n      <td>Neutral</td>\n      <td>0.0</td>\n      <td>0.0</td>\n      <td>1.0</td>\n      <td>0.0</td>\n      <td>Neutral</td>\n    </tr>\n    <tr>\n      <th>23</th>\n      <td>23</td>\n      <td>Bitcoin News</td>\n      <td>True</td>\n      <td>2022-03-05 16:34:04+00:00</td>\n      <td>90</td>\n      <td>267</td>\n      <td>2437101</td>\n      <td>[{'text': 'bitcoin', 'indices': [81, 89]}, {'t...</td>\n      <td>Shake Shack says participants will get 15% of ...</td>\n      <td>[shake, shack, say, participant, get, 15, purc...</td>\n      <td>0.000000</td>\n      <td>Neutral</td>\n      <td>0.0</td>\n      <td>0.0</td>\n      <td>1.0</td>\n      <td>0.0</td>\n      <td>Neutral</td>\n    </tr>\n    <tr>\n      <th>34</th>\n      <td>34</td>\n      <td>The Moon</td>\n      <td>True</td>\n      <td>2022-03-05 16:55:01+00:00</td>\n      <td>266</td>\n      <td>1776</td>\n      <td>1013020</td>\n      <td>[{'text': 'crypto', 'indices': [12, 19]}]</td>\n      <td>Choose your #crypto team:\\r\\n\\r\\nTeam 🅰️      ...</td>\n      <td>[choose, crypto, team, team, team, btc, eth, m...</td>\n      <td>0.000000</td>\n      <td>Neutral</td>\n      <td>0.0</td>\n      <td>0.0</td>\n      <td>1.0</td>\n      <td>0.0</td>\n      <td>Neutral</td>\n    </tr>\n    <tr>\n      <th>42</th>\n      <td>42</td>\n      <td>Bitcoin News</td>\n      <td>True</td>\n      <td>2022-03-05 16:34:04+00:00</td>\n      <td>90</td>\n      <td>267</td>\n      <td>2437101</td>\n      <td>[{'text': 'bitcoin', 'indices': [81, 89]}, {'t...</td>\n      <td>Shake Shack says participants will get 15% of ...</td>\n      <td>[shake, shack, say, participant, get, 15, purc...</td>\n      <td>0.000000</td>\n      <td>Neutral</td>\n      <td>0.0</td>\n      <td>0.0</td>\n      <td>1.0</td>\n      <td>0.0</td>\n      <td>Neutral</td>\n    </tr>\n    <tr>\n      <th>57</th>\n      <td>57</td>\n      <td>The Moon</td>\n      <td>True</td>\n      <td>2022-03-05 16:55:01+00:00</td>\n      <td>266</td>\n      <td>1776</td>\n      <td>1013020</td>\n      <td>[{'text': 'crypto', 'indices': [12, 19]}]</td>\n      <td>Choose your #crypto team:\\r\\n\\r\\nTeam 🅰️      ...</td>\n      <td>[choose, crypto, team, team, team, btc, eth, m...</td>\n      <td>0.000000</td>\n      <td>Neutral</td>\n      <td>0.0</td>\n      <td>0.0</td>\n      <td>1.0</td>\n      <td>0.0</td>\n      <td>Neutral</td>\n    </tr>\n    <tr>\n      <th>...</th>\n      <td>...</td>\n      <td>...</td>\n      <td>...</td>\n      <td>...</td>\n      <td>...</td>\n      <td>...</td>\n      <td>...</td>\n      <td>...</td>\n      <td>...</td>\n      <td>...</td>\n      <td>...</td>\n      <td>...</td>\n      <td>...</td>\n      <td>...</td>\n      <td>...</td>\n      <td>...</td>\n      <td>...</td>\n    </tr>\n    <tr>\n      <th>12701</th>\n      <td>755</td>\n      <td>Crypto Jack</td>\n      <td>True</td>\n      <td>Mon Apr 04 12:00:20 +0000 2022</td>\n      <td>76</td>\n      <td>396</td>\n      <td>31910</td>\n      <td>[{'text': 'BTC', 'indices': [48, 52]}, {'text'...</td>\n      <td>Which Crypto project  you believe strongly ?🚀\\...</td>\n      <td>[crypto, project, believe, strongly, btc, bnb,...</td>\n      <td>0.433333</td>\n      <td>Positive</td>\n      <td>0.0</td>\n      <td>0.0</td>\n      <td>1.0</td>\n      <td>0.0</td>\n      <td>Neutral</td>\n    </tr>\n    <tr>\n      <th>12702</th>\n      <td>756</td>\n      <td>Wirex</td>\n      <td>True</td>\n      <td>Mon Apr 04 07:00:29 +0000 2022</td>\n      <td>24</td>\n      <td>69</td>\n      <td>41535</td>\n      <td>[{'text': 'BTC', 'indices': [108, 112]}]</td>\n      <td>Get industry best interest % just for HODLing ...</td>\n      <td>[get, industry, best, interest, hodling, bag, ...</td>\n      <td>1.000000</td>\n      <td>Positive</td>\n      <td>0.0</td>\n      <td>0.0</td>\n      <td>1.0</td>\n      <td>0.0</td>\n      <td>Neutral</td>\n    </tr>\n    <tr>\n      <th>12705</th>\n      <td>759</td>\n      <td>May</td>\n      <td>True</td>\n      <td>Mon Apr 04 08:15:18 +0000 2022</td>\n      <td>1518</td>\n      <td>1605</td>\n      <td>158839</td>\n      <td>[{'text': 'Upril', 'indices': [18, 24]}, {'tex...</td>\n      <td>Once again, Happy #Upril 😍\\nShill me your proj...</td>\n      <td>[happy, upril, shill, project, month, btc, cry...</td>\n      <td>0.800000</td>\n      <td>Positive</td>\n      <td>0.0</td>\n      <td>0.0</td>\n      <td>1.0</td>\n      <td>0.0</td>\n      <td>Neutral</td>\n    </tr>\n    <tr>\n      <th>12706</th>\n      <td>760</td>\n      <td>LunarCrush</td>\n      <td>True</td>\n      <td>Mon Apr 04 02:08:30 +0000 2022</td>\n      <td>147</td>\n      <td>1102</td>\n      <td>259474</td>\n      <td>[{'text': 'bitcoin', 'indices': [100, 108]}]</td>\n      <td>🤔Which coins had the highest number of individ...</td>\n      <td>[, coin, highest, number, individual, social, ...</td>\n      <td>0.016667</td>\n      <td>Positive</td>\n      <td>0.0</td>\n      <td>0.0</td>\n      <td>1.0</td>\n      <td>0.0</td>\n      <td>Neutral</td>\n    </tr>\n    <tr>\n      <th>12714</th>\n      <td>768</td>\n      <td>Wirex</td>\n      <td>True</td>\n      <td>Mon Apr 04 07:00:29 +0000 2022</td>\n      <td>24</td>\n      <td>69</td>\n      <td>41535</td>\n      <td>[{'text': 'BTC', 'indices': [108, 112]}]</td>\n      <td>Get industry best interest % just for HODLing ...</td>\n      <td>[get, industry, best, interest, hodling, bag, ...</td>\n      <td>1.000000</td>\n      <td>Positive</td>\n      <td>0.0</td>\n      <td>0.0</td>\n      <td>1.0</td>\n      <td>0.0</td>\n      <td>Neutral</td>\n    </tr>\n  </tbody>\n</table>\n<p>2158 rows × 17 columns</p>\n</div>"
     },
     "execution_count": 33,
     "metadata": {},
     "output_type": "execute_result"
    }
   ],
   "source": [
    "bitcoin_sentiment.to_csv(\"bitcoin_sentiment.csv\")\n",
    "bitcoin_sentiment"
   ],
   "metadata": {
    "collapsed": false,
    "pycharm": {
     "name": "#%%\n"
    }
   }
  },
  {
   "cell_type": "code",
   "execution_count": 34,
   "outputs": [
    {
     "data": {
      "text/plain": "       tweet_id                      name  verified  \\\n15           15                  The Moon      True   \n34           34                  The Moon      True   \n57           57                  The Moon      True   \n72           72  OKX_Brasil (antiga OKEx)      True   \n82           82                  The Moon      True   \n...         ...                       ...       ...   \n12692       746               Crypto Jack      True   \n12693       747                Crypto.com      True   \n12694       748             1inch Network      True   \n12695       749            Crypto.com NFT      True   \n12701       755               Crypto Jack      True   \n\n                           created_at  retweet_count  favorite_count  \\\n15          2022-03-05 16:55:01+00:00            266            1776   \n34          2022-03-05 16:55:01+00:00            266            1776   \n57          2022-03-05 16:55:01+00:00            266            1776   \n72          2022-03-05 00:00:58+00:00             17              54   \n82          2022-03-05 16:55:01+00:00            266            1776   \n...                               ...            ...             ...   \n12692  Mon Apr 04 12:00:20 +0000 2022             76             396   \n12693  Mon Apr 04 03:57:52 +0000 2022             45             239   \n12694  Mon Apr 04 13:08:18 +0000 2022             22              76   \n12695  Mon Apr 04 14:00:02 +0000 2022             32              89   \n12701  Mon Apr 04 12:00:20 +0000 2022             76             396   \n\n       followers_count                                           hashtags  \\\n15             1013020          [{'text': 'crypto', 'indices': [12, 19]}]   \n34             1013020          [{'text': 'crypto', 'indices': [12, 19]}]   \n57             1013020          [{'text': 'crypto', 'indices': [12, 19]}]   \n72                4541  [{'text': 'BTC', 'indices': [52, 56]}, {'text'...   \n82             1013020          [{'text': 'crypto', 'indices': [12, 19]}]   \n...                ...                                                ...   \n12692            31910  [{'text': 'BTC', 'indices': [48, 52]}, {'text'...   \n12693          1904211  [{'text': 'ATOM', 'indices': [36, 41]}, {'text...   \n12694          1016147  [{'text': 'ETH', 'indices': [2, 6]}, {'text': ...   \n12695           250075             [{'text': 'ETH', 'indices': [49, 53]}]   \n12701            31910  [{'text': 'BTC', 'indices': [48, 52]}, {'text'...   \n\n                                                    text  \\\n15     Choose your #crypto team:\\r\\n\\r\\nTeam 🅰️      ...   \n34     Choose your #crypto team:\\r\\n\\r\\nTeam 🅰️      ...   \n57     Choose your #crypto team:\\r\\n\\r\\nTeam 🅰️      ...   \n72     Top 10 moedas mencionadas no Twitter esta sema...   \n82     Choose your #crypto team:\\r\\n\\r\\nTeam 🅰️      ...   \n...                                                  ...   \n12692  Which Crypto project  you believe strongly ?🚀\\...   \n12693  Easily manage 500+ coins, including #ATOM, #AA...   \n12694  📣 #ETH burned weekly update 📣\\n\\n🦄🔥 #1inch sti...   \n12695  We’ve just added the Brian NFT Collection to o...   \n12701  Which Crypto project  you believe strongly ?🚀\\...   \n\n                                              clean_text  textblob_sentiment  \\\n15     [choose, crypto, team, team, team, btc, eth, m...            0.000000   \n34     [choose, crypto, team, team, team, btc, eth, m...            0.000000   \n57     [choose, crypto, team, team, team, btc, eth, m...            0.000000   \n72     [top, 10, moedas, mencionadas, twitter, esta, ...            0.500000   \n82     [choose, crypto, team, team, team, btc, eth, m...            0.000000   \n...                                                  ...                 ...   \n12692  [crypto, project, believe, strongly, btc, bnb,...            0.433333   \n12693  [easily, manage, 500, coin, including, atom, a...            0.433333   \n12694  [, eth, burned, weekly, update, 1inch, still, ...            0.000000   \n12695  [added, brian, nft, collection, eth, whitelist...            0.000000   \n12701  [crypto, project, believe, strongly, btc, bnb,...            0.433333   \n\n      textblob_summary  vader_sentiment_pos  vader_sentiment_neg  \\\n15             Neutral                  0.0                  0.0   \n34             Neutral                  0.0                  0.0   \n57             Neutral                  0.0                  0.0   \n72            Positive                  0.0                  0.0   \n82             Neutral                  0.0                  0.0   \n...                ...                  ...                  ...   \n12692         Positive                  0.0                  0.0   \n12693         Positive                  0.0                  0.0   \n12694          Neutral                  0.0                  0.0   \n12695          Neutral                  0.0                  0.0   \n12701         Positive                  0.0                  0.0   \n\n       vader_sentiment_neu  vader_sentiment_compound vader_summary  \n15                     1.0                       0.0       Neutral  \n34                     1.0                       0.0       Neutral  \n57                     1.0                       0.0       Neutral  \n72                     1.0                       0.0       Neutral  \n82                     1.0                       0.0       Neutral  \n...                    ...                       ...           ...  \n12692                  1.0                       0.0       Neutral  \n12693                  1.0                       0.0       Neutral  \n12694                  1.0                       0.0       Neutral  \n12695                  1.0                       0.0       Neutral  \n12701                  1.0                       0.0       Neutral  \n\n[1702 rows x 17 columns]",
      "text/html": "<div>\n<style scoped>\n    .dataframe tbody tr th:only-of-type {\n        vertical-align: middle;\n    }\n\n    .dataframe tbody tr th {\n        vertical-align: top;\n    }\n\n    .dataframe thead th {\n        text-align: right;\n    }\n</style>\n<table border=\"1\" class=\"dataframe\">\n  <thead>\n    <tr style=\"text-align: right;\">\n      <th></th>\n      <th>tweet_id</th>\n      <th>name</th>\n      <th>verified</th>\n      <th>created_at</th>\n      <th>retweet_count</th>\n      <th>favorite_count</th>\n      <th>followers_count</th>\n      <th>hashtags</th>\n      <th>text</th>\n      <th>clean_text</th>\n      <th>textblob_sentiment</th>\n      <th>textblob_summary</th>\n      <th>vader_sentiment_pos</th>\n      <th>vader_sentiment_neg</th>\n      <th>vader_sentiment_neu</th>\n      <th>vader_sentiment_compound</th>\n      <th>vader_summary</th>\n    </tr>\n  </thead>\n  <tbody>\n    <tr>\n      <th>15</th>\n      <td>15</td>\n      <td>The Moon</td>\n      <td>True</td>\n      <td>2022-03-05 16:55:01+00:00</td>\n      <td>266</td>\n      <td>1776</td>\n      <td>1013020</td>\n      <td>[{'text': 'crypto', 'indices': [12, 19]}]</td>\n      <td>Choose your #crypto team:\\r\\n\\r\\nTeam 🅰️      ...</td>\n      <td>[choose, crypto, team, team, team, btc, eth, m...</td>\n      <td>0.000000</td>\n      <td>Neutral</td>\n      <td>0.0</td>\n      <td>0.0</td>\n      <td>1.0</td>\n      <td>0.0</td>\n      <td>Neutral</td>\n    </tr>\n    <tr>\n      <th>34</th>\n      <td>34</td>\n      <td>The Moon</td>\n      <td>True</td>\n      <td>2022-03-05 16:55:01+00:00</td>\n      <td>266</td>\n      <td>1776</td>\n      <td>1013020</td>\n      <td>[{'text': 'crypto', 'indices': [12, 19]}]</td>\n      <td>Choose your #crypto team:\\r\\n\\r\\nTeam 🅰️      ...</td>\n      <td>[choose, crypto, team, team, team, btc, eth, m...</td>\n      <td>0.000000</td>\n      <td>Neutral</td>\n      <td>0.0</td>\n      <td>0.0</td>\n      <td>1.0</td>\n      <td>0.0</td>\n      <td>Neutral</td>\n    </tr>\n    <tr>\n      <th>57</th>\n      <td>57</td>\n      <td>The Moon</td>\n      <td>True</td>\n      <td>2022-03-05 16:55:01+00:00</td>\n      <td>266</td>\n      <td>1776</td>\n      <td>1013020</td>\n      <td>[{'text': 'crypto', 'indices': [12, 19]}]</td>\n      <td>Choose your #crypto team:\\r\\n\\r\\nTeam 🅰️      ...</td>\n      <td>[choose, crypto, team, team, team, btc, eth, m...</td>\n      <td>0.000000</td>\n      <td>Neutral</td>\n      <td>0.0</td>\n      <td>0.0</td>\n      <td>1.0</td>\n      <td>0.0</td>\n      <td>Neutral</td>\n    </tr>\n    <tr>\n      <th>72</th>\n      <td>72</td>\n      <td>OKX_Brasil (antiga OKEx)</td>\n      <td>True</td>\n      <td>2022-03-05 00:00:58+00:00</td>\n      <td>17</td>\n      <td>54</td>\n      <td>4541</td>\n      <td>[{'text': 'BTC', 'indices': [52, 56]}, {'text'...</td>\n      <td>Top 10 moedas mencionadas no Twitter esta sema...</td>\n      <td>[top, 10, moedas, mencionadas, twitter, esta, ...</td>\n      <td>0.500000</td>\n      <td>Positive</td>\n      <td>0.0</td>\n      <td>0.0</td>\n      <td>1.0</td>\n      <td>0.0</td>\n      <td>Neutral</td>\n    </tr>\n    <tr>\n      <th>82</th>\n      <td>82</td>\n      <td>The Moon</td>\n      <td>True</td>\n      <td>2022-03-05 16:55:01+00:00</td>\n      <td>266</td>\n      <td>1776</td>\n      <td>1013020</td>\n      <td>[{'text': 'crypto', 'indices': [12, 19]}]</td>\n      <td>Choose your #crypto team:\\r\\n\\r\\nTeam 🅰️      ...</td>\n      <td>[choose, crypto, team, team, team, btc, eth, m...</td>\n      <td>0.000000</td>\n      <td>Neutral</td>\n      <td>0.0</td>\n      <td>0.0</td>\n      <td>1.0</td>\n      <td>0.0</td>\n      <td>Neutral</td>\n    </tr>\n    <tr>\n      <th>...</th>\n      <td>...</td>\n      <td>...</td>\n      <td>...</td>\n      <td>...</td>\n      <td>...</td>\n      <td>...</td>\n      <td>...</td>\n      <td>...</td>\n      <td>...</td>\n      <td>...</td>\n      <td>...</td>\n      <td>...</td>\n      <td>...</td>\n      <td>...</td>\n      <td>...</td>\n      <td>...</td>\n      <td>...</td>\n    </tr>\n    <tr>\n      <th>12692</th>\n      <td>746</td>\n      <td>Crypto Jack</td>\n      <td>True</td>\n      <td>Mon Apr 04 12:00:20 +0000 2022</td>\n      <td>76</td>\n      <td>396</td>\n      <td>31910</td>\n      <td>[{'text': 'BTC', 'indices': [48, 52]}, {'text'...</td>\n      <td>Which Crypto project  you believe strongly ?🚀\\...</td>\n      <td>[crypto, project, believe, strongly, btc, bnb,...</td>\n      <td>0.433333</td>\n      <td>Positive</td>\n      <td>0.0</td>\n      <td>0.0</td>\n      <td>1.0</td>\n      <td>0.0</td>\n      <td>Neutral</td>\n    </tr>\n    <tr>\n      <th>12693</th>\n      <td>747</td>\n      <td>Crypto.com</td>\n      <td>True</td>\n      <td>Mon Apr 04 03:57:52 +0000 2022</td>\n      <td>45</td>\n      <td>239</td>\n      <td>1904211</td>\n      <td>[{'text': 'ATOM', 'indices': [36, 41]}, {'text...</td>\n      <td>Easily manage 500+ coins, including #ATOM, #AA...</td>\n      <td>[easily, manage, 500, coin, including, atom, a...</td>\n      <td>0.433333</td>\n      <td>Positive</td>\n      <td>0.0</td>\n      <td>0.0</td>\n      <td>1.0</td>\n      <td>0.0</td>\n      <td>Neutral</td>\n    </tr>\n    <tr>\n      <th>12694</th>\n      <td>748</td>\n      <td>1inch Network</td>\n      <td>True</td>\n      <td>Mon Apr 04 13:08:18 +0000 2022</td>\n      <td>22</td>\n      <td>76</td>\n      <td>1016147</td>\n      <td>[{'text': 'ETH', 'indices': [2, 6]}, {'text': ...</td>\n      <td>📣 #ETH burned weekly update 📣\\n\\n🦄🔥 #1inch sti...</td>\n      <td>[, eth, burned, weekly, update, 1inch, still, ...</td>\n      <td>0.000000</td>\n      <td>Neutral</td>\n      <td>0.0</td>\n      <td>0.0</td>\n      <td>1.0</td>\n      <td>0.0</td>\n      <td>Neutral</td>\n    </tr>\n    <tr>\n      <th>12695</th>\n      <td>749</td>\n      <td>Crypto.com NFT</td>\n      <td>True</td>\n      <td>Mon Apr 04 14:00:02 +0000 2022</td>\n      <td>32</td>\n      <td>89</td>\n      <td>250075</td>\n      <td>[{'text': 'ETH', 'indices': [49, 53]}]</td>\n      <td>We’ve just added the Brian NFT Collection to o...</td>\n      <td>[added, brian, nft, collection, eth, whitelist...</td>\n      <td>0.000000</td>\n      <td>Neutral</td>\n      <td>0.0</td>\n      <td>0.0</td>\n      <td>1.0</td>\n      <td>0.0</td>\n      <td>Neutral</td>\n    </tr>\n    <tr>\n      <th>12701</th>\n      <td>755</td>\n      <td>Crypto Jack</td>\n      <td>True</td>\n      <td>Mon Apr 04 12:00:20 +0000 2022</td>\n      <td>76</td>\n      <td>396</td>\n      <td>31910</td>\n      <td>[{'text': 'BTC', 'indices': [48, 52]}, {'text'...</td>\n      <td>Which Crypto project  you believe strongly ?🚀\\...</td>\n      <td>[crypto, project, believe, strongly, btc, bnb,...</td>\n      <td>0.433333</td>\n      <td>Positive</td>\n      <td>0.0</td>\n      <td>0.0</td>\n      <td>1.0</td>\n      <td>0.0</td>\n      <td>Neutral</td>\n    </tr>\n  </tbody>\n</table>\n<p>1702 rows × 17 columns</p>\n</div>"
     },
     "execution_count": 34,
     "metadata": {},
     "output_type": "execute_result"
    }
   ],
   "source": [
    "ethereum_sentiment.to_csv(\"ethereum_sentiment.csv\")\n",
    "ethereum_sentiment"
   ],
   "metadata": {
    "collapsed": false,
    "pycharm": {
     "name": "#%%\n"
    }
   }
  },
  {
   "cell_type": "code",
   "execution_count": 35,
   "outputs": [
    {
     "data": {
      "text/plain": "       tweet_id                  name  verified  \\\n15           15              The Moon      True   \n20           20      David Gokhshtein      True   \n34           34              The Moon      True   \n39           39      David Gokhshtein      True   \n57           57              The Moon      True   \n...         ...                   ...       ...   \n12644       698              The Moon      True   \n12645       699  SlumDOGE Millionaire      True   \n12666       720           Crypto Jack      True   \n12692       746           Crypto Jack      True   \n12701       755           Crypto Jack      True   \n\n                           created_at  retweet_count  favorite_count  \\\n15          2022-03-05 16:55:01+00:00            266            1776   \n20          2022-03-05 13:43:06+00:00            148            1536   \n34          2022-03-05 16:55:01+00:00            266            1776   \n39          2022-03-05 13:43:06+00:00            148            1536   \n57          2022-03-05 16:55:01+00:00            266            1776   \n...                               ...            ...             ...   \n12644  Mon Apr 04 15:24:53 +0000 2022             72             704   \n12645  Mon Apr 04 15:17:42 +0000 2022             26             222   \n12666  Mon Apr 04 12:00:20 +0000 2022             76             396   \n12692  Mon Apr 04 12:00:20 +0000 2022             76             396   \n12701  Mon Apr 04 12:00:20 +0000 2022             76             396   \n\n       followers_count                                           hashtags  \\\n15             1013020          [{'text': 'crypto', 'indices': [12, 19]}]   \n20              610961          [{'text': 'crypto', 'indices': [26, 33]}]   \n34             1013020          [{'text': 'crypto', 'indices': [12, 19]}]   \n39              610961          [{'text': 'crypto', 'indices': [26, 33]}]   \n57             1013020          [{'text': 'crypto', 'indices': [12, 19]}]   \n...                ...                                                ...   \n12644          1036863            [{'text': 'DOGE', 'indices': [13, 18]}]   \n12645           217565        [{'text': 'dogecoin', 'indices': [40, 49]}]   \n12666            31910  [{'text': 'BTC', 'indices': [48, 52]}, {'text'...   \n12692            31910  [{'text': 'BTC', 'indices': [48, 52]}, {'text'...   \n12701            31910  [{'text': 'BTC', 'indices': [48, 52]}, {'text'...   \n\n                                                    text  \\\n15     Choose your #crypto team:\\r\\n\\r\\nTeam 🅰️      ...   \n20     How many people came into #crypto because of $...   \n34     Choose your #crypto team:\\r\\n\\r\\nTeam 🅰️      ...   \n39     How many people came into #crypto because of $...   \n57     Choose your #crypto team:\\r\\n\\r\\nTeam 🅰️      ...   \n...                                                  ...   \n12644                            Should I buy #DOGE now?   \n12645  I honestly feel like if we all take our #dogec...   \n12666  Which Crypto project  you believe strongly ?🚀\\...   \n12692  Which Crypto project  you believe strongly ?🚀\\...   \n12701  Which Crypto project  you believe strongly ?🚀\\...   \n\n                                              clean_text  textblob_sentiment  \\\n15     [choose, crypto, team, team, team, btc, eth, m...            0.000000   \n20                    [many, people, came, crypto, doge]            0.500000   \n34     [choose, crypto, team, team, team, btc, eth, m...            0.000000   \n39                    [many, people, came, crypto, doge]            0.500000   \n57     [choose, crypto, team, team, team, btc, eth, m...            0.000000   \n...                                                  ...                 ...   \n12644                                        [buy, doge]            0.000000   \n12645  [honestly, feel, like, take, dogecoin, exchang...            0.600000   \n12666  [crypto, project, believe, strongly, btc, bnb,...            0.433333   \n12692  [crypto, project, believe, strongly, btc, bnb,...            0.433333   \n12701  [crypto, project, believe, strongly, btc, bnb,...            0.433333   \n\n      textblob_summary  vader_sentiment_pos  vader_sentiment_neg  \\\n15             Neutral                  0.0                  0.0   \n20            Positive                  0.0                  0.0   \n34             Neutral                  0.0                  0.0   \n39            Positive                  0.0                  0.0   \n57             Neutral                  0.0                  0.0   \n...                ...                  ...                  ...   \n12644          Neutral                  0.0                  0.0   \n12645         Positive                  0.0                  0.0   \n12666         Positive                  0.0                  0.0   \n12692         Positive                  0.0                  0.0   \n12701         Positive                  0.0                  0.0   \n\n       vader_sentiment_neu  vader_sentiment_compound vader_summary  \n15                     1.0                       0.0       Neutral  \n20                     1.0                       0.0       Neutral  \n34                     1.0                       0.0       Neutral  \n39                     1.0                       0.0       Neutral  \n57                     1.0                       0.0       Neutral  \n...                    ...                       ...           ...  \n12644                  1.0                       0.0       Neutral  \n12645                  1.0                       0.0       Neutral  \n12666                  1.0                       0.0       Neutral  \n12692                  1.0                       0.0       Neutral  \n12701                  1.0                       0.0       Neutral  \n\n[723 rows x 17 columns]",
      "text/html": "<div>\n<style scoped>\n    .dataframe tbody tr th:only-of-type {\n        vertical-align: middle;\n    }\n\n    .dataframe tbody tr th {\n        vertical-align: top;\n    }\n\n    .dataframe thead th {\n        text-align: right;\n    }\n</style>\n<table border=\"1\" class=\"dataframe\">\n  <thead>\n    <tr style=\"text-align: right;\">\n      <th></th>\n      <th>tweet_id</th>\n      <th>name</th>\n      <th>verified</th>\n      <th>created_at</th>\n      <th>retweet_count</th>\n      <th>favorite_count</th>\n      <th>followers_count</th>\n      <th>hashtags</th>\n      <th>text</th>\n      <th>clean_text</th>\n      <th>textblob_sentiment</th>\n      <th>textblob_summary</th>\n      <th>vader_sentiment_pos</th>\n      <th>vader_sentiment_neg</th>\n      <th>vader_sentiment_neu</th>\n      <th>vader_sentiment_compound</th>\n      <th>vader_summary</th>\n    </tr>\n  </thead>\n  <tbody>\n    <tr>\n      <th>15</th>\n      <td>15</td>\n      <td>The Moon</td>\n      <td>True</td>\n      <td>2022-03-05 16:55:01+00:00</td>\n      <td>266</td>\n      <td>1776</td>\n      <td>1013020</td>\n      <td>[{'text': 'crypto', 'indices': [12, 19]}]</td>\n      <td>Choose your #crypto team:\\r\\n\\r\\nTeam 🅰️      ...</td>\n      <td>[choose, crypto, team, team, team, btc, eth, m...</td>\n      <td>0.000000</td>\n      <td>Neutral</td>\n      <td>0.0</td>\n      <td>0.0</td>\n      <td>1.0</td>\n      <td>0.0</td>\n      <td>Neutral</td>\n    </tr>\n    <tr>\n      <th>20</th>\n      <td>20</td>\n      <td>David Gokhshtein</td>\n      <td>True</td>\n      <td>2022-03-05 13:43:06+00:00</td>\n      <td>148</td>\n      <td>1536</td>\n      <td>610961</td>\n      <td>[{'text': 'crypto', 'indices': [26, 33]}]</td>\n      <td>How many people came into #crypto because of $...</td>\n      <td>[many, people, came, crypto, doge]</td>\n      <td>0.500000</td>\n      <td>Positive</td>\n      <td>0.0</td>\n      <td>0.0</td>\n      <td>1.0</td>\n      <td>0.0</td>\n      <td>Neutral</td>\n    </tr>\n    <tr>\n      <th>34</th>\n      <td>34</td>\n      <td>The Moon</td>\n      <td>True</td>\n      <td>2022-03-05 16:55:01+00:00</td>\n      <td>266</td>\n      <td>1776</td>\n      <td>1013020</td>\n      <td>[{'text': 'crypto', 'indices': [12, 19]}]</td>\n      <td>Choose your #crypto team:\\r\\n\\r\\nTeam 🅰️      ...</td>\n      <td>[choose, crypto, team, team, team, btc, eth, m...</td>\n      <td>0.000000</td>\n      <td>Neutral</td>\n      <td>0.0</td>\n      <td>0.0</td>\n      <td>1.0</td>\n      <td>0.0</td>\n      <td>Neutral</td>\n    </tr>\n    <tr>\n      <th>39</th>\n      <td>39</td>\n      <td>David Gokhshtein</td>\n      <td>True</td>\n      <td>2022-03-05 13:43:06+00:00</td>\n      <td>148</td>\n      <td>1536</td>\n      <td>610961</td>\n      <td>[{'text': 'crypto', 'indices': [26, 33]}]</td>\n      <td>How many people came into #crypto because of $...</td>\n      <td>[many, people, came, crypto, doge]</td>\n      <td>0.500000</td>\n      <td>Positive</td>\n      <td>0.0</td>\n      <td>0.0</td>\n      <td>1.0</td>\n      <td>0.0</td>\n      <td>Neutral</td>\n    </tr>\n    <tr>\n      <th>57</th>\n      <td>57</td>\n      <td>The Moon</td>\n      <td>True</td>\n      <td>2022-03-05 16:55:01+00:00</td>\n      <td>266</td>\n      <td>1776</td>\n      <td>1013020</td>\n      <td>[{'text': 'crypto', 'indices': [12, 19]}]</td>\n      <td>Choose your #crypto team:\\r\\n\\r\\nTeam 🅰️      ...</td>\n      <td>[choose, crypto, team, team, team, btc, eth, m...</td>\n      <td>0.000000</td>\n      <td>Neutral</td>\n      <td>0.0</td>\n      <td>0.0</td>\n      <td>1.0</td>\n      <td>0.0</td>\n      <td>Neutral</td>\n    </tr>\n    <tr>\n      <th>...</th>\n      <td>...</td>\n      <td>...</td>\n      <td>...</td>\n      <td>...</td>\n      <td>...</td>\n      <td>...</td>\n      <td>...</td>\n      <td>...</td>\n      <td>...</td>\n      <td>...</td>\n      <td>...</td>\n      <td>...</td>\n      <td>...</td>\n      <td>...</td>\n      <td>...</td>\n      <td>...</td>\n      <td>...</td>\n    </tr>\n    <tr>\n      <th>12644</th>\n      <td>698</td>\n      <td>The Moon</td>\n      <td>True</td>\n      <td>Mon Apr 04 15:24:53 +0000 2022</td>\n      <td>72</td>\n      <td>704</td>\n      <td>1036863</td>\n      <td>[{'text': 'DOGE', 'indices': [13, 18]}]</td>\n      <td>Should I buy #DOGE now?</td>\n      <td>[buy, doge]</td>\n      <td>0.000000</td>\n      <td>Neutral</td>\n      <td>0.0</td>\n      <td>0.0</td>\n      <td>1.0</td>\n      <td>0.0</td>\n      <td>Neutral</td>\n    </tr>\n    <tr>\n      <th>12645</th>\n      <td>699</td>\n      <td>SlumDOGE Millionaire</td>\n      <td>True</td>\n      <td>Mon Apr 04 15:17:42 +0000 2022</td>\n      <td>26</td>\n      <td>222</td>\n      <td>217565</td>\n      <td>[{'text': 'dogecoin', 'indices': [40, 49]}]</td>\n      <td>I honestly feel like if we all take our #dogec...</td>\n      <td>[honestly, feel, like, take, dogecoin, exchang...</td>\n      <td>0.600000</td>\n      <td>Positive</td>\n      <td>0.0</td>\n      <td>0.0</td>\n      <td>1.0</td>\n      <td>0.0</td>\n      <td>Neutral</td>\n    </tr>\n    <tr>\n      <th>12666</th>\n      <td>720</td>\n      <td>Crypto Jack</td>\n      <td>True</td>\n      <td>Mon Apr 04 12:00:20 +0000 2022</td>\n      <td>76</td>\n      <td>396</td>\n      <td>31910</td>\n      <td>[{'text': 'BTC', 'indices': [48, 52]}, {'text'...</td>\n      <td>Which Crypto project  you believe strongly ?🚀\\...</td>\n      <td>[crypto, project, believe, strongly, btc, bnb,...</td>\n      <td>0.433333</td>\n      <td>Positive</td>\n      <td>0.0</td>\n      <td>0.0</td>\n      <td>1.0</td>\n      <td>0.0</td>\n      <td>Neutral</td>\n    </tr>\n    <tr>\n      <th>12692</th>\n      <td>746</td>\n      <td>Crypto Jack</td>\n      <td>True</td>\n      <td>Mon Apr 04 12:00:20 +0000 2022</td>\n      <td>76</td>\n      <td>396</td>\n      <td>31910</td>\n      <td>[{'text': 'BTC', 'indices': [48, 52]}, {'text'...</td>\n      <td>Which Crypto project  you believe strongly ?🚀\\...</td>\n      <td>[crypto, project, believe, strongly, btc, bnb,...</td>\n      <td>0.433333</td>\n      <td>Positive</td>\n      <td>0.0</td>\n      <td>0.0</td>\n      <td>1.0</td>\n      <td>0.0</td>\n      <td>Neutral</td>\n    </tr>\n    <tr>\n      <th>12701</th>\n      <td>755</td>\n      <td>Crypto Jack</td>\n      <td>True</td>\n      <td>Mon Apr 04 12:00:20 +0000 2022</td>\n      <td>76</td>\n      <td>396</td>\n      <td>31910</td>\n      <td>[{'text': 'BTC', 'indices': [48, 52]}, {'text'...</td>\n      <td>Which Crypto project  you believe strongly ?🚀\\...</td>\n      <td>[crypto, project, believe, strongly, btc, bnb,...</td>\n      <td>0.433333</td>\n      <td>Positive</td>\n      <td>0.0</td>\n      <td>0.0</td>\n      <td>1.0</td>\n      <td>0.0</td>\n      <td>Neutral</td>\n    </tr>\n  </tbody>\n</table>\n<p>723 rows × 17 columns</p>\n</div>"
     },
     "execution_count": 35,
     "metadata": {},
     "output_type": "execute_result"
    }
   ],
   "source": [
    "doge_sentiment.to_csv(\"doge_sentiment.csv\")\n",
    "doge_sentiment"
   ],
   "metadata": {
    "collapsed": false,
    "pycharm": {
     "name": "#%%\n"
    }
   }
  },
  {
   "cell_type": "code",
   "execution_count": 36,
   "outputs": [
    {
     "data": {
      "text/plain": "       tweet_id                                      name  verified  \\\n499          16                                  The Moon      True   \n514          31                                  The Moon      True   \n533          50                                  The Moon      True   \n553          70                                  The Moon      True   \n587         104                                  The Moon      True   \n...         ...                                       ...       ...   \n12424       478                               Crypto King      True   \n12513       567                                 Raoul Pal      True   \n12708       762  WendyO.eth ✨Attending Bitcoin Miami 2022      True   \n12711       765             fxnction aka igotabigdick.eth      True   \n12712       766                                      LOVE      True   \n\n                           created_at  retweet_count  favorite_count  \\\n499         2022-03-06 19:09:34+00:00            127             897   \n514         2022-03-06 19:09:34+00:00            127             897   \n533         2022-03-06 19:09:34+00:00            127             897   \n553         2022-03-06 19:09:34+00:00            127             897   \n587         2022-03-06 19:09:34+00:00            127             897   \n...                               ...            ...             ...   \n12424  Fri Apr 01 04:50:26 +0000 2022             25             250   \n12513  Sat Apr 02 00:27:48 +0000 2022            256            2116   \n12708  Mon Apr 04 04:46:00 +0000 2022             30             235   \n12711  Mon Apr 04 14:01:55 +0000 2022              6             239   \n12712  Mon Apr 04 13:16:59 +0000 2022            483             608   \n\n       followers_count                                           hashtags  \\\n499            1013020           [{'text': 'crypto', 'indices': [7, 14]}]   \n514            1013020           [{'text': 'crypto', 'indices': [7, 14]}]   \n533            1013020           [{'text': 'crypto', 'indices': [7, 14]}]   \n553            1013020           [{'text': 'crypto', 'indices': [7, 14]}]   \n587            1013020           [{'text': 'crypto', 'indices': [7, 14]}]   \n...                ...                                                ...   \n12424            81276  [{'text': 'Crypto', 'indices': [67, 74]}, {'te...   \n12513           919170                                                 []   \n12708           268961  [{'text': 'Solana', 'indices': [37, 44]}, {'te...   \n12711            96962          [{'text': 'solana', 'indices': [18, 25]}]   \n12712           176702  [{'text': 'NFTGiveaway', 'indices': [2, 14]}, ...   \n\n                                                    text  \\\n499    Pick a #crypto team:\\r\\n\\r\\nTeam 🅰️           ...   \n514    Pick a #crypto team:\\r\\n\\r\\nTeam 🅰️           ...   \n533    Pick a #crypto team:\\r\\n\\r\\nTeam 🅰️           ...   \n553    Pick a #crypto team:\\r\\n\\r\\nTeam 🅰️           ...   \n587    Pick a #crypto team:\\r\\n\\r\\nTeam 🅰️           ...   \n...                                                  ...   \n12424  Yellow Gold or Rose Gold?\\n\\nAt 111 likes goin...   \n12513  Crypto: \\n\\nThe SOL/ETH chart is super interes...   \n12708  TY to @worldofsolana for my honorary #Solana #...   \n12711  Love finding sick #solana mints under the radar 👀   \n12712  🎁 #NFTGiveaway 🎁\\n⚡️Ultra Rare Stud NFTs Comin...   \n\n                                              clean_text  textblob_sentiment  \\\n499    [pick, crypto, team, team, team, ax, mana, sol...            0.000000   \n514    [pick, crypto, team, team, team, ax, mana, sol...            0.000000   \n533    [pick, crypto, team, team, team, ax, mana, sol...            0.000000   \n553    [pick, crypto, team, team, team, ax, mana, sol...            0.000000   \n587    [pick, crypto, team, team, team, ax, mana, sol...            0.000000   \n...                                                  ...                 ...   \n12424  [yellow, gold, rose, gold, 111, like, going, h...            0.300000   \n12513  [crypto, soleth, chart, super, interesting, so...            0.208333   \n12708  [ty, worldofsolana, honorary, solana, nft, bel...            0.136364   \n12711       [love, finding, sick, solana, mint, radar, ]           -0.107143   \n12712  [, nftgiveaway, ultra, rare, stud, nfts, comin...            0.633333   \n\n      textblob_summary  vader_sentiment_pos  vader_sentiment_neg  \\\n499            Neutral                  0.0                  0.0   \n514            Neutral                  0.0                  0.0   \n533            Neutral                  0.0                  0.0   \n553            Neutral                  0.0                  0.0   \n587            Neutral                  0.0                  0.0   \n...                ...                  ...                  ...   \n12424         Positive                  0.0                  0.0   \n12513         Positive                  0.0                  0.0   \n12708         Positive                  0.0                  0.0   \n12711         Negative                  0.0                  0.0   \n12712         Positive                  0.0                  0.0   \n\n       vader_sentiment_neu  vader_sentiment_compound vader_summary  \n499                    1.0                       0.0       Neutral  \n514                    1.0                       0.0       Neutral  \n533                    1.0                       0.0       Neutral  \n553                    1.0                       0.0       Neutral  \n587                    1.0                       0.0       Neutral  \n...                    ...                       ...           ...  \n12424                  1.0                       0.0       Neutral  \n12513                  1.0                       0.0       Neutral  \n12708                  1.0                       0.0       Neutral  \n12711                  1.0                       0.0       Neutral  \n12712                  1.0                       0.0       Neutral  \n\n[388 rows x 17 columns]",
      "text/html": "<div>\n<style scoped>\n    .dataframe tbody tr th:only-of-type {\n        vertical-align: middle;\n    }\n\n    .dataframe tbody tr th {\n        vertical-align: top;\n    }\n\n    .dataframe thead th {\n        text-align: right;\n    }\n</style>\n<table border=\"1\" class=\"dataframe\">\n  <thead>\n    <tr style=\"text-align: right;\">\n      <th></th>\n      <th>tweet_id</th>\n      <th>name</th>\n      <th>verified</th>\n      <th>created_at</th>\n      <th>retweet_count</th>\n      <th>favorite_count</th>\n      <th>followers_count</th>\n      <th>hashtags</th>\n      <th>text</th>\n      <th>clean_text</th>\n      <th>textblob_sentiment</th>\n      <th>textblob_summary</th>\n      <th>vader_sentiment_pos</th>\n      <th>vader_sentiment_neg</th>\n      <th>vader_sentiment_neu</th>\n      <th>vader_sentiment_compound</th>\n      <th>vader_summary</th>\n    </tr>\n  </thead>\n  <tbody>\n    <tr>\n      <th>499</th>\n      <td>16</td>\n      <td>The Moon</td>\n      <td>True</td>\n      <td>2022-03-06 19:09:34+00:00</td>\n      <td>127</td>\n      <td>897</td>\n      <td>1013020</td>\n      <td>[{'text': 'crypto', 'indices': [7, 14]}]</td>\n      <td>Pick a #crypto team:\\r\\n\\r\\nTeam 🅰️           ...</td>\n      <td>[pick, crypto, team, team, team, ax, mana, sol...</td>\n      <td>0.000000</td>\n      <td>Neutral</td>\n      <td>0.0</td>\n      <td>0.0</td>\n      <td>1.0</td>\n      <td>0.0</td>\n      <td>Neutral</td>\n    </tr>\n    <tr>\n      <th>514</th>\n      <td>31</td>\n      <td>The Moon</td>\n      <td>True</td>\n      <td>2022-03-06 19:09:34+00:00</td>\n      <td>127</td>\n      <td>897</td>\n      <td>1013020</td>\n      <td>[{'text': 'crypto', 'indices': [7, 14]}]</td>\n      <td>Pick a #crypto team:\\r\\n\\r\\nTeam 🅰️           ...</td>\n      <td>[pick, crypto, team, team, team, ax, mana, sol...</td>\n      <td>0.000000</td>\n      <td>Neutral</td>\n      <td>0.0</td>\n      <td>0.0</td>\n      <td>1.0</td>\n      <td>0.0</td>\n      <td>Neutral</td>\n    </tr>\n    <tr>\n      <th>533</th>\n      <td>50</td>\n      <td>The Moon</td>\n      <td>True</td>\n      <td>2022-03-06 19:09:34+00:00</td>\n      <td>127</td>\n      <td>897</td>\n      <td>1013020</td>\n      <td>[{'text': 'crypto', 'indices': [7, 14]}]</td>\n      <td>Pick a #crypto team:\\r\\n\\r\\nTeam 🅰️           ...</td>\n      <td>[pick, crypto, team, team, team, ax, mana, sol...</td>\n      <td>0.000000</td>\n      <td>Neutral</td>\n      <td>0.0</td>\n      <td>0.0</td>\n      <td>1.0</td>\n      <td>0.0</td>\n      <td>Neutral</td>\n    </tr>\n    <tr>\n      <th>553</th>\n      <td>70</td>\n      <td>The Moon</td>\n      <td>True</td>\n      <td>2022-03-06 19:09:34+00:00</td>\n      <td>127</td>\n      <td>897</td>\n      <td>1013020</td>\n      <td>[{'text': 'crypto', 'indices': [7, 14]}]</td>\n      <td>Pick a #crypto team:\\r\\n\\r\\nTeam 🅰️           ...</td>\n      <td>[pick, crypto, team, team, team, ax, mana, sol...</td>\n      <td>0.000000</td>\n      <td>Neutral</td>\n      <td>0.0</td>\n      <td>0.0</td>\n      <td>1.0</td>\n      <td>0.0</td>\n      <td>Neutral</td>\n    </tr>\n    <tr>\n      <th>587</th>\n      <td>104</td>\n      <td>The Moon</td>\n      <td>True</td>\n      <td>2022-03-06 19:09:34+00:00</td>\n      <td>127</td>\n      <td>897</td>\n      <td>1013020</td>\n      <td>[{'text': 'crypto', 'indices': [7, 14]}]</td>\n      <td>Pick a #crypto team:\\r\\n\\r\\nTeam 🅰️           ...</td>\n      <td>[pick, crypto, team, team, team, ax, mana, sol...</td>\n      <td>0.000000</td>\n      <td>Neutral</td>\n      <td>0.0</td>\n      <td>0.0</td>\n      <td>1.0</td>\n      <td>0.0</td>\n      <td>Neutral</td>\n    </tr>\n    <tr>\n      <th>...</th>\n      <td>...</td>\n      <td>...</td>\n      <td>...</td>\n      <td>...</td>\n      <td>...</td>\n      <td>...</td>\n      <td>...</td>\n      <td>...</td>\n      <td>...</td>\n      <td>...</td>\n      <td>...</td>\n      <td>...</td>\n      <td>...</td>\n      <td>...</td>\n      <td>...</td>\n      <td>...</td>\n      <td>...</td>\n    </tr>\n    <tr>\n      <th>12424</th>\n      <td>478</td>\n      <td>Crypto King</td>\n      <td>True</td>\n      <td>Fri Apr 01 04:50:26 +0000 2022</td>\n      <td>25</td>\n      <td>250</td>\n      <td>81276</td>\n      <td>[{'text': 'Crypto', 'indices': [67, 74]}, {'te...</td>\n      <td>Yellow Gold or Rose Gold?\\n\\nAt 111 likes goin...</td>\n      <td>[yellow, gold, rose, gold, 111, like, going, h...</td>\n      <td>0.300000</td>\n      <td>Positive</td>\n      <td>0.0</td>\n      <td>0.0</td>\n      <td>1.0</td>\n      <td>0.0</td>\n      <td>Neutral</td>\n    </tr>\n    <tr>\n      <th>12513</th>\n      <td>567</td>\n      <td>Raoul Pal</td>\n      <td>True</td>\n      <td>Sat Apr 02 00:27:48 +0000 2022</td>\n      <td>256</td>\n      <td>2116</td>\n      <td>919170</td>\n      <td>[]</td>\n      <td>Crypto: \\n\\nThe SOL/ETH chart is super interes...</td>\n      <td>[crypto, soleth, chart, super, interesting, so...</td>\n      <td>0.208333</td>\n      <td>Positive</td>\n      <td>0.0</td>\n      <td>0.0</td>\n      <td>1.0</td>\n      <td>0.0</td>\n      <td>Neutral</td>\n    </tr>\n    <tr>\n      <th>12708</th>\n      <td>762</td>\n      <td>WendyO.eth ✨Attending Bitcoin Miami 2022</td>\n      <td>True</td>\n      <td>Mon Apr 04 04:46:00 +0000 2022</td>\n      <td>30</td>\n      <td>235</td>\n      <td>268961</td>\n      <td>[{'text': 'Solana', 'indices': [37, 44]}, {'te...</td>\n      <td>TY to @worldofsolana for my honorary #Solana #...</td>\n      <td>[ty, worldofsolana, honorary, solana, nft, bel...</td>\n      <td>0.136364</td>\n      <td>Positive</td>\n      <td>0.0</td>\n      <td>0.0</td>\n      <td>1.0</td>\n      <td>0.0</td>\n      <td>Neutral</td>\n    </tr>\n    <tr>\n      <th>12711</th>\n      <td>765</td>\n      <td>fxnction aka igotabigdick.eth</td>\n      <td>True</td>\n      <td>Mon Apr 04 14:01:55 +0000 2022</td>\n      <td>6</td>\n      <td>239</td>\n      <td>96962</td>\n      <td>[{'text': 'solana', 'indices': [18, 25]}]</td>\n      <td>Love finding sick #solana mints under the radar 👀</td>\n      <td>[love, finding, sick, solana, mint, radar, ]</td>\n      <td>-0.107143</td>\n      <td>Negative</td>\n      <td>0.0</td>\n      <td>0.0</td>\n      <td>1.0</td>\n      <td>0.0</td>\n      <td>Neutral</td>\n    </tr>\n    <tr>\n      <th>12712</th>\n      <td>766</td>\n      <td>LOVE</td>\n      <td>True</td>\n      <td>Mon Apr 04 13:16:59 +0000 2022</td>\n      <td>483</td>\n      <td>608</td>\n      <td>176702</td>\n      <td>[{'text': 'NFTGiveaway', 'indices': [2, 14]}, ...</td>\n      <td>🎁 #NFTGiveaway 🎁\\n⚡️Ultra Rare Stud NFTs Comin...</td>\n      <td>[, nftgiveaway, ultra, rare, stud, nfts, comin...</td>\n      <td>0.633333</td>\n      <td>Positive</td>\n      <td>0.0</td>\n      <td>0.0</td>\n      <td>1.0</td>\n      <td>0.0</td>\n      <td>Neutral</td>\n    </tr>\n  </tbody>\n</table>\n<p>388 rows × 17 columns</p>\n</div>"
     },
     "execution_count": 36,
     "metadata": {},
     "output_type": "execute_result"
    }
   ],
   "source": [
    "solana_sentiment.to_csv(\"solana_sentiment.csv\")\n",
    "solana_sentiment"
   ],
   "metadata": {
    "collapsed": false,
    "pycharm": {
     "name": "#%%\n"
    }
   }
  },
  {
   "cell_type": "code",
   "execution_count": 37,
   "outputs": [
    {
     "data": {
      "text/plain": "       tweet_id           name  verified                      created_at  \\\n146         146          Túlio      True       2022-03-05 13:35:23+00:00   \n187         187          Túlio      True       2022-03-05 13:35:23+00:00   \n236         236          Túlio      True       2022-03-05 13:35:23+00:00   \n250         250          Túlio      True       2022-03-05 13:35:23+00:00   \n291         291          Túlio      True       2022-03-05 13:35:23+00:00   \n...         ...            ...       ...                             ...   \n10682       261   Bitcoin News      True  Wed Mar 30 13:02:55 +0000 2022   \n11258        78  WeatherNation      True  Mon Mar 28 14:00:00 +0000 2022   \n11441       261   Bitcoin News      True  Wed Mar 30 13:02:55 +0000 2022   \n12024        78  WeatherNation      True  Mon Mar 28 14:00:00 +0000 2022   \n12207       261   Bitcoin News      True  Wed Mar 30 13:02:55 +0000 2022   \n\n       retweet_count  favorite_count  followers_count  \\\n146               96             134           840626   \n187               96             134           840626   \n236               96             134           840626   \n250               96             134           840626   \n291               96             134           840626   \n...              ...             ...              ...   \n10682             37              85          2481843   \n11258             35              92           208922   \n11441             37              85          2481843   \n12024             35              92           208922   \n12207             37              85          2481843   \n\n                                                hashtags  \\\n146    [{'text': 'altcoins', 'indices': [17, 26]}, {'...   \n187    [{'text': 'altcoins', 'indices': [17, 26]}, {'...   \n236    [{'text': 'altcoins', 'indices': [17, 26]}, {'...   \n250    [{'text': 'altcoins', 'indices': [17, 26]}, {'...   \n291    [{'text': 'altcoins', 'indices': [17, 26]}, {'...   \n...                                                  ...   \n10682  [{'text': 'DeFiKingdoms', 'indices': [73, 86]}...   \n11258                                                 []   \n11441  [{'text': 'DeFiKingdoms', 'indices': [73, 86]}...   \n12024                                                 []   \n12207  [{'text': 'DeFiKingdoms', 'indices': [73, 86]}...   \n\n                                                    text  \\\n146    Looking for some #altcoins that will skyrocket...   \n187    Looking for some #altcoins that will skyrocket...   \n236    Looking for some #altcoins that will skyrocket...   \n250    Looking for some #altcoins that will skyrocket...   \n291    Looking for some #altcoins that will skyrocket...   \n...                                                  ...   \n10682  DeFi Kingdoms Integrates Ramp to Take in-Game ...   \n11258  Whoa! 🌨️⛰️ This is the result of an avalanche ...   \n11441  DeFi Kingdoms Integrates Ramp to Take in-Game ...   \n12024  Whoa! 🌨️⛰️ This is the result of an avalanche ...   \n12207  DeFi Kingdoms Integrates Ramp to Take in-Game ...   \n\n                                              clean_text  textblob_sentiment  \\\n146    [looking, altcoins, skyrocket, weekend, bsc, e...                 0.0   \n187    [looking, altcoins, skyrocket, weekend, bsc, e...                 0.0   \n236    [looking, altcoins, skyrocket, weekend, bsc, e...                 0.0   \n250    [looking, altcoins, skyrocket, weekend, bsc, e...                 0.0   \n291    [looking, altcoins, skyrocket, weekend, bsc, e...                 0.0   \n...                                                  ...                 ...   \n10682  [defi, kingdom, integrates, ramp, take, ingame...                 0.0   \n11258  [whoa, result, avalanche, eagle, river, ak, ma...                 0.0   \n11441  [defi, kingdom, integrates, ramp, take, ingame...                 0.0   \n12024  [whoa, result, avalanche, eagle, river, ak, ma...                 0.0   \n12207  [defi, kingdom, integrates, ramp, take, ingame...                 0.0   \n\n      textblob_summary  vader_sentiment_pos  vader_sentiment_neg  \\\n146            Neutral                  0.0                  0.0   \n187            Neutral                  0.0                  0.0   \n236            Neutral                  0.0                  0.0   \n250            Neutral                  0.0                  0.0   \n291            Neutral                  0.0                  0.0   \n...                ...                  ...                  ...   \n10682          Neutral                  0.0                  0.0   \n11258          Neutral                  0.0                  0.0   \n11441          Neutral                  0.0                  0.0   \n12024          Neutral                  0.0                  0.0   \n12207          Neutral                  0.0                  0.0   \n\n       vader_sentiment_neu  vader_sentiment_compound vader_summary  \n146                    1.0                       0.0       Neutral  \n187                    1.0                       0.0       Neutral  \n236                    1.0                       0.0       Neutral  \n250                    1.0                       0.0       Neutral  \n291                    1.0                       0.0       Neutral  \n...                    ...                       ...           ...  \n10682                  1.0                       0.0       Neutral  \n11258                  1.0                       0.0       Neutral  \n11441                  1.0                       0.0       Neutral  \n12024                  1.0                       0.0       Neutral  \n12207                  1.0                       0.0       Neutral  \n\n[69 rows x 17 columns]",
      "text/html": "<div>\n<style scoped>\n    .dataframe tbody tr th:only-of-type {\n        vertical-align: middle;\n    }\n\n    .dataframe tbody tr th {\n        vertical-align: top;\n    }\n\n    .dataframe thead th {\n        text-align: right;\n    }\n</style>\n<table border=\"1\" class=\"dataframe\">\n  <thead>\n    <tr style=\"text-align: right;\">\n      <th></th>\n      <th>tweet_id</th>\n      <th>name</th>\n      <th>verified</th>\n      <th>created_at</th>\n      <th>retweet_count</th>\n      <th>favorite_count</th>\n      <th>followers_count</th>\n      <th>hashtags</th>\n      <th>text</th>\n      <th>clean_text</th>\n      <th>textblob_sentiment</th>\n      <th>textblob_summary</th>\n      <th>vader_sentiment_pos</th>\n      <th>vader_sentiment_neg</th>\n      <th>vader_sentiment_neu</th>\n      <th>vader_sentiment_compound</th>\n      <th>vader_summary</th>\n    </tr>\n  </thead>\n  <tbody>\n    <tr>\n      <th>146</th>\n      <td>146</td>\n      <td>Túlio</td>\n      <td>True</td>\n      <td>2022-03-05 13:35:23+00:00</td>\n      <td>96</td>\n      <td>134</td>\n      <td>840626</td>\n      <td>[{'text': 'altcoins', 'indices': [17, 26]}, {'...</td>\n      <td>Looking for some #altcoins that will skyrocket...</td>\n      <td>[looking, altcoins, skyrocket, weekend, bsc, e...</td>\n      <td>0.0</td>\n      <td>Neutral</td>\n      <td>0.0</td>\n      <td>0.0</td>\n      <td>1.0</td>\n      <td>0.0</td>\n      <td>Neutral</td>\n    </tr>\n    <tr>\n      <th>187</th>\n      <td>187</td>\n      <td>Túlio</td>\n      <td>True</td>\n      <td>2022-03-05 13:35:23+00:00</td>\n      <td>96</td>\n      <td>134</td>\n      <td>840626</td>\n      <td>[{'text': 'altcoins', 'indices': [17, 26]}, {'...</td>\n      <td>Looking for some #altcoins that will skyrocket...</td>\n      <td>[looking, altcoins, skyrocket, weekend, bsc, e...</td>\n      <td>0.0</td>\n      <td>Neutral</td>\n      <td>0.0</td>\n      <td>0.0</td>\n      <td>1.0</td>\n      <td>0.0</td>\n      <td>Neutral</td>\n    </tr>\n    <tr>\n      <th>236</th>\n      <td>236</td>\n      <td>Túlio</td>\n      <td>True</td>\n      <td>2022-03-05 13:35:23+00:00</td>\n      <td>96</td>\n      <td>134</td>\n      <td>840626</td>\n      <td>[{'text': 'altcoins', 'indices': [17, 26]}, {'...</td>\n      <td>Looking for some #altcoins that will skyrocket...</td>\n      <td>[looking, altcoins, skyrocket, weekend, bsc, e...</td>\n      <td>0.0</td>\n      <td>Neutral</td>\n      <td>0.0</td>\n      <td>0.0</td>\n      <td>1.0</td>\n      <td>0.0</td>\n      <td>Neutral</td>\n    </tr>\n    <tr>\n      <th>250</th>\n      <td>250</td>\n      <td>Túlio</td>\n      <td>True</td>\n      <td>2022-03-05 13:35:23+00:00</td>\n      <td>96</td>\n      <td>134</td>\n      <td>840626</td>\n      <td>[{'text': 'altcoins', 'indices': [17, 26]}, {'...</td>\n      <td>Looking for some #altcoins that will skyrocket...</td>\n      <td>[looking, altcoins, skyrocket, weekend, bsc, e...</td>\n      <td>0.0</td>\n      <td>Neutral</td>\n      <td>0.0</td>\n      <td>0.0</td>\n      <td>1.0</td>\n      <td>0.0</td>\n      <td>Neutral</td>\n    </tr>\n    <tr>\n      <th>291</th>\n      <td>291</td>\n      <td>Túlio</td>\n      <td>True</td>\n      <td>2022-03-05 13:35:23+00:00</td>\n      <td>96</td>\n      <td>134</td>\n      <td>840626</td>\n      <td>[{'text': 'altcoins', 'indices': [17, 26]}, {'...</td>\n      <td>Looking for some #altcoins that will skyrocket...</td>\n      <td>[looking, altcoins, skyrocket, weekend, bsc, e...</td>\n      <td>0.0</td>\n      <td>Neutral</td>\n      <td>0.0</td>\n      <td>0.0</td>\n      <td>1.0</td>\n      <td>0.0</td>\n      <td>Neutral</td>\n    </tr>\n    <tr>\n      <th>...</th>\n      <td>...</td>\n      <td>...</td>\n      <td>...</td>\n      <td>...</td>\n      <td>...</td>\n      <td>...</td>\n      <td>...</td>\n      <td>...</td>\n      <td>...</td>\n      <td>...</td>\n      <td>...</td>\n      <td>...</td>\n      <td>...</td>\n      <td>...</td>\n      <td>...</td>\n      <td>...</td>\n      <td>...</td>\n    </tr>\n    <tr>\n      <th>10682</th>\n      <td>261</td>\n      <td>Bitcoin News</td>\n      <td>True</td>\n      <td>Wed Mar 30 13:02:55 +0000 2022</td>\n      <td>37</td>\n      <td>85</td>\n      <td>2481843</td>\n      <td>[{'text': 'DeFiKingdoms', 'indices': [73, 86]}...</td>\n      <td>DeFi Kingdoms Integrates Ramp to Take in-Game ...</td>\n      <td>[defi, kingdom, integrates, ramp, take, ingame...</td>\n      <td>0.0</td>\n      <td>Neutral</td>\n      <td>0.0</td>\n      <td>0.0</td>\n      <td>1.0</td>\n      <td>0.0</td>\n      <td>Neutral</td>\n    </tr>\n    <tr>\n      <th>11258</th>\n      <td>78</td>\n      <td>WeatherNation</td>\n      <td>True</td>\n      <td>Mon Mar 28 14:00:00 +0000 2022</td>\n      <td>35</td>\n      <td>92</td>\n      <td>208922</td>\n      <td>[]</td>\n      <td>Whoa! 🌨️⛰️ This is the result of an avalanche ...</td>\n      <td>[whoa, result, avalanche, eagle, river, ak, ma...</td>\n      <td>0.0</td>\n      <td>Neutral</td>\n      <td>0.0</td>\n      <td>0.0</td>\n      <td>1.0</td>\n      <td>0.0</td>\n      <td>Neutral</td>\n    </tr>\n    <tr>\n      <th>11441</th>\n      <td>261</td>\n      <td>Bitcoin News</td>\n      <td>True</td>\n      <td>Wed Mar 30 13:02:55 +0000 2022</td>\n      <td>37</td>\n      <td>85</td>\n      <td>2481843</td>\n      <td>[{'text': 'DeFiKingdoms', 'indices': [73, 86]}...</td>\n      <td>DeFi Kingdoms Integrates Ramp to Take in-Game ...</td>\n      <td>[defi, kingdom, integrates, ramp, take, ingame...</td>\n      <td>0.0</td>\n      <td>Neutral</td>\n      <td>0.0</td>\n      <td>0.0</td>\n      <td>1.0</td>\n      <td>0.0</td>\n      <td>Neutral</td>\n    </tr>\n    <tr>\n      <th>12024</th>\n      <td>78</td>\n      <td>WeatherNation</td>\n      <td>True</td>\n      <td>Mon Mar 28 14:00:00 +0000 2022</td>\n      <td>35</td>\n      <td>92</td>\n      <td>208922</td>\n      <td>[]</td>\n      <td>Whoa! 🌨️⛰️ This is the result of an avalanche ...</td>\n      <td>[whoa, result, avalanche, eagle, river, ak, ma...</td>\n      <td>0.0</td>\n      <td>Neutral</td>\n      <td>0.0</td>\n      <td>0.0</td>\n      <td>1.0</td>\n      <td>0.0</td>\n      <td>Neutral</td>\n    </tr>\n    <tr>\n      <th>12207</th>\n      <td>261</td>\n      <td>Bitcoin News</td>\n      <td>True</td>\n      <td>Wed Mar 30 13:02:55 +0000 2022</td>\n      <td>37</td>\n      <td>85</td>\n      <td>2481843</td>\n      <td>[{'text': 'DeFiKingdoms', 'indices': [73, 86]}...</td>\n      <td>DeFi Kingdoms Integrates Ramp to Take in-Game ...</td>\n      <td>[defi, kingdom, integrates, ramp, take, ingame...</td>\n      <td>0.0</td>\n      <td>Neutral</td>\n      <td>0.0</td>\n      <td>0.0</td>\n      <td>1.0</td>\n      <td>0.0</td>\n      <td>Neutral</td>\n    </tr>\n  </tbody>\n</table>\n<p>69 rows × 17 columns</p>\n</div>"
     },
     "execution_count": 37,
     "metadata": {},
     "output_type": "execute_result"
    }
   ],
   "source": [
    "avalanche_sentiment.to_csv(\"avalanche_sentiment.csv\")\n",
    "avalanche_sentiment"
   ],
   "metadata": {
    "collapsed": false,
    "pycharm": {
     "name": "#%%\n"
    }
   }
  },
  {
   "cell_type": "code",
   "execution_count": 38,
   "outputs": [
    {
     "data": {
      "text/plain": "       tweet_id          name  verified                      created_at  \\\n0             0  Bitcoin News      True       2022-03-05 09:33:07+00:00   \n1             1  Bitcoin News      True       2022-03-05 12:03:14+00:00   \n2             2  Bitcoin News      True       2022-03-05 13:33:29+00:00   \n3             3  Watcher.Guru      True       2022-03-05 11:01:13+00:00   \n5             5  Ian Heinisch      True       2022-03-05 21:34:37+00:00   \n...         ...           ...       ...                             ...   \n12702       756         Wirex      True  Mon Apr 04 07:00:29 +0000 2022   \n12705       759           May      True  Mon Apr 04 08:15:18 +0000 2022   \n12706       760    LunarCrush      True  Mon Apr 04 02:08:30 +0000 2022   \n12714       768         Wirex      True  Mon Apr 04 07:00:29 +0000 2022   \n12716       770   Crypto King      True  Mon Apr 04 08:54:28 +0000 2022   \n\n       retweet_count  favorite_count  followers_count  \\\n0                151             520          2437101   \n1                 87             245          2437101   \n2                 95             245          2437101   \n3                149            1043           708057   \n5                 16              27             7822   \n...              ...             ...              ...   \n12702             24              69            41535   \n12705           1518            1605           158839   \n12706            147            1102           259474   \n12714             24              69            41535   \n12716             14              73            81277   \n\n                                                hashtags  \\\n0              [{'text': 'crypto', 'indices': [61, 68]}]   \n1               [{'text': 'crypto', 'indices': [5, 12]}]   \n2      [{'text': 'cryptocurrency', 'indices': [88, 10...   \n3      [{'text': 'cryptocurrency', 'indices': [77, 92]}]   \n5      [{'text': 'cryptocurrency', 'indices': [54, 69]}]   \n...                                                  ...   \n12702           [{'text': 'BTC', 'indices': [108, 112]}]   \n12705  [{'text': 'Upril', 'indices': [18, 24]}, {'tex...   \n12706       [{'text': 'bitcoin', 'indices': [100, 108]}]   \n12714           [{'text': 'BTC', 'indices': [108, 112]}]   \n12716  [{'text': 'Altcoin', 'indices': [4, 12]}, {'te...   \n\n                                                    text  \\\n0      \"It is an open ledger, trying to sneak lots of...   \n1      “The #crypto market today has a market capital...   \n2      G7 countries and the EU are looking at ways to...   \n3      JUST IN: 🇸🇬 Singapore has introduced sanctions...   \n5      I can not wait for the move to earn app. @Yeti...   \n...                                                  ...   \n12702  Get industry best interest % just for HODLing ...   \n12705  Once again, Happy #Upril 😍\\nShill me your proj...   \n12706  🤔Which coins had the highest number of individ...   \n12714  Get industry best interest % just for HODLing ...   \n12716  The #Altcoin moon bag 🤝🚀:\\n\\n#KASTA (Q2 app de...   \n\n                                              clean_text  textblob_sentiment  \\\n0      [open, ledger, trying, sneak, lot, money, cryp...            0.000000   \n1      [, crypto, market, today, market, capitalizati...           -0.200000   \n2      [g7, country, eu, looking, way, stop, russia, ...            0.000000   \n3      [singapore, introduced, sanction, russian, cen...            0.000000   \n5      [wait, move, earn, app, yeticoineth, cryptocur...            0.000000   \n...                                                  ...                 ...   \n12702  [get, industry, best, interest, hodling, bag, ...            1.000000   \n12705  [happy, upril, shill, project, month, btc, cry...            0.800000   \n12706  [, coin, highest, number, individual, social, ...            0.016667   \n12714  [get, industry, best, interest, hodling, bag, ...            1.000000   \n12716  [altcoin, moon, bag, kasta, q2, app, delivery,...           -0.200000   \n\n      textblob_summary  vader_sentiment_pos  vader_sentiment_neg  \\\n0              Neutral                  0.0                  0.0   \n1             Negative                  0.0                  0.0   \n2              Neutral                  0.0                  0.0   \n3              Neutral                  0.0                  0.0   \n5              Neutral                  0.0                  0.0   \n...                ...                  ...                  ...   \n12702         Positive                  0.0                  0.0   \n12705         Positive                  0.0                  0.0   \n12706         Positive                  0.0                  0.0   \n12714         Positive                  0.0                  0.0   \n12716         Negative                  0.0                  0.0   \n\n       vader_sentiment_neu  vader_sentiment_compound vader_summary  \n0                      1.0                       0.0       Neutral  \n1                      1.0                       0.0       Neutral  \n2                      1.0                       0.0       Neutral  \n3                      1.0                       0.0       Neutral  \n5                      1.0                       0.0       Neutral  \n...                    ...                       ...           ...  \n12702                  1.0                       0.0       Neutral  \n12705                  1.0                       0.0       Neutral  \n12706                  1.0                       0.0       Neutral  \n12714                  1.0                       0.0       Neutral  \n12716                  1.0                       0.0       Neutral  \n\n[6266 rows x 17 columns]",
      "text/html": "<div>\n<style scoped>\n    .dataframe tbody tr th:only-of-type {\n        vertical-align: middle;\n    }\n\n    .dataframe tbody tr th {\n        vertical-align: top;\n    }\n\n    .dataframe thead th {\n        text-align: right;\n    }\n</style>\n<table border=\"1\" class=\"dataframe\">\n  <thead>\n    <tr style=\"text-align: right;\">\n      <th></th>\n      <th>tweet_id</th>\n      <th>name</th>\n      <th>verified</th>\n      <th>created_at</th>\n      <th>retweet_count</th>\n      <th>favorite_count</th>\n      <th>followers_count</th>\n      <th>hashtags</th>\n      <th>text</th>\n      <th>clean_text</th>\n      <th>textblob_sentiment</th>\n      <th>textblob_summary</th>\n      <th>vader_sentiment_pos</th>\n      <th>vader_sentiment_neg</th>\n      <th>vader_sentiment_neu</th>\n      <th>vader_sentiment_compound</th>\n      <th>vader_summary</th>\n    </tr>\n  </thead>\n  <tbody>\n    <tr>\n      <th>0</th>\n      <td>0</td>\n      <td>Bitcoin News</td>\n      <td>True</td>\n      <td>2022-03-05 09:33:07+00:00</td>\n      <td>151</td>\n      <td>520</td>\n      <td>2437101</td>\n      <td>[{'text': 'crypto', 'indices': [61, 68]}]</td>\n      <td>\"It is an open ledger, trying to sneak lots of...</td>\n      <td>[open, ledger, trying, sneak, lot, money, cryp...</td>\n      <td>0.000000</td>\n      <td>Neutral</td>\n      <td>0.0</td>\n      <td>0.0</td>\n      <td>1.0</td>\n      <td>0.0</td>\n      <td>Neutral</td>\n    </tr>\n    <tr>\n      <th>1</th>\n      <td>1</td>\n      <td>Bitcoin News</td>\n      <td>True</td>\n      <td>2022-03-05 12:03:14+00:00</td>\n      <td>87</td>\n      <td>245</td>\n      <td>2437101</td>\n      <td>[{'text': 'crypto', 'indices': [5, 12]}]</td>\n      <td>“The #crypto market today has a market capital...</td>\n      <td>[, crypto, market, today, market, capitalizati...</td>\n      <td>-0.200000</td>\n      <td>Negative</td>\n      <td>0.0</td>\n      <td>0.0</td>\n      <td>1.0</td>\n      <td>0.0</td>\n      <td>Neutral</td>\n    </tr>\n    <tr>\n      <th>2</th>\n      <td>2</td>\n      <td>Bitcoin News</td>\n      <td>True</td>\n      <td>2022-03-05 13:33:29+00:00</td>\n      <td>95</td>\n      <td>245</td>\n      <td>2437101</td>\n      <td>[{'text': 'cryptocurrency', 'indices': [88, 10...</td>\n      <td>G7 countries and the EU are looking at ways to...</td>\n      <td>[g7, country, eu, looking, way, stop, russia, ...</td>\n      <td>0.000000</td>\n      <td>Neutral</td>\n      <td>0.0</td>\n      <td>0.0</td>\n      <td>1.0</td>\n      <td>0.0</td>\n      <td>Neutral</td>\n    </tr>\n    <tr>\n      <th>3</th>\n      <td>3</td>\n      <td>Watcher.Guru</td>\n      <td>True</td>\n      <td>2022-03-05 11:01:13+00:00</td>\n      <td>149</td>\n      <td>1043</td>\n      <td>708057</td>\n      <td>[{'text': 'cryptocurrency', 'indices': [77, 92]}]</td>\n      <td>JUST IN: 🇸🇬 Singapore has introduced sanctions...</td>\n      <td>[singapore, introduced, sanction, russian, cen...</td>\n      <td>0.000000</td>\n      <td>Neutral</td>\n      <td>0.0</td>\n      <td>0.0</td>\n      <td>1.0</td>\n      <td>0.0</td>\n      <td>Neutral</td>\n    </tr>\n    <tr>\n      <th>5</th>\n      <td>5</td>\n      <td>Ian Heinisch</td>\n      <td>True</td>\n      <td>2022-03-05 21:34:37+00:00</td>\n      <td>16</td>\n      <td>27</td>\n      <td>7822</td>\n      <td>[{'text': 'cryptocurrency', 'indices': [54, 69]}]</td>\n      <td>I can not wait for the move to earn app. @Yeti...</td>\n      <td>[wait, move, earn, app, yeticoineth, cryptocur...</td>\n      <td>0.000000</td>\n      <td>Neutral</td>\n      <td>0.0</td>\n      <td>0.0</td>\n      <td>1.0</td>\n      <td>0.0</td>\n      <td>Neutral</td>\n    </tr>\n    <tr>\n      <th>...</th>\n      <td>...</td>\n      <td>...</td>\n      <td>...</td>\n      <td>...</td>\n      <td>...</td>\n      <td>...</td>\n      <td>...</td>\n      <td>...</td>\n      <td>...</td>\n      <td>...</td>\n      <td>...</td>\n      <td>...</td>\n      <td>...</td>\n      <td>...</td>\n      <td>...</td>\n      <td>...</td>\n      <td>...</td>\n    </tr>\n    <tr>\n      <th>12702</th>\n      <td>756</td>\n      <td>Wirex</td>\n      <td>True</td>\n      <td>Mon Apr 04 07:00:29 +0000 2022</td>\n      <td>24</td>\n      <td>69</td>\n      <td>41535</td>\n      <td>[{'text': 'BTC', 'indices': [108, 112]}]</td>\n      <td>Get industry best interest % just for HODLing ...</td>\n      <td>[get, industry, best, interest, hodling, bag, ...</td>\n      <td>1.000000</td>\n      <td>Positive</td>\n      <td>0.0</td>\n      <td>0.0</td>\n      <td>1.0</td>\n      <td>0.0</td>\n      <td>Neutral</td>\n    </tr>\n    <tr>\n      <th>12705</th>\n      <td>759</td>\n      <td>May</td>\n      <td>True</td>\n      <td>Mon Apr 04 08:15:18 +0000 2022</td>\n      <td>1518</td>\n      <td>1605</td>\n      <td>158839</td>\n      <td>[{'text': 'Upril', 'indices': [18, 24]}, {'tex...</td>\n      <td>Once again, Happy #Upril 😍\\nShill me your proj...</td>\n      <td>[happy, upril, shill, project, month, btc, cry...</td>\n      <td>0.800000</td>\n      <td>Positive</td>\n      <td>0.0</td>\n      <td>0.0</td>\n      <td>1.0</td>\n      <td>0.0</td>\n      <td>Neutral</td>\n    </tr>\n    <tr>\n      <th>12706</th>\n      <td>760</td>\n      <td>LunarCrush</td>\n      <td>True</td>\n      <td>Mon Apr 04 02:08:30 +0000 2022</td>\n      <td>147</td>\n      <td>1102</td>\n      <td>259474</td>\n      <td>[{'text': 'bitcoin', 'indices': [100, 108]}]</td>\n      <td>🤔Which coins had the highest number of individ...</td>\n      <td>[, coin, highest, number, individual, social, ...</td>\n      <td>0.016667</td>\n      <td>Positive</td>\n      <td>0.0</td>\n      <td>0.0</td>\n      <td>1.0</td>\n      <td>0.0</td>\n      <td>Neutral</td>\n    </tr>\n    <tr>\n      <th>12714</th>\n      <td>768</td>\n      <td>Wirex</td>\n      <td>True</td>\n      <td>Mon Apr 04 07:00:29 +0000 2022</td>\n      <td>24</td>\n      <td>69</td>\n      <td>41535</td>\n      <td>[{'text': 'BTC', 'indices': [108, 112]}]</td>\n      <td>Get industry best interest % just for HODLing ...</td>\n      <td>[get, industry, best, interest, hodling, bag, ...</td>\n      <td>1.000000</td>\n      <td>Positive</td>\n      <td>0.0</td>\n      <td>0.0</td>\n      <td>1.0</td>\n      <td>0.0</td>\n      <td>Neutral</td>\n    </tr>\n    <tr>\n      <th>12716</th>\n      <td>770</td>\n      <td>Crypto King</td>\n      <td>True</td>\n      <td>Mon Apr 04 08:54:28 +0000 2022</td>\n      <td>14</td>\n      <td>73</td>\n      <td>81277</td>\n      <td>[{'text': 'Altcoin', 'indices': [4, 12]}, {'te...</td>\n      <td>The #Altcoin moon bag 🤝🚀:\\n\\n#KASTA (Q2 app de...</td>\n      <td>[altcoin, moon, bag, kasta, q2, app, delivery,...</td>\n      <td>-0.200000</td>\n      <td>Negative</td>\n      <td>0.0</td>\n      <td>0.0</td>\n      <td>1.0</td>\n      <td>0.0</td>\n      <td>Neutral</td>\n    </tr>\n  </tbody>\n</table>\n<p>6266 rows × 17 columns</p>\n</div>"
     },
     "execution_count": 38,
     "metadata": {},
     "output_type": "execute_result"
    }
   ],
   "source": [
    "crypto_sentiment.to_csv(\"crypto_sentiment.csv\")\n",
    "crypto_sentiment"
   ],
   "metadata": {
    "collapsed": false,
    "pycharm": {
     "name": "#%%\n"
    }
   }
  },
  {
   "cell_type": "code",
   "execution_count": 39,
   "outputs": [
    {
     "name": "stdout",
     "output_type": "stream",
     "text": [
      "7677\n",
      "1411\n"
     ]
    }
   ],
   "source": [
    "len_doge = len(doge_sentiment)\n",
    "len_btc = len(bitcoin_sentiment)\n",
    "len_avax = len(avalanche_sentiment)\n",
    "len_eth = len(ethereum_sentiment)\n",
    "len_sol = len(solana_sentiment)\n",
    "\n",
    "print(len(text_data)-len_doge-len_sol-len_eth-len_btc-len_avax)\n",
    "print(len(text_data)-len_doge-len_sol-len_eth-len_btc-len_avax-len(crypto_sentiment))"
   ],
   "metadata": {
    "collapsed": false,
    "pycharm": {
     "name": "#%%\n"
    }
   }
  },
  {
   "cell_type": "markdown",
   "source": [
    "Not all the tweets pertain to the coins - there is clearly some error within the API as there are some tweets with no hashtags or mention of the specified criteria. Perhaps it pulled in some viral tweets that were important across all spaces despite not explicitly mentioning the keywords."
   ],
   "metadata": {
    "collapsed": false,
    "pycharm": {
     "name": "#%% md\n"
    }
   }
  }
 ],
 "metadata": {
  "kernelspec": {
   "display_name": "Python 3",
   "language": "python",
   "name": "python3"
  },
  "language_info": {
   "codemirror_mode": {
    "name": "ipython",
    "version": 2
   },
   "file_extension": ".py",
   "mimetype": "text/x-python",
   "name": "python",
   "nbconvert_exporter": "python",
   "pygments_lexer": "ipython2",
   "version": "2.7.6"
  }
 },
 "nbformat": 4,
 "nbformat_minor": 0
}