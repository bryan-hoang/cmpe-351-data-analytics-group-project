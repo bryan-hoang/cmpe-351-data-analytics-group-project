{
 "cells": [
  {
   "cell_type": "code",
   "execution_count": 35,
   "metadata": {
    "collapsed": true
   },
   "outputs": [],
   "source": [
    "from twython import Twython\n",
    "import pandas as pd\n",
    "\n",
    "APP_KEY = 'l9HUF0alT7jmUdtu7NdXTDt8H'\n",
    "APP_SECRET = 'iF3SenY2glLpt6XOswJVtgIkgyqXs6ax53HtRtJgaXe6YQq8QG'\n",
    "\n",
    "twitter = Twython(APP_KEY, APP_SECRET, oauth_version=2)\n",
    "ACCESS_TOKEN = twitter.obtain_access_token()"
   ]
  },
  {
   "cell_type": "code",
   "execution_count": 37,
   "outputs": [],
   "source": [
    "twitter = Twython(APP_KEY, APP_SECRET, access_token=ACCESS_TOKEN)"
   ],
   "metadata": {
    "collapsed": false,
    "pycharm": {
     "name": "#%%\n"
    }
   }
  },
  {
   "cell_type": "code",
   "execution_count": 38,
   "outputs": [
    {
     "name": "stdout",
     "output_type": "stream",
     "text": [
      "{'statuses': [], 'search_metadata': {'completed_in': 0.019, 'max_id': 1498357304156168195, 'max_id_str': '1498357304156168195', 'query': 'cryptocurrency', 'refresh_url': '?since_id=1498357304156168195&q=cryptocurrency&include_entities=1', 'count': 1, 'since_id': 0, 'since_id_str': '0'}}\n"
     ]
    }
   ],
   "source": [
    "search_results = twitter.search(count=1, q='cryptocurrency')\n",
    "\n",
    "print(search_results)"
   ],
   "metadata": {
    "collapsed": false,
    "pycharm": {
     "name": "#%%\n"
    }
   }
  },
  {
   "cell_type": "code",
   "execution_count": null,
   "outputs": [],
   "source": [],
   "metadata": {
    "collapsed": false,
    "pycharm": {
     "name": "#%%\n"
    }
   }
  }
 ],
 "metadata": {
  "kernelspec": {
   "display_name": "Python 3",
   "language": "python",
   "name": "python3"
  },
  "language_info": {
   "codemirror_mode": {
    "name": "ipython",
    "version": 2
   },
   "file_extension": ".py",
   "mimetype": "text/x-python",
   "name": "python",
   "nbconvert_exporter": "python",
   "pygments_lexer": "ipython2",
   "version": "2.7.6"
  }
 },
 "nbformat": 4,
 "nbformat_minor": 0
}