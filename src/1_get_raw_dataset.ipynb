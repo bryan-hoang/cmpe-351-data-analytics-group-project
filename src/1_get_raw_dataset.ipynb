{
 "cells": [
  {
   "cell_type": "markdown",
   "metadata": {},
   "source": [
    "# Getting the raw dataset\n",
    "\n",
    "We'll be using `twython` and `cryptocompare` as APIs to get the respective\n",
    "Twitter and cryptocurrency data that will make up the project's dataset.\n",
    "\n",
    "## Importing packages.\n",
    "\n",
    "First, we'll import the necessary python packages."
   ]
  },
  {
   "cell_type": "code",
   "execution_count": 1,
   "metadata": {
    "title": "[python]"
   },
   "outputs": [],
   "source": [
    "# Access environment variables.\n",
    "from os import environ\n",
    "\n",
    "# Cryptocompare API\n",
    "import cryptocompare\n",
    "\n",
    "# Manipulating the raw data to save it in a ``.csv`` files.\n",
    "import pandas as pd\n",
    "\n",
    "# Loading environment variables from a `.env` file.\n",
    "from dotenv import load_dotenv\n",
    "\n",
    "# Twython API.\n",
    "from twython import Twython"
   ]
  },
  {
   "cell_type": "markdown",
   "metadata": {},
   "source": [
    "## Loading secrets from environment variables.\n",
    "\n",
    "Next, we need to set credentials to access the CryptoCompare and Twython\n",
    "APIs. To avoid hard coding the secrets, we'll load them from the environment,\n",
    "i.e., a `.env` file."
   ]
  },
  {
   "cell_type": "code",
   "execution_count": 2,
   "metadata": {},
   "outputs": [],
   "source": [
    "# Loads environment variables from a `.env` file.\n",
    "load_dotenv()\n",
    "\n",
    "# Now the environment variables from the file are available, as if they were\n",
    "# specified typically from the commandline.\n",
    "TWITTER_APP_KEY = environ[\"TWITTER_APP_KEY\"]\n",
    "TWITTER_APP_SECRET = environ[\"TWITTER_APP_SECRET\"]"
   ]
  },
  {
   "cell_type": "markdown",
   "metadata": {},
   "source": [
    "## Testing the APIs.\n",
    "\n",
    "Let's test the CryptoCompare API. `CRYPTOCOMPARE_API_KEY` should be specified\n",
    "in the `.env` file so that the python package can detect it automatically as\n",
    "an environment variable."
   ]
  },
  {
   "cell_type": "code",
   "execution_count": 3,
   "metadata": {},
   "outputs": [
    {
     "data": {
      "text/plain": [
       "{'BTC': {'USD': 40802.6}}"
      ]
     },
     "execution_count": 3,
     "metadata": {},
     "output_type": "execute_result"
    }
   ],
   "source": [
    "cryptocompare.get_price(\"BTC\", currency=\"USD\")"
   ]
  },
  {
   "cell_type": "markdown",
   "metadata": {},
   "source": [
    "Now let's test accessing Twitter's API through Twython."
   ]
  },
  {
   "cell_type": "code",
   "execution_count": 4,
   "metadata": {},
   "outputs": [
    {
     "name": "stdout",
     "output_type": "stream",
     "text": [
      "{'statuses': [{'created_at': 'Fri Mar 04 18:29:36 +0000 2022', 'id': 1499814332003414016, 'id_str': '1499814332003414016', 'text': 'RT @CryptoTownEU: 🚀 Airdrop: AvaStation\\n💰 Value: 250 $AVS\\n👥 Top 1000 Referral: 250 $AVS\\n👥 Top 50 Referral: 20 $BUSD\\n📅 End Date: 25th March,…', 'truncated': False, 'entities': {'hashtags': [], 'symbols': [{'text': 'AVS', 'indices': [53, 57]}, {'text': 'AVS', 'indices': [83, 87]}, {'text': 'BUSD', 'indices': [110, 115]}], 'user_mentions': [{'screen_name': 'CryptoTownEU', 'name': 'CryptoTown', 'id': 1034478294677250048, 'id_str': '1034478294677250048', 'indices': [3, 16]}], 'urls': []}, 'metadata': {'iso_language_code': 'en', 'result_type': 'recent'}, 'source': '<a href=\"https://mobile.twitter.com\" rel=\"nofollow\">Twitter Web App</a>', 'in_reply_to_status_id': None, 'in_reply_to_status_id_str': None, 'in_reply_to_user_id': None, 'in_reply_to_user_id_str': None, 'in_reply_to_screen_name': None, 'user': {'id': 1434172225561579526, 'id_str': '1434172225561579526', 'name': 'Sáng Nguyễn Văn', 'screen_name': 'SngNguynVn8', 'location': '', 'description': 'cha gi ca', 'url': None, 'entities': {'description': {'urls': []}}, 'protected': False, 'followers_count': 231, 'friends_count': 544, 'listed_count': 10, 'created_at': 'Sat Sep 04 15:11:30 +0000 2021', 'favourites_count': 126, 'utc_offset': None, 'time_zone': None, 'geo_enabled': False, 'verified': False, 'statuses_count': 199, 'lang': None, 'contributors_enabled': False, 'is_translator': False, 'is_translation_enabled': False, 'profile_background_color': 'F5F8FA', 'profile_background_image_url': None, 'profile_background_image_url_https': None, 'profile_background_tile': False, 'profile_image_url': 'http://pbs.twimg.com/profile_images/1434172275708682246/N9Hpc1vx_normal.png', 'profile_image_url_https': 'https://pbs.twimg.com/profile_images/1434172275708682246/N9Hpc1vx_normal.png', 'profile_link_color': '1DA1F2', 'profile_sidebar_border_color': 'C0DEED', 'profile_sidebar_fill_color': 'DDEEF6', 'profile_text_color': '333333', 'profile_use_background_image': True, 'has_extended_profile': True, 'default_profile': True, 'default_profile_image': False, 'following': None, 'follow_request_sent': None, 'notifications': None, 'translator_type': 'none', 'withheld_in_countries': []}, 'geo': None, 'coordinates': None, 'place': None, 'contributors': None, 'retweeted_status': {'created_at': 'Fri Mar 04 11:35:00 +0000 2022', 'id': 1499709995822325762, 'id_str': '1499709995822325762', 'text': '🚀 Airdrop: AvaStation\\n💰 Value: 250 $AVS\\n👥 Top 1000 Referral: 250 $AVS\\n👥 Top 50 Referral: 20 $BUSD\\n📅 End Date: 25th… https://t.co/oeQZlJSNUc', 'truncated': True, 'entities': {'hashtags': [], 'symbols': [{'text': 'AVS', 'indices': [35, 39]}, {'text': 'AVS', 'indices': [65, 69]}, {'text': 'BUSD', 'indices': [92, 97]}], 'user_mentions': [], 'urls': [{'url': 'https://t.co/oeQZlJSNUc', 'expanded_url': 'https://twitter.com/i/web/status/1499709995822325762', 'display_url': 'twitter.com/i/web/status/1…', 'indices': [116, 139]}]}, 'metadata': {'iso_language_code': 'en', 'result_type': 'recent'}, 'source': '<a href=\"http://twitter.com/download/android\" rel=\"nofollow\">Twitter for Android</a>', 'in_reply_to_status_id': None, 'in_reply_to_status_id_str': None, 'in_reply_to_user_id': None, 'in_reply_to_user_id_str': None, 'in_reply_to_screen_name': None, 'user': {'id': 1034478294677250048, 'id_str': '1034478294677250048', 'name': 'CryptoTown', 'screen_name': 'CryptoTownEU', 'location': '', 'description': '#Bitcoin\\nTelegram: https://t.co/OxJCmI7JKD\\n\\n▪︎ Build #Airdrop bot\\n▪︎ Promote #Airdrops\\n\\n☎️ Contact: https://t.co/P7WPdu8Si7', 'url': None, 'entities': {'description': {'urls': [{'url': 'https://t.co/OxJCmI7JKD', 'expanded_url': 'https://t.me/airdropo', 'display_url': 't.me/airdropo', 'indices': [19, 42]}, {'url': 'https://t.co/P7WPdu8Si7', 'expanded_url': 'https://t.me/AirdropNinjaMarketing', 'display_url': 't.me/AirdropNinjaMa…', 'indices': [100, 123]}]}}, 'protected': False, 'followers_count': 1295835, 'friends_count': 52, 'listed_count': 626, 'created_at': 'Tue Aug 28 16:30:19 +0000 2018', 'favourites_count': 1366, 'utc_offset': None, 'time_zone': None, 'geo_enabled': False, 'verified': False, 'statuses_count': 4187, 'lang': None, 'contributors_enabled': False, 'is_translator': False, 'is_translation_enabled': False, 'profile_background_color': 'F5F8FA', 'profile_background_image_url': None, 'profile_background_image_url_https': None, 'profile_background_tile': False, 'profile_image_url': 'http://pbs.twimg.com/profile_images/1154766291254861824/oAQ7JwWr_normal.jpg', 'profile_image_url_https': 'https://pbs.twimg.com/profile_images/1154766291254861824/oAQ7JwWr_normal.jpg', 'profile_banner_url': 'https://pbs.twimg.com/profile_banners/1034478294677250048/1643294649', 'profile_link_color': '1DA1F2', 'profile_sidebar_border_color': 'C0DEED', 'profile_sidebar_fill_color': 'DDEEF6', 'profile_text_color': '333333', 'profile_use_background_image': True, 'has_extended_profile': False, 'default_profile': True, 'default_profile_image': False, 'following': None, 'follow_request_sent': None, 'notifications': None, 'translator_type': 'none', 'withheld_in_countries': []}, 'geo': None, 'coordinates': None, 'place': None, 'contributors': None, 'is_quote_status': False, 'retweet_count': 11478, 'favorite_count': 12976, 'favorited': False, 'retweeted': False, 'possibly_sensitive': False, 'lang': 'en'}, 'is_quote_status': False, 'retweet_count': 11478, 'favorite_count': 0, 'favorited': False, 'retweeted': False, 'lang': 'en'}], 'search_metadata': {'completed_in': 0.025, 'max_id': 1499814332003414016, 'max_id_str': '1499814332003414016', 'next_results': '?max_id=1499814332003414015&q=cryptocurrency&count=1&include_entities=1', 'query': 'cryptocurrency', 'refresh_url': '?since_id=1499814332003414016&q=cryptocurrency&include_entities=1', 'count': 1, 'since_id': 0, 'since_id_str': '0'}}\n"
     ]
    }
   ],
   "source": [
    "twitter = Twython(TWITTER_APP_KEY, TWITTER_APP_SECRET, oauth_version=2)\n",
    "ACCESS_TOKEN = twitter.obtain_access_token()\n",
    "twitter = Twython(\n",
    "    TWITTER_APP_KEY, TWITTER_APP_SECRET, access_token=ACCESS_TOKEN\n",
    ")\n",
    "\n",
    "search_results = twitter.search(count=1, q=\"cryptocurrency\")\n",
    "print(search_results)"
   ]
  }
 ],
 "metadata": {
  "interpreter": {
   "hash": "066ed5770c8d3c9573e043820b1e4265a2544c7e3e0b57b630dfd55053a03a58"
  },
  "kernelspec": {
   "display_name": "Python 3.10.0 ('cmpe-351-group-1-FuIPzgc6')",
   "language": "python",
   "name": "python3"
  },
  "language_info": {
   "codemirror_mode": {
    "name": "ipython",
    "version": 3
   },
   "file_extension": ".py",
   "mimetype": "text/x-python",
   "name": "python",
   "nbconvert_exporter": "python",
   "pygments_lexer": "ipython3",
   "version": "3.10.0"
  }
 },
 "nbformat": 4,
 "nbformat_minor": 2
}
