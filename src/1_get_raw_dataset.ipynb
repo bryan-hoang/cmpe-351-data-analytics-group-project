{
 "cells": [
  {
   "cell_type": "markdown",
   "metadata": {},
   "source": [
    "# Getting the raw dataset\n",
    "\n",
    "We'll be using `twython` and `cryptocompare` as APIs to get the respective\n",
    "Twitter and cryptocurrency data that will make up the project's dataset.\n",
    "\n",
    "## Importing packages.\n",
    "\n",
    "First, we'll import the necessary python packages."
   ]
  },
  {
   "cell_type": "code",
   "execution_count": 1,
   "metadata": {
    "title": "[python]"
   },
   "outputs": [],
   "source": [
    "# Access environment variables.\n",
    "from os import environ\n",
    "\n",
    "# Cryptocompare API\n",
    "import cryptocompare\n",
    "\n",
    "# Manipulating the raw data to save it in a ``.csv`` files.\n",
    "import pandas as pd\n",
    "\n",
    "# Loading environment variables from a `.env` file.\n",
    "from dotenv import load_dotenv\n",
    "\n",
    "# Twython API.\n",
    "from twython import Twython"
   ]
  },
  {
   "cell_type": "markdown",
   "metadata": {},
   "source": [
    "## Loading secrets from environment variables.\n",
    "\n",
    "Next, we need to set credentials to access the CryptoCompare and Twython\n",
    "APIs. To avoid hard coding the secrets, we'll load them from the environment,\n",
    "i.e., a `.env` file."
   ]
  },
  {
   "cell_type": "code",
   "execution_count": 2,
   "metadata": {},
   "outputs": [],
   "source": [
    "# Loads environment variables from a `.env` file.\n",
    "load_dotenv()\n",
    "\n",
    "# Now the environment variables from the file are available, as if they were\n",
    "# specified typically from the commandline.\n",
    "TWITTER_APP_KEY = environ[\"TWITTER_APP_KEY\"]\n",
    "TWITTER_APP_SECRET = environ[\"TWITTER_APP_SECRET\"]"
   ]
  },
  {
   "cell_type": "markdown",
   "metadata": {},
   "source": [
    "## Testing the APIs.\n",
    "\n",
    "Let's test the CryptoCompare API. `CRYPTOCOMPARE_API_KEY` should be specified\n",
    "in the `.env` file so that the python package can detect it automatically as\n",
    "an environment variable."
   ]
  },
  {
   "cell_type": "code",
   "execution_count": 3,
   "metadata": {},
   "outputs": [
    {
     "data": {
      "text/plain": [
       "{'BTC': {'USD': 39083.25}}"
      ]
     },
     "execution_count": 3,
     "metadata": {},
     "output_type": "execute_result"
    }
   ],
   "source": [
    "cryptocompare.get_price(\"BTC\", currency=\"USD\")"
   ]
  },
  {
   "cell_type": "markdown",
   "metadata": {},
   "source": [
    "Now let's test accessing Twitter's API through Twython."
   ]
  },
  {
   "cell_type": "code",
   "execution_count": 4,
   "metadata": {},
   "outputs": [
    {
     "name": "stdout",
     "output_type": "stream",
     "text": [
      "{'statuses': [], 'search_metadata': {'completed_in': 0.021, 'max_id': 1500587859056771072, 'max_id_str': '1500587859056771072', 'query': 'cryptocurrency', 'refresh_url': '?since_id=1500587859056771072&q=cryptocurrency&include_entities=1', 'count': 1, 'since_id': 0, 'since_id_str': '0'}}\n"
     ]
    }
   ],
   "source": [
    "twitter = Twython(TWITTER_APP_KEY, TWITTER_APP_SECRET, oauth_version=2)\n",
    "ACCESS_TOKEN = twitter.obtain_access_token()\n",
    "twitter = Twython(\n",
    "    TWITTER_APP_KEY, TWITTER_APP_SECRET, access_token=ACCESS_TOKEN\n",
    ")\n",
    "\n",
    "search_results = twitter.search(count=1, q=\"cryptocurrency\")\n",
    "print(search_results)"
   ]
  }
 ],
 "metadata": {
  "interpreter": {
   "hash": "066ed5770c8d3c9573e043820b1e4265a2544c7e3e0b57b630dfd55053a03a58"
  },
  "kernelspec": {
   "display_name": "Python 3.10.0 ('cmpe-351-group-1-FuIPzgc6')",
   "language": "python",
   "name": "python3"
  },
  "language_info": {
   "codemirror_mode": {
    "name": "ipython",
    "version": 3
   },
   "file_extension": ".py",
   "mimetype": "text/x-python",
   "name": "python",
   "nbconvert_exporter": "python",
   "pygments_lexer": "ipython3",
   "version": "3.10.2"
  }
 },
 "nbformat": 4,
 "nbformat_minor": 2
}
