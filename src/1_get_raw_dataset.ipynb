{
 "cells": [
  {
   "cell_type": "markdown",
   "metadata": {},
   "source": [
    "# Getting the raw dataset\n",
    "\n",
    "We'll be using `twython` and `cryptocompare` as APIs to get the respective\n",
    "Twitter and cryptocurrency data that will make up the project's dataset.\n",
    "\n",
    "## Importing packages.\n",
    "\n",
    "First, we'll import the necessary python packages.\n"
   ]
  },
  {
   "cell_type": "code",
   "execution_count": 30,
   "metadata": {
    "title": "[python]"
   },
   "outputs": [],
   "source": [
    "from datetime import datetime\n",
    "\n",
    "# Access environment variables.\n",
    "from os import environ\n",
    "\n",
    "# Resolving paths in a platform agnostic way.\n",
    "from os.path import dirname, join, realpath\n",
    "\n",
    "# Cryptocompare API.\n",
    "from cryptocompare import get_historical_price_minute, get_price\n",
    "\n",
    "# Loading environment variables from a `.env` file.\n",
    "from dotenv import load_dotenv\n",
    "\n",
    "# Manipulating the raw data to save it in a ``.csv`` files.\n",
    "from pandas import DataFrame\n",
    "\n",
    "# Twython API.\n",
    "from twython import Twython"
   ]
  },
  {
   "cell_type": "code",
   "execution_count": 31,
   "metadata": {},
   "outputs": [],
   "source": [
    "def is_interactive():\n",
    "    import __main__ as main\n",
    "\n",
    "    return not hasattr(main, \"__file__\")\n",
    "\n",
    "\n",
    "if is_interactive():\n",
    "    SCRIPT_DIR = dirname(realpath(\"__file__\"))\n",
    "else:\n",
    "    SCRIPT_DIR = dirname(realpath(__file__))\n",
    "\n",
    "DATA_DIR = join(dirname(SCRIPT_DIR), \"data\")"
   ]
  },
  {
   "cell_type": "markdown",
   "metadata": {},
   "source": [
    "## Loading secrets from environment variables.\n",
    "\n",
    "Next, we need to set credentials to access the CryptoCompare and Twython\n",
    "APIs. To avoid hard coding the secrets, we'll load them from the environment,\n",
    "i.e., a `.env` file."
   ]
  },
  {
   "cell_type": "code",
   "execution_count": 32,
   "metadata": {},
   "outputs": [],
   "source": [
    "# Loads environment variables from a `.env` file.\n",
    "load_dotenv()\n",
    "\n",
    "# Now the environment variables from the file are available, as if they were\n",
    "# specified typically from the commandline.\n",
    "TWITTER_APP_KEY = environ[\"TWITTER_APP_KEY\"]\n",
    "TWITTER_APP_SECRET = environ[\"TWITTER_APP_SECRET\"]"
   ]
  },
  {
   "cell_type": "markdown",
   "metadata": {},
   "source": [
    "## Testing the APIs.\n",
    "\n",
    "Let's test the CryptoCompare API. `CRYPTOCOMPARE_API_KEY` should be specified\n",
    "in the `.env` file so that the python package can detect it automatically as\n",
    "an environment variable."
   ]
  },
  {
   "cell_type": "code",
   "execution_count": 33,
   "metadata": {},
   "outputs": [
    {
     "data": {
      "text/plain": [
       "{'BTC': {'USD': 38691.61}}"
      ]
     },
     "execution_count": 33,
     "metadata": {},
     "output_type": "execute_result"
    }
   ],
   "source": [
    "get_price(\"BTC\", currency=\"USD\")"
   ]
  },
  {
   "cell_type": "markdown",
   "metadata": {},
   "source": [
    "Now let's test accessing Twitter's API through Twython."
   ]
  },
  {
   "cell_type": "code",
   "execution_count": 34,
   "metadata": {},
   "outputs": [
    {
     "name": "stdout",
     "output_type": "stream",
     "text": [
      "{'statuses': [{'created_at': 'Tue Mar 08 16:20:47 +0000 2022', 'id': 1501231464821637126, 'id_str': '1501231464821637126', 'text': 'RT @Rabbit1366: @Kenzo_Ventures @CalvariaP2E The most beautiful things in the world cannot be touched,cannot be seen with the eyes,they hav…', 'truncated': False, 'entities': {'hashtags': [], 'symbols': [], 'user_mentions': [{'screen_name': 'Rabbit1366', 'name': 'Rabbit', 'id': 1432642655779962881, 'id_str': '1432642655779962881', 'indices': [3, 14]}, {'screen_name': 'Kenzo_Ventures', 'name': 'Kenzo Ventures', 'id': 1421141837310357505, 'id_str': '1421141837310357505', 'indices': [16, 31]}, {'screen_name': 'CalvariaP2E', 'name': 'Calvaria: P2E Game / WL IS OPEN', 'id': 1441073624526426120, 'id_str': '1441073624526426120', 'indices': [32, 44]}], 'urls': []}, 'metadata': {'iso_language_code': 'en', 'result_type': 'recent'}, 'source': '<a href=\"http://twitter.com/download/iphone\" rel=\"nofollow\">Twitter for iPhone</a>', 'in_reply_to_status_id': None, 'in_reply_to_status_id_str': None, 'in_reply_to_user_id': None, 'in_reply_to_user_id_str': None, 'in_reply_to_screen_name': None, 'user': {'id': 1432642655779962881, 'id_str': '1432642655779962881', 'name': 'Rabbit', 'screen_name': 'Rabbit1366', 'location': 'Islamic Republic of Iran', 'description': 'Thanks god', 'url': None, 'entities': {'description': {'urls': []}}, 'protected': False, 'followers_count': 270, 'friends_count': 2348, 'listed_count': 5, 'created_at': 'Tue Aug 31 09:53:53 +0000 2021', 'favourites_count': 5309, 'utc_offset': None, 'time_zone': None, 'geo_enabled': False, 'verified': False, 'statuses_count': 5707, 'lang': None, 'contributors_enabled': False, 'is_translator': False, 'is_translation_enabled': False, 'profile_background_color': 'F5F8FA', 'profile_background_image_url': None, 'profile_background_image_url_https': None, 'profile_background_tile': False, 'profile_image_url': 'http://pbs.twimg.com/profile_images/1479687607848161282/ui8aYq0j_normal.jpg', 'profile_image_url_https': 'https://pbs.twimg.com/profile_images/1479687607848161282/ui8aYq0j_normal.jpg', 'profile_banner_url': 'https://pbs.twimg.com/profile_banners/1432642655779962881/1634962097', 'profile_link_color': '1DA1F2', 'profile_sidebar_border_color': 'C0DEED', 'profile_sidebar_fill_color': 'DDEEF6', 'profile_text_color': '333333', 'profile_use_background_image': True, 'has_extended_profile': True, 'default_profile': True, 'default_profile_image': False, 'following': None, 'follow_request_sent': None, 'notifications': None, 'translator_type': 'none', 'withheld_in_countries': []}, 'geo': None, 'coordinates': None, 'place': None, 'contributors': None, 'retweeted_status': {'created_at': 'Tue Mar 08 16:20:39 +0000 2022', 'id': 1501231432383221769, 'id_str': '1501231432383221769', 'text': '@Kenzo_Ventures @CalvariaP2E The most beautiful things in the world cannot be touched,cannot be seen with the eyes,… https://t.co/phobiaT0L7', 'truncated': True, 'entities': {'hashtags': [], 'symbols': [], 'user_mentions': [{'screen_name': 'Kenzo_Ventures', 'name': 'Kenzo Ventures', 'id': 1421141837310357505, 'id_str': '1421141837310357505', 'indices': [0, 15]}, {'screen_name': 'CalvariaP2E', 'name': 'Calvaria: P2E Game / WL IS OPEN', 'id': 1441073624526426120, 'id_str': '1441073624526426120', 'indices': [16, 28]}], 'urls': [{'url': 'https://t.co/phobiaT0L7', 'expanded_url': 'https://twitter.com/i/web/status/1501231432383221769', 'display_url': 'twitter.com/i/web/status/1…', 'indices': [117, 140]}]}, 'metadata': {'iso_language_code': 'en', 'result_type': 'recent'}, 'source': '<a href=\"http://twitter.com/download/iphone\" rel=\"nofollow\">Twitter for iPhone</a>', 'in_reply_to_status_id': 1501211289489707018, 'in_reply_to_status_id_str': '1501211289489707018', 'in_reply_to_user_id': 1421141837310357505, 'in_reply_to_user_id_str': '1421141837310357505', 'in_reply_to_screen_name': 'Kenzo_Ventures', 'user': {'id': 1432642655779962881, 'id_str': '1432642655779962881', 'name': 'Rabbit', 'screen_name': 'Rabbit1366', 'location': 'Islamic Republic of Iran', 'description': 'Thanks god', 'url': None, 'entities': {'description': {'urls': []}}, 'protected': False, 'followers_count': 270, 'friends_count': 2348, 'listed_count': 5, 'created_at': 'Tue Aug 31 09:53:53 +0000 2021', 'favourites_count': 5309, 'utc_offset': None, 'time_zone': None, 'geo_enabled': False, 'verified': False, 'statuses_count': 5707, 'lang': None, 'contributors_enabled': False, 'is_translator': False, 'is_translation_enabled': False, 'profile_background_color': 'F5F8FA', 'profile_background_image_url': None, 'profile_background_image_url_https': None, 'profile_background_tile': False, 'profile_image_url': 'http://pbs.twimg.com/profile_images/1479687607848161282/ui8aYq0j_normal.jpg', 'profile_image_url_https': 'https://pbs.twimg.com/profile_images/1479687607848161282/ui8aYq0j_normal.jpg', 'profile_banner_url': 'https://pbs.twimg.com/profile_banners/1432642655779962881/1634962097', 'profile_link_color': '1DA1F2', 'profile_sidebar_border_color': 'C0DEED', 'profile_sidebar_fill_color': 'DDEEF6', 'profile_text_color': '333333', 'profile_use_background_image': True, 'has_extended_profile': True, 'default_profile': True, 'default_profile_image': False, 'following': None, 'follow_request_sent': None, 'notifications': None, 'translator_type': 'none', 'withheld_in_countries': []}, 'geo': None, 'coordinates': None, 'place': None, 'contributors': None, 'is_quote_status': False, 'retweet_count': 1, 'favorite_count': 1, 'favorited': False, 'retweeted': False, 'lang': 'en'}, 'is_quote_status': False, 'retweet_count': 1, 'favorite_count': 0, 'favorited': False, 'retweeted': False, 'lang': 'en'}], 'search_metadata': {'completed_in': 0.027, 'max_id': 1501231464821637126, 'max_id_str': '1501231464821637126', 'next_results': '?max_id=1501231464821637125&q=cryptocurrency&count=1&include_entities=1', 'query': 'cryptocurrency', 'refresh_url': '?since_id=1501231464821637126&q=cryptocurrency&include_entities=1', 'count': 1, 'since_id': 0, 'since_id_str': '0'}}\n"
     ]
    }
   ],
   "source": [
    "twitter = Twython(TWITTER_APP_KEY, TWITTER_APP_SECRET, oauth_version=2)\n",
    "ACCESS_TOKEN = twitter.obtain_access_token()\n",
    "twitter = Twython(\n",
    "    TWITTER_APP_KEY, TWITTER_APP_SECRET, access_token=ACCESS_TOKEN\n",
    ")\n",
    "\n",
    "search_results = twitter.search(count=1, q=\"cryptocurrency\")\n",
    "print(search_results)"
   ]
  },
  {
   "cell_type": "markdown",
   "metadata": {},
   "source": [
    "## Getting cryptocurrency data"
   ]
  },
  {
   "cell_type": "code",
   "execution_count": 36,
   "metadata": {},
   "outputs": [],
   "source": [
    "cryptocurrencies = [\"BTC\", \"ETH\", \"DOGE\", \"SOL\", \"AVAX\"]\n",
    "for cryptocurrency in cryptocurrencies:\n",
    "    price_dataset = []\n",
    "    earliest_timestamp = datetime.now()\n",
    "    days_count = 7\n",
    "    for day in range(0, days_count):\n",
    "        price_dataset += get_historical_price_minute(\n",
    "            cryptocurrency, \"USD\", limit=1440, toTs=earliest_timestamp\n",
    "        )\n",
    "\n",
    "        earliest_timestamp = price_dataset[-1][\"time\"]\n",
    "\n",
    "    # Saving the raw price data to a csv file.\n",
    "    price_data_frame = DataFrame(price_dataset)\n",
    "    price_data_frame.to_csv(\n",
    "        join(\n",
    "            DATA_DIR,\n",
    "            \"raw\",\n",
    "            \"crypto\",\n",
    "            f\"{cryptocurrency.lower()}_{days_count}_days_by_minute.csv\",\n",
    "        )\n",
    "    )"
   ]
  }
 ],
 "metadata": {
  "interpreter": {
   "hash": "066ed5770c8d3c9573e043820b1e4265a2544c7e3e0b57b630dfd55053a03a58"
  },
  "kernelspec": {
   "display_name": "Python 3.10.0 ('cmpe-351-group-1-FuIPzgc6')",
   "language": "python",
   "name": "python3"
  },
  "language_info": {
   "codemirror_mode": {
    "name": "ipython",
    "version": 3
   },
   "file_extension": ".py",
   "mimetype": "text/x-python",
   "name": "python",
   "nbconvert_exporter": "python",
   "pygments_lexer": "ipython3",
   "version": "3.10.2"
  }
 },
 "nbformat": 4,
 "nbformat_minor": 2
}
