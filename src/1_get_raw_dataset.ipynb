{
 "cells": [
  {
   "cell_type": "markdown",
   "metadata": {},
   "source": [
    "# Getting the raw dataset\n",
    "\n",
    "We'll be using `twython` and `cryptocompare` as APIs to get the respective\n",
    "Twitter and cryptocurrency data that will make up the project's dataset.\n",
    "\n",
    "## Importing packages.\n",
    "\n",
    "First, we'll import the necessary python packages.\n"
   ]
  },
  {
   "cell_type": "code",
   "execution_count": 12,
   "metadata": {
    "title": "[python]"
   },
   "outputs": [],
   "source": [
    "from datetime import datetime\n",
    "\n",
    "# Access environment variables.\n",
    "from os import environ\n",
    "\n",
    "# Resolving paths in a platform agnostic way.\n",
    "from os.path import dirname, join, realpath\n",
    "\n",
    "# Cryptocompare API.\n",
    "from cryptocompare import get_historical_price_minute, get_price\n",
    "\n",
    "# Loading environment variables from a `.env` file.\n",
    "from dotenv import load_dotenv\n",
    "\n",
    "# Manipulating the raw data to save it in a ``.csv`` files.\n",
    "from pandas import DataFrame, DatetimeIndex\n",
    "from pandas import concat as concat_df\n",
    "from pandas import date_range\n",
    "\n",
    "# Twython API.\n",
    "from twython import Twython"
   ]
  },
  {
   "cell_type": "code",
   "execution_count": 3,
   "metadata": {},
   "outputs": [],
   "source": [
    "def is_interactive():\n",
    "    \"\"\"Check if the script is being run interactively.\"\"\"\n",
    "    import __main__ as main\n",
    "\n",
    "    return not hasattr(main, \"__file__\")\n",
    "\n",
    "\n",
    "if is_interactive():\n",
    "    SCRIPT_DIR = dirname(realpath(\"__file__\"))\n",
    "else:\n",
    "    SCRIPT_DIR = dirname(realpath(__file__))\n",
    "\n",
    "# \"../data\"\n",
    "DATA_DIR = join(dirname(SCRIPT_DIR), \"data\")"
   ]
  },
  {
   "cell_type": "markdown",
   "metadata": {},
   "source": [
    "## Initializing APIs.\n",
    "\n",
    "Next, we need to set credentials to access the CryptoCompare and Twython\n",
    "APIs. To avoid hard coding the secrets, we'll load them from the environment,\n",
    "i.e., a `.env` file."
   ]
  },
  {
   "cell_type": "code",
   "execution_count": 6,
   "metadata": {},
   "outputs": [],
   "source": [
    "# Loads environment variables from a `.env` file.\n",
    "load_dotenv()\n",
    "\n",
    "# Now the environment variables from the file are available, as if they were\n",
    "# specified typically from the commandline.\n",
    "TWITTER_APP_KEY = environ[\"TWITTER_APP_KEY\"]\n",
    "TWITTER_APP_SECRET = environ[\"TWITTER_APP_SECRET\"]\n",
    "\n",
    "twitter = Twython(TWITTER_APP_KEY, TWITTER_APP_SECRET, oauth_version=2)\n",
    "ACCESS_TOKEN = twitter.obtain_access_token()\n",
    "twitter = Twython(\n",
    "    TWITTER_APP_KEY, TWITTER_APP_SECRET, access_token=ACCESS_TOKEN\n",
    ")"
   ]
  },
  {
   "cell_type": "markdown",
   "metadata": {},
   "source": [
    "## Testing the APIs.\n",
    "\n",
    "Let's test the CryptoCompare API. `CRYPTOCOMPARE_API_KEY` should be specified\n",
    "in the `.env` file so that the python package can detect it automatically as\n",
    "an environment variable."
   ]
  },
  {
   "cell_type": "code",
   "execution_count": 33,
   "metadata": {},
   "outputs": [
    {
     "data": {
      "text/plain": [
       "{'BTC': {'USD': 38691.61}}"
      ]
     },
     "execution_count": 33,
     "metadata": {},
     "output_type": "execute_result"
    }
   ],
   "source": [
    "get_price(\"BTC\", currency=\"USD\")"
   ]
  },
  {
   "cell_type": "markdown",
   "metadata": {},
   "source": [
    "Now let's test accessing Twitter's API through Twython."
   ]
  },
  {
   "cell_type": "code",
   "execution_count": 34,
   "metadata": {},
   "outputs": [
    {
     "name": "stdout",
     "output_type": "stream",
     "text": [
      "{'statuses': [{'created_at': 'Tue Mar 08 16:20:47 +0000 2022', 'id': 1501231464821637126, 'id_str': '1501231464821637126', 'text': 'RT @Rabbit1366: @Kenzo_Ventures @CalvariaP2E The most beautiful things in the world cannot be touched,cannot be seen with the eyes,they hav…', 'truncated': False, 'entities': {'hashtags': [], 'symbols': [], 'user_mentions': [{'screen_name': 'Rabbit1366', 'name': 'Rabbit', 'id': 1432642655779962881, 'id_str': '1432642655779962881', 'indices': [3, 14]}, {'screen_name': 'Kenzo_Ventures', 'name': 'Kenzo Ventures', 'id': 1421141837310357505, 'id_str': '1421141837310357505', 'indices': [16, 31]}, {'screen_name': 'CalvariaP2E', 'name': 'Calvaria: P2E Game / WL IS OPEN', 'id': 1441073624526426120, 'id_str': '1441073624526426120', 'indices': [32, 44]}], 'urls': []}, 'metadata': {'iso_language_code': 'en', 'result_type': 'recent'}, 'source': '<a href=\"http://twitter.com/download/iphone\" rel=\"nofollow\">Twitter for iPhone</a>', 'in_reply_to_status_id': None, 'in_reply_to_status_id_str': None, 'in_reply_to_user_id': None, 'in_reply_to_user_id_str': None, 'in_reply_to_screen_name': None, 'user': {'id': 1432642655779962881, 'id_str': '1432642655779962881', 'name': 'Rabbit', 'screen_name': 'Rabbit1366', 'location': 'Islamic Republic of Iran', 'description': 'Thanks god', 'url': None, 'entities': {'description': {'urls': []}}, 'protected': False, 'followers_count': 270, 'friends_count': 2348, 'listed_count': 5, 'created_at': 'Tue Aug 31 09:53:53 +0000 2021', 'favourites_count': 5309, 'utc_offset': None, 'time_zone': None, 'geo_enabled': False, 'verified': False, 'statuses_count': 5707, 'lang': None, 'contributors_enabled': False, 'is_translator': False, 'is_translation_enabled': False, 'profile_background_color': 'F5F8FA', 'profile_background_image_url': None, 'profile_background_image_url_https': None, 'profile_background_tile': False, 'profile_image_url': 'http://pbs.twimg.com/profile_images/1479687607848161282/ui8aYq0j_normal.jpg', 'profile_image_url_https': 'https://pbs.twimg.com/profile_images/1479687607848161282/ui8aYq0j_normal.jpg', 'profile_banner_url': 'https://pbs.twimg.com/profile_banners/1432642655779962881/1634962097', 'profile_link_color': '1DA1F2', 'profile_sidebar_border_color': 'C0DEED', 'profile_sidebar_fill_color': 'DDEEF6', 'profile_text_color': '333333', 'profile_use_background_image': True, 'has_extended_profile': True, 'default_profile': True, 'default_profile_image': False, 'following': None, 'follow_request_sent': None, 'notifications': None, 'translator_type': 'none', 'withheld_in_countries': []}, 'geo': None, 'coordinates': None, 'place': None, 'contributors': None, 'retweeted_status': {'created_at': 'Tue Mar 08 16:20:39 +0000 2022', 'id': 1501231432383221769, 'id_str': '1501231432383221769', 'text': '@Kenzo_Ventures @CalvariaP2E The most beautiful things in the world cannot be touched,cannot be seen with the eyes,… https://t.co/phobiaT0L7', 'truncated': True, 'entities': {'hashtags': [], 'symbols': [], 'user_mentions': [{'screen_name': 'Kenzo_Ventures', 'name': 'Kenzo Ventures', 'id': 1421141837310357505, 'id_str': '1421141837310357505', 'indices': [0, 15]}, {'screen_name': 'CalvariaP2E', 'name': 'Calvaria: P2E Game / WL IS OPEN', 'id': 1441073624526426120, 'id_str': '1441073624526426120', 'indices': [16, 28]}], 'urls': [{'url': 'https://t.co/phobiaT0L7', 'expanded_url': 'https://twitter.com/i/web/status/1501231432383221769', 'display_url': 'twitter.com/i/web/status/1…', 'indices': [117, 140]}]}, 'metadata': {'iso_language_code': 'en', 'result_type': 'recent'}, 'source': '<a href=\"http://twitter.com/download/iphone\" rel=\"nofollow\">Twitter for iPhone</a>', 'in_reply_to_status_id': 1501211289489707018, 'in_reply_to_status_id_str': '1501211289489707018', 'in_reply_to_user_id': 1421141837310357505, 'in_reply_to_user_id_str': '1421141837310357505', 'in_reply_to_screen_name': 'Kenzo_Ventures', 'user': {'id': 1432642655779962881, 'id_str': '1432642655779962881', 'name': 'Rabbit', 'screen_name': 'Rabbit1366', 'location': 'Islamic Republic of Iran', 'description': 'Thanks god', 'url': None, 'entities': {'description': {'urls': []}}, 'protected': False, 'followers_count': 270, 'friends_count': 2348, 'listed_count': 5, 'created_at': 'Tue Aug 31 09:53:53 +0000 2021', 'favourites_count': 5309, 'utc_offset': None, 'time_zone': None, 'geo_enabled': False, 'verified': False, 'statuses_count': 5707, 'lang': None, 'contributors_enabled': False, 'is_translator': False, 'is_translation_enabled': False, 'profile_background_color': 'F5F8FA', 'profile_background_image_url': None, 'profile_background_image_url_https': None, 'profile_background_tile': False, 'profile_image_url': 'http://pbs.twimg.com/profile_images/1479687607848161282/ui8aYq0j_normal.jpg', 'profile_image_url_https': 'https://pbs.twimg.com/profile_images/1479687607848161282/ui8aYq0j_normal.jpg', 'profile_banner_url': 'https://pbs.twimg.com/profile_banners/1432642655779962881/1634962097', 'profile_link_color': '1DA1F2', 'profile_sidebar_border_color': 'C0DEED', 'profile_sidebar_fill_color': 'DDEEF6', 'profile_text_color': '333333', 'profile_use_background_image': True, 'has_extended_profile': True, 'default_profile': True, 'default_profile_image': False, 'following': None, 'follow_request_sent': None, 'notifications': None, 'translator_type': 'none', 'withheld_in_countries': []}, 'geo': None, 'coordinates': None, 'place': None, 'contributors': None, 'is_quote_status': False, 'retweet_count': 1, 'favorite_count': 1, 'favorited': False, 'retweeted': False, 'lang': 'en'}, 'is_quote_status': False, 'retweet_count': 1, 'favorite_count': 0, 'favorited': False, 'retweeted': False, 'lang': 'en'}], 'search_metadata': {'completed_in': 0.027, 'max_id': 1501231464821637126, 'max_id_str': '1501231464821637126', 'next_results': '?max_id=1501231464821637125&q=cryptocurrency&count=1&include_entities=1', 'query': 'cryptocurrency', 'refresh_url': '?since_id=1501231464821637126&q=cryptocurrency&include_entities=1', 'count': 1, 'since_id': 0, 'since_id_str': '0'}}\n"
     ]
    }
   ],
   "source": [
    "twitter.search(count=1, q=\"cryptocurrency\")"
   ]
  },
  {
   "cell_type": "markdown",
   "metadata": {},
   "source": [
    "## Getting cryptocurrency data"
   ]
  },
  {
   "cell_type": "code",
   "execution_count": 36,
   "metadata": {},
   "outputs": [],
   "source": [
    "CRYPTOCURRENCIES = [\"BTC\", \"ETH\", \"DOGE\", \"SOL\", \"AVAX\"]\n",
    "# The last 7 days is the limit of the minute data from crypto compare.\n",
    "NUM_DAYS = 7\n",
    "DATE_RANGE = date_range(end=datetime.today(), periods=NUM_DAYS)\n",
    "\n",
    "\n",
    "def get_and_save_crypto_dataset(\n",
    "    cryptocurrencies: list[str], time_period: DatetimeIndex, save_folder: str\n",
    "):\n",
    "    \"\"\"Get cryptocurrency data and save it to a csv file.\"\"\"\n",
    "    for cryptocurrency in cryptocurrencies:\n",
    "        price_dataset = []\n",
    "        for date in time_period:\n",
    "            price_dataset += get_historical_price_minute(\n",
    "                cryptocurrency, \"USD\", limit=1440, toTs=date\n",
    "            )\n",
    "\n",
    "        # Saving the raw price data to a csv file.\n",
    "        price_data_frame = DataFrame(price_dataset)\n",
    "        price_data_frame.to_csv(\n",
    "            join(\n",
    "                save_folder,\n",
    "                \"raw\",\n",
    "                \"crypto\",\n",
    "                f\"{cryptocurrency.lower()}\"\n",
    "                f\"_{time_period[0].strftime('%Y_%m_%d')}\"\n",
    "                f\"-{time_period[-1].strftime('%Y_%m_%d')}_minute.csv\",\n",
    "            )\n",
    "        )\n",
    "\n",
    "\n",
    "get_and_save_crypto_dataset(CRYPTOCURRENCIES, DATE_RANGE, DATA_DIR)"
   ]
  },
  {
   "cell_type": "markdown",
   "metadata": {},
   "source": [
    "## Getting Twitter data"
   ]
  },
  {
   "cell_type": "code",
   "execution_count": 16,
   "metadata": {},
   "outputs": [
    {
     "data": {
      "text/html": [
       "<div>\n",
       "<style scoped>\n",
       "    .dataframe tbody tr th:only-of-type {\n",
       "        vertical-align: middle;\n",
       "    }\n",
       "\n",
       "    .dataframe tbody tr th {\n",
       "        vertical-align: top;\n",
       "    }\n",
       "\n",
       "    .dataframe thead th {\n",
       "        text-align: right;\n",
       "    }\n",
       "</style>\n",
       "<table border=\"1\" class=\"dataframe\">\n",
       "  <thead>\n",
       "    <tr style=\"text-align: right;\">\n",
       "      <th></th>\n",
       "      <th>text</th>\n",
       "      <th>retweet_count</th>\n",
       "      <th>favorite_count</th>\n",
       "      <th>followers_count</th>\n",
       "      <th>verified</th>\n",
       "      <th>listed_count</th>\n",
       "      <th>created_at</th>\n",
       "      <th>hashtags</th>\n",
       "      <th>name</th>\n",
       "    </tr>\n",
       "  </thead>\n",
       "  <tbody>\n",
       "    <tr>\n",
       "      <th>0</th>\n",
       "      <td>We are ready...\\nAre you? \\n\\nThe clock is tic...</td>\n",
       "      <td>913</td>\n",
       "      <td>2415</td>\n",
       "      <td>394003</td>\n",
       "      <td>True</td>\n",
       "      <td>568</td>\n",
       "      <td>Mon Feb 01 22:37:17 +0000 2021</td>\n",
       "      <td>[]</td>\n",
       "      <td>FEG (Feed Every Gorilla)</td>\n",
       "    </tr>\n",
       "    <tr>\n",
       "      <th>1</th>\n",
       "      <td>No swindling here 🚀 😉 TinderSwindler Coin is l...</td>\n",
       "      <td>446</td>\n",
       "      <td>469</td>\n",
       "      <td>1334485</td>\n",
       "      <td>True</td>\n",
       "      <td>600</td>\n",
       "      <td>Fri Sep 17 13:25:03 +0000 2010</td>\n",
       "      <td>[]</td>\n",
       "      <td>Candela</td>\n",
       "    </tr>\n",
       "    <tr>\n",
       "      <th>2</th>\n",
       "      <td>JUST IN: President Joe Biden to sign an execut...</td>\n",
       "      <td>735</td>\n",
       "      <td>4560</td>\n",
       "      <td>701689</td>\n",
       "      <td>True</td>\n",
       "      <td>1419</td>\n",
       "      <td>Wed Apr 28 20:04:12 +0000 2021</td>\n",
       "      <td>[{'text': 'Bitcoin', 'indices': [77, 85]}, {'t...</td>\n",
       "      <td>Watcher.Guru</td>\n",
       "    </tr>\n",
       "    <tr>\n",
       "      <th>3</th>\n",
       "      <td>#catecoin🐱 app will support multiple languages...</td>\n",
       "      <td>364</td>\n",
       "      <td>1053</td>\n",
       "      <td>82238</td>\n",
       "      <td>True</td>\n",
       "      <td>170</td>\n",
       "      <td>Sat Mar 30 04:19:58 +0000 2019</td>\n",
       "      <td>[{'text': 'catecoin', 'indices': [0, 9]}]</td>\n",
       "      <td>CateCoin</td>\n",
       "    </tr>\n",
       "    <tr>\n",
       "      <th>4</th>\n",
       "      <td>The most undervalued #cryptocurrency is…… 👇🏼</td>\n",
       "      <td>366</td>\n",
       "      <td>2174</td>\n",
       "      <td>610801</td>\n",
       "      <td>True</td>\n",
       "      <td>2271</td>\n",
       "      <td>Fri Jul 23 20:33:57 +0000 2010</td>\n",
       "      <td>[{'text': 'cryptocurrency', 'indices': [21, 36]}]</td>\n",
       "      <td>David Gokhshtein</td>\n",
       "    </tr>\n",
       "  </tbody>\n",
       "</table>\n",
       "</div>"
      ],
      "text/plain": [
       "                                                text  retweet_count  \\\n",
       "0  We are ready...\\nAre you? \\n\\nThe clock is tic...            913   \n",
       "1  No swindling here 🚀 😉 TinderSwindler Coin is l...            446   \n",
       "2  JUST IN: President Joe Biden to sign an execut...            735   \n",
       "3  #catecoin🐱 app will support multiple languages...            364   \n",
       "4       The most undervalued #cryptocurrency is…… 👇🏼            366   \n",
       "\n",
       "   favorite_count  followers_count  verified  listed_count  \\\n",
       "0            2415           394003      True           568   \n",
       "1             469          1334485      True           600   \n",
       "2            4560           701689      True          1419   \n",
       "3            1053            82238      True           170   \n",
       "4            2174           610801      True          2271   \n",
       "\n",
       "                       created_at  \\\n",
       "0  Mon Feb 01 22:37:17 +0000 2021   \n",
       "1  Fri Sep 17 13:25:03 +0000 2010   \n",
       "2  Wed Apr 28 20:04:12 +0000 2021   \n",
       "3  Sat Mar 30 04:19:58 +0000 2019   \n",
       "4  Fri Jul 23 20:33:57 +0000 2010   \n",
       "\n",
       "                                            hashtags                      name  \n",
       "0                                                 []  FEG (Feed Every Gorilla)  \n",
       "1                                                 []                   Candela  \n",
       "2  [{'text': 'Bitcoin', 'indices': [77, 85]}, {'t...              Watcher.Guru  \n",
       "3          [{'text': 'catecoin', 'indices': [0, 9]}]                  CateCoin  \n",
       "4  [{'text': 'cryptocurrency', 'indices': [21, 36]}]          David Gokhshtein  "
      ]
     },
     "execution_count": 16,
     "metadata": {},
     "output_type": "execute_result"
    }
   ],
   "source": [
    "tweet_data: dict = {\n",
    "    \"text\": [],  # statuses\n",
    "    \"retweet_count\": [],\n",
    "    \"favorite_count\": [],\n",
    "    \"followers_count\": [],\n",
    "    \"verified\": [],\n",
    "    \"listed_count\": [],\n",
    "    \"created_at\": [],\n",
    "    \"hashtags\": [],\n",
    "    \"name\": [],\n",
    "}\n",
    "\n",
    "HASHTAG_LIST = [\n",
    "    \"#cryptocurrency\",\n",
    "    \"#crypto\",\n",
    "    \"#dogecoin\",\n",
    "    \"#DOGE\",\n",
    "    \"#bitcoin\",\n",
    "    \"#BTC\",\n",
    "    \"#ethereum\",\n",
    "    \"#ENS\",\n",
    "    \"#avalanche\",\n",
    "    \"#AVAX\",\n",
    "    \"#solana\",\n",
    "    \"#SOL\",\n",
    "]\n",
    "\n",
    "\n",
    "def read_tweets(search_results):\n",
    "    \"\"\"Read tweets from the search results into a data frame.\"\"\"\n",
    "    for i in range(len(search_results[\"statuses\"])):\n",
    "        for j, _ in tweet_data.items():\n",
    "            if (\n",
    "                (j == \"text\")\n",
    "                or (j == \"retweet_count\")\n",
    "                or (j == \"favorite_count\")\n",
    "            ):\n",
    "                tweet_data[j].append(search_results[\"statuses\"][i][j])\n",
    "            elif j == \"hashtags\":\n",
    "                tweet_data[j].append(\n",
    "                    search_results[\"statuses\"][i][\"entities\"][j]\n",
    "                )\n",
    "            else:\n",
    "                tweet_data[j].append(search_results[\"statuses\"][i][\"user\"][j])\n",
    "\n",
    "    return DataFrame(tweet_data)\n",
    "\n",
    "\n",
    "date_today = datetime.today().strftime(\"%Y-%m-%d\")\n",
    "\n",
    "\n",
    "def make_df(hashtag_list, until_date=date_today, result_type=\"popular\"):\n",
    "    \"\"\"Make a dataframe of tweets containing the specified hashtags.\"\"\"\n",
    "    count = 0\n",
    "    tweets_dataframe = DataFrame()\n",
    "    for i in hashtag_list:\n",
    "        search_results = twitter.search(\n",
    "            count=100, q=i, until=until_date, result_type=result_type\n",
    "        )\n",
    "        tweets_dataframe = concat_df(\n",
    "            [tweets_dataframe, read_tweets(search_results)]\n",
    "        )\n",
    "        count = count + 1\n",
    "\n",
    "    return tweets_dataframe\n",
    "\n",
    "\n",
    "df = make_df(HASHTAG_LIST)\n",
    "\n",
    "df.to_csv(\n",
    "    join(\n",
    "        DATA_DIR,\n",
    "        \"raw\",\n",
    "        \"twitter\",\n",
    "        f\"tweets_{date_today}.csv\".replace(\"-\", \"_\"),\n",
    "    )\n",
    ")\n",
    "\n",
    "df.head()"
   ]
  }
 ],
 "metadata": {
  "interpreter": {
   "hash": "066ed5770c8d3c9573e043820b1e4265a2544c7e3e0b57b630dfd55053a03a58"
  },
  "kernelspec": {
   "display_name": "Python 3.10.0 ('cmpe-351-group-1-FuIPzgc6')",
   "language": "python",
   "name": "python3"
  },
  "language_info": {
   "codemirror_mode": {
    "name": "ipython",
    "version": 3
   },
   "file_extension": ".py",
   "mimetype": "text/x-python",
   "name": "python",
   "nbconvert_exporter": "python",
   "pygments_lexer": "ipython3",
   "version": "3.10.2"
  }
 },
 "nbformat": 4,
 "nbformat_minor": 2
}
