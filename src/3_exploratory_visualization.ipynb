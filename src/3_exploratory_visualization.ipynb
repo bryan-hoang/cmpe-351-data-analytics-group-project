{
 "cells": [
  {
   "cell_type": "markdown",
   "metadata": {},
   "source": [
    "# Exploratory visualization"
   ]
  },
  {
   "cell_type": "code",
   "execution_count": 59,
   "metadata": {},
   "outputs": [],
   "source": [
    "from datetime import datetime\n",
    "\n",
    "# Resolving paths in a platform agnostic way.\n",
    "from os.path import dirname, join, realpath\n",
    "\n",
    "import matplotlib.dates as mdates\n",
    "import matplotlib.pyplot as plt\n",
    "import pandas as pd\n",
    "import seaborn as sns\n",
    "\n",
    "# Manipulating the raw data to save it in a ``.csv`` files.\n",
    "from pandas import DataFrame, DatetimeIndex"
   ]
  },
  {
   "cell_type": "code",
   "execution_count": 60,
   "metadata": {},
   "outputs": [],
   "source": [
    "def is_interactive():\n",
    "    \"\"\"Check if the script is being run interactively.\"\"\"\n",
    "    import __main__ as main\n",
    "\n",
    "    return not hasattr(main, \"__file__\")\n",
    "\n",
    "\n",
    "if is_interactive():\n",
    "    SCRIPT_DIR = dirname(realpath(\"__file__\"))\n",
    "else:\n",
    "    SCRIPT_DIR = dirname(realpath(__file__))\n",
    "\n",
    "# \"../data\"\n",
    "DATA_DIR = join(dirname(SCRIPT_DIR), \"data\")"
   ]
  },
  {
   "cell_type": "markdown",
   "metadata": {},
   "source": [
    "## Graphing Cryptocurrency prices"
   ]
  },
  {
   "cell_type": "code",
   "execution_count": 61,
   "metadata": {},
   "outputs": [
    {
     "data": {
      "text/html": [
       "<div>\n",
       "<style scoped>\n",
       "    .dataframe tbody tr th:only-of-type {\n",
       "        vertical-align: middle;\n",
       "    }\n",
       "\n",
       "    .dataframe tbody tr th {\n",
       "        vertical-align: top;\n",
       "    }\n",
       "\n",
       "    .dataframe thead th {\n",
       "        text-align: right;\n",
       "    }\n",
       "</style>\n",
       "<table border=\"1\" class=\"dataframe\">\n",
       "  <thead>\n",
       "    <tr style=\"text-align: right;\">\n",
       "      <th></th>\n",
       "      <th>Unnamed: 0</th>\n",
       "      <th>time</th>\n",
       "      <th>high</th>\n",
       "      <th>low</th>\n",
       "      <th>open</th>\n",
       "      <th>volumefrom</th>\n",
       "      <th>volumeto</th>\n",
       "      <th>close</th>\n",
       "      <th>conversionType</th>\n",
       "      <th>conversionSymbol</th>\n",
       "      <th>cryptocurrency</th>\n",
       "    </tr>\n",
       "  </thead>\n",
       "  <tbody>\n",
       "    <tr>\n",
       "      <th>0</th>\n",
       "      <td>0</td>\n",
       "      <td>2022-03-04 12:50:00</td>\n",
       "      <td>40805.94</td>\n",
       "      <td>40782.69</td>\n",
       "      <td>40787.05</td>\n",
       "      <td>20.2100</td>\n",
       "      <td>825274.57</td>\n",
       "      <td>40783.59</td>\n",
       "      <td>direct</td>\n",
       "      <td>NaN</td>\n",
       "      <td>BTC</td>\n",
       "    </tr>\n",
       "    <tr>\n",
       "      <th>1</th>\n",
       "      <td>1</td>\n",
       "      <td>2022-03-04 12:51:00</td>\n",
       "      <td>40793.84</td>\n",
       "      <td>40782.67</td>\n",
       "      <td>40783.59</td>\n",
       "      <td>0.7493</td>\n",
       "      <td>30560.29</td>\n",
       "      <td>40793.84</td>\n",
       "      <td>direct</td>\n",
       "      <td>NaN</td>\n",
       "      <td>BTC</td>\n",
       "    </tr>\n",
       "    <tr>\n",
       "      <th>2</th>\n",
       "      <td>2</td>\n",
       "      <td>2022-03-04 12:52:00</td>\n",
       "      <td>40798.21</td>\n",
       "      <td>40791.96</td>\n",
       "      <td>40793.84</td>\n",
       "      <td>2.3760</td>\n",
       "      <td>96918.76</td>\n",
       "      <td>40798.03</td>\n",
       "      <td>direct</td>\n",
       "      <td>NaN</td>\n",
       "      <td>BTC</td>\n",
       "    </tr>\n",
       "    <tr>\n",
       "      <th>3</th>\n",
       "      <td>3</td>\n",
       "      <td>2022-03-04 12:53:00</td>\n",
       "      <td>40816.49</td>\n",
       "      <td>40797.21</td>\n",
       "      <td>40798.03</td>\n",
       "      <td>4.4880</td>\n",
       "      <td>183210.08</td>\n",
       "      <td>40816.49</td>\n",
       "      <td>direct</td>\n",
       "      <td>NaN</td>\n",
       "      <td>BTC</td>\n",
       "    </tr>\n",
       "    <tr>\n",
       "      <th>4</th>\n",
       "      <td>4</td>\n",
       "      <td>2022-03-04 12:54:00</td>\n",
       "      <td>40853.58</td>\n",
       "      <td>40816.49</td>\n",
       "      <td>40816.49</td>\n",
       "      <td>26.0300</td>\n",
       "      <td>1063336.27</td>\n",
       "      <td>40838.92</td>\n",
       "      <td>direct</td>\n",
       "      <td>NaN</td>\n",
       "      <td>BTC</td>\n",
       "    </tr>\n",
       "  </tbody>\n",
       "</table>\n",
       "</div>"
      ],
      "text/plain": [
       "   Unnamed: 0                time      high       low      open  volumefrom  \\\n",
       "0           0 2022-03-04 12:50:00  40805.94  40782.69  40787.05     20.2100   \n",
       "1           1 2022-03-04 12:51:00  40793.84  40782.67  40783.59      0.7493   \n",
       "2           2 2022-03-04 12:52:00  40798.21  40791.96  40793.84      2.3760   \n",
       "3           3 2022-03-04 12:53:00  40816.49  40797.21  40798.03      4.4880   \n",
       "4           4 2022-03-04 12:54:00  40853.58  40816.49  40816.49     26.0300   \n",
       "\n",
       "     volumeto     close conversionType conversionSymbol cryptocurrency  \n",
       "0   825274.57  40783.59         direct              NaN            BTC  \n",
       "1    30560.29  40793.84         direct              NaN            BTC  \n",
       "2    96918.76  40798.03         direct              NaN            BTC  \n",
       "3   183210.08  40816.49         direct              NaN            BTC  \n",
       "4  1063336.27  40838.92         direct              NaN            BTC  "
      ]
     },
     "execution_count": 61,
     "metadata": {},
     "output_type": "execute_result"
    }
   ],
   "source": [
    "CRYPTOCURRENCIES = [\n",
    "    \"BTC\",\n",
    "    \"ETH\",\n",
    "    \"DOGE\",\n",
    "    \"SOL\",\n",
    "    \"AVAX\",\n",
    "]\n",
    "\n",
    "prices_dataframe = pd.DataFrame()\n",
    "\n",
    "for cryptocurrency in CRYPTOCURRENCIES:\n",
    "    temp_dataframe = pd.read_csv(\n",
    "        join(\n",
    "            DATA_DIR,\n",
    "            \"raw\",\n",
    "            \"crypto\",\n",
    "            f\"{cryptocurrency.lower()}_2022_03_05-2022_03_11_minute.csv\",\n",
    "        ),\n",
    "        # Number of minutes in an hour + header row.\n",
    "        nrows=61,\n",
    "    )\n",
    "\n",
    "    temp_dataframe[\"time\"] = temp_dataframe[\"time\"].transform(\n",
    "        datetime.fromtimestamp\n",
    "    )\n",
    "\n",
    "    temp_dataframe[\"cryptocurrency\"] = cryptocurrency\n",
    "    prices_dataframe = pd.concat([prices_dataframe, temp_dataframe])\n",
    "\n",
    "prices_dataframe.head()"
   ]
  },
  {
   "cell_type": "code",
   "execution_count": 62,
   "metadata": {},
   "outputs": [
    {
     "data": {
      "image/png": "[encoded data removed]",
      "text/plain": [
       "<Figure size 432x288 with 1 Axes>"
      ]
     },
     "metadata": {
      "needs_background": "light"
     },
     "output_type": "display_data"
    }
   ],
   "source": [
    "btc_price_dataframe = prices_dataframe[\n",
    "    prices_dataframe[\"cryptocurrency\"] == \"BTC\"\n",
    "]\n",
    "\n",
    "fig, ax = plt.subplots()\n",
    "\n",
    "ax.plot(btc_price_dataframe[\"time\"], btc_price_dataframe[\"open\"])\n",
    "\n",
    "x_formatter = mdates.DateFormatter(\"%H:%M\")\n",
    "ax.xaxis.set_major_formatter(x_formatter)\n",
    "\n",
    "ax.set_xlabel(\"Time (H:M)\")\n",
    "ax.set_ylabel(\"Price (USD)\")\n",
    "ax.set_title(\"The price of Bitcoin over an hour on March 4th\")\n",
    "\n",
    "plt.show()"
   ]
  },
  {
   "cell_type": "code",
   "execution_count": 63,
   "metadata": {},
   "outputs": [
    {
     "name": "stderr",
     "output_type": "stream",
     "text": [
      "/tmp/ipykernel_2221/274174129.py:26: UserWarning: FixedFormatter should only be used together with FixedLocator\n",
      "  ax.set_xticklabels(labels, rotation=30)  # set new labels\n"
     ]
    },
    {
     "data": {
      "image/png": "[encoded data removed]",
      "text/plain": [
       "<Figure size 648x432 with 5 Axes>"
      ]
     },
     "metadata": {
      "needs_background": "light"
     },
     "output_type": "display_data"
    }
   ],
   "source": [
    "# Create a grid : initialize it\n",
    "g = sns.FacetGrid(\n",
    "    prices_dataframe, col=\"cryptocurrency\", hue=\"cryptocurrency\", col_wrap=3\n",
    ")\n",
    "\n",
    "# Add the line over the area with the plot function\n",
    "g = g.map(plt.plot, \"time\", \"open\")\n",
    "\n",
    "# Fill the area with fill_between\n",
    "g = g.map(plt.fill_between, \"time\", \"open\", alpha=0.2).set_titles(\n",
    "    \"{col_name} cryptocurrency\"\n",
    ")\n",
    "\n",
    "# Set title of entire plot.\n",
    "g.fig.subplots_adjust(top=0.85)\n",
    "g.fig.suptitle(\"The prices of cryptocurrencies over an hour on March 4th\")\n",
    "\n",
    "# Control the title and axis labels of each facet\n",
    "g.set_titles(\"{col_name}\")\n",
    "g.set_axis_labels(\"Time (H:M)\", \"Price (USD)\")\n",
    "\n",
    "# Format dates on the x-axis.\n",
    "x_formatter = mdates.DateFormatter(\"%H:%M\")\n",
    "for ax in g.axes.flat:\n",
    "    labels = ax.get_xticklabels()  # get x labels\n",
    "    ax.set_xticklabels(labels, rotation=30)  # set new labels\n",
    "    ax.xaxis.set_major_formatter(xformatter)\n",
    "\n",
    "# Show the graph\n",
    "plt.show()"
   ]
  }
 ],
 "metadata": {
  "interpreter": {
   "hash": "066ed5770c8d3c9573e043820b1e4265a2544c7e3e0b57b630dfd55053a03a58"
  },
  "kernelspec": {
   "display_name": "Python 3.10.0 ('cmpe-351-group-1-FuIPzgc6')",
   "language": "python",
   "name": "python3"
  },
  "language_info": {
   "codemirror_mode": {
    "name": "ipython",
    "version": 3
   },
   "file_extension": ".py",
   "mimetype": "text/x-python",
   "name": "python",
   "nbconvert_exporter": "python",
   "pygments_lexer": "ipython3",
   "version": "3.10.3"
  }
 },
 "nbformat": 4,
 "nbformat_minor": 2
}
