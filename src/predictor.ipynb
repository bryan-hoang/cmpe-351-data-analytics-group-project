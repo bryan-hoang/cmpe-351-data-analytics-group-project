{
 "cells": [
  {
   "cell_type": "code",
   "execution_count": 49,
   "metadata": {
    "collapsed": true
   },
   "outputs": [],
   "source": [
    "import pandas as pd\n",
    "import numpy as np\n",
    "import os\n",
    "import keras\n",
    "from datetime import timedelta, datetime"
   ]
  },
  {
   "cell_type": "code",
   "execution_count": 208,
   "outputs": [
    {
     "ename": "FileNotFoundError",
     "evalue": "[Errno 2] No such file or directory: 'src'",
     "output_type": "error",
     "traceback": [
      "\u001B[0;31m---------------------------------------------------------------------------\u001B[0m",
      "\u001B[0;31mFileNotFoundError\u001B[0m                         Traceback (most recent call last)",
      "\u001B[0;32m<ipython-input-208-37122bcd5b48>\u001B[0m in \u001B[0;36m<module>\u001B[0;34m\u001B[0m\n\u001B[0;32m----> 1\u001B[0;31m \u001B[0mos\u001B[0m\u001B[0;34m.\u001B[0m\u001B[0mchdir\u001B[0m\u001B[0;34m(\u001B[0m\u001B[0;34m\"src\"\u001B[0m\u001B[0;34m)\u001B[0m \u001B[0;31m#used to reset to original working directory\u001B[0m\u001B[0;34m\u001B[0m\u001B[0m\n\u001B[0m",
      "\u001B[0;31mFileNotFoundError\u001B[0m: [Errno 2] No such file or directory: 'src'"
     ]
    }
   ],
   "source": [
    "#os.chdir(\"src\") #used to reset to original working directory"
   ],
   "metadata": {
    "collapsed": false,
    "pycharm": {
     "name": "#%%\n"
    }
   }
  },
  {
   "cell_type": "code",
   "execution_count": 3,
   "outputs": [],
   "source": [
    "os.chdir(\"../\") #Used to go out into the cmpe-351-group-1 folder to access the data without changing directories multiple times"
   ],
   "metadata": {
    "collapsed": false,
    "pycharm": {
     "name": "#%%\n"
    }
   }
  },
  {
   "cell_type": "code",
   "execution_count": 324,
   "outputs": [],
   "source": [
    "def hour_rounder(t):\n",
    "    # Rounds to nearest hour by adding a timedelta hour if minute >= 30\n",
    "    return (t.replace(second=0, microsecond=0, minute=0, hour=t.hour)\n",
    "            +timedelta(hours=t.minute//30))"
   ],
   "metadata": {
    "collapsed": false,
    "pycharm": {
     "name": "#%%\n"
    }
   }
  },
  {
   "cell_type": "code",
   "execution_count": 325,
   "outputs": [],
   "source": [
    "def normalize(df,column):\n",
    "    m = df[column].mean()\n",
    "    s = df[column].std()\n",
    "    df[column] = df[column].apply(lambda x: (x-m)/s)\n",
    "    return df[column]\n"
   ],
   "metadata": {
    "collapsed": false,
    "pycharm": {
     "name": "#%%\n"
    }
   }
  },
  {
   "cell_type": "code",
   "execution_count": 326,
   "outputs": [],
   "source": [
    "##Dates is an array of tuples consisting of month and day as numbers\n",
    "def get_dataset(crypto,start_month,start_day,end_month,end_day):\n",
    "    twitter_df = pd.read_csv(f'data/processed/twitter/{crypto}_sentiment.csv')\n",
    "    try:\n",
    "        crypt_prices = pd.read_csv(f'data/raw/crypto/{crypto_dict[crypto]}_2022_{start_month}_{start_day}-2022_{end_month}_{end_day}_minute.csv')\n",
    "    except:\n",
    "        crypt_prices = pd.read_csv(f'data/raw/crypto/{crypto_dict[crypto]}_2022_{start_month}_{start_day}-2022_{end_month}_{end_day}.csv')\n",
    "    crypt_prices[\"time\"] = pd.to_datetime(crypt_prices['time'],unit='s')\n",
    "    price_dict = crypt_prices.set_index(\"time\")[\"open\"].to_dict()\n",
    "    twitter_df[\"created_at\"] = twitter_df[\"created_at\"].apply(lambda x: pd.to_datetime(x).tz_localize(None))\n",
    "    twitter_df[\"created_at\"] = twitter_df[\"created_at\"].apply(lambda x: hour_rounder(x))\n",
    "    twitter_df[\"future_date\"] = twitter_df[\"created_at\"].apply(lambda x: x+timedelta(hours=23))\n",
    "\n",
    "    twitter_df = twitter_df[twitter_df[\"future_date\"].isin(crypt_prices[\"time\"])] ##Filter out dates for which we don't have price data\n",
    "\n",
    "    #print(len(twitter_df))\n",
    "\n",
    "    twitter_df = twitter_df[twitter_df[\"created_at\"].isin(crypt_prices[\"time\"])] ##Filter out dates for which we don't have price data\n",
    "\n",
    "\n",
    "    twitter_df[\"price\"] = twitter_df[\"created_at\"].apply(lambda x: price_dict[x])\n",
    "    for i in range(1,24):\n",
    "        twitter_df[f\"price_{i}hours\"] = twitter_df[\"created_at\"].apply(lambda x: price_dict[x+timedelta(hours=i)])\n",
    "    twitter_df[\"retweet_count\"] = normalize(twitter_df,\"retweet_count\")\n",
    "    twitter_df[\"favourite_count\"] = normalize(twitter_df,\"retweet_count\")\n",
    "    twitter_df[\"followers_count\"] = normalize(twitter_df,\"retweet_count\")\n",
    "    twitter_df[\"authority\"] = twitter_df[[\"retweet_count\",\"favourite_count\",\"followers_count\"]].sum(axis=1)\n",
    "\n",
    "    X = twitter_df[[\"authority\",\"vader_sentiment_compound\",\"price\"]]\n",
    "    y = twitter_df[[f\"price_{i}hours\" for i in range(1,24)]]\n",
    "    return twitter_df,X,y\n"
   ],
   "metadata": {
    "collapsed": false,
    "pycharm": {
     "name": "#%%\n"
    }
   }
  },
  {
   "cell_type": "code",
   "execution_count": 327,
   "outputs": [],
   "source": [
    "def make_model():\n",
    "    model = keras.Sequential()\n",
    "    model.add(keras.layers.LSTM(8,input_shape= (3,1)))\n",
    "    model.add(keras.layers.Dense(32))\n",
    "    model.add(keras.layers.Dense(23))\n",
    "    model.compile(loss='mean_squared_error', optimizer='adam', metrics=['mean_squared_error'])\n",
    "    return model"
   ],
   "metadata": {
    "collapsed": false,
    "pycharm": {
     "name": "#%%\n"
    }
   }
  },
  {
   "cell_type": "code",
   "execution_count": 328,
   "outputs": [],
   "source": [
    "def estimate_price(model,date,df):\n",
    "    date_23_hours = date-timedelta(hours=23)\n",
    "    date_1_hours = date-timedelta(hours=1)\n",
    "    df_useful = df[(df[\"created_at\"]<=date_1_hours) & (df[\"created_at\"]>=date_23_hours)]\n",
    "    if len(df_useful)==0:\n",
    "        return \"\"\n",
    "    else:\n",
    "        df_useful[\"idx\"] = df_useful[\"created_at\"].apply(lambda x: round((date-x).seconds/60/60))\n",
    "        X = df_useful[[\"authority\",\"vader_sentiment_compound\",\"price\"]]\n",
    "        y_hat = model.predict_on_batch(X)\n",
    "        #print(y_hat)\n",
    "        idx = df_useful[\"idx\"].values\n",
    "        vals = []\n",
    "        for i in range(len(y_hat)):\n",
    "            vals.append(y_hat[i][idx[i]-1])\n",
    "        return np.mean(vals)"
   ],
   "metadata": {
    "collapsed": false,
    "pycharm": {
     "name": "#%%\n"
    }
   }
  },
  {
   "cell_type": "code",
   "execution_count": 329,
   "outputs": [],
   "source": [
    "def daterange(start_date, end_date):\n",
    "    for n in range(int((end_date - start_date).days)*24):\n",
    "        yield start_date + timedelta(hours=n)"
   ],
   "metadata": {
    "collapsed": false,
    "pycharm": {
     "name": "#%%\n"
    }
   }
  },
  {
   "cell_type": "code",
   "execution_count": 330,
   "outputs": [],
   "source": [
    "def make_prediction(start_date, end_date, model,df):\n",
    "    pred = {}\n",
    "    for date in daterange(datetime.strptime(start_date,\"%d/%m/%Y\"),datetime.strptime(end_date,\"%d/%m/%Y\")):\n",
    "        val = estimate_price(model,date,df)\n",
    "        if val!='':\n",
    "            pred[date.strftime(\"%Y-%m-%d %H:%M:%S\")] = val\n",
    "    return pred"
   ],
   "metadata": {
    "collapsed": false,
    "pycharm": {
     "name": "#%%\n"
    }
   }
  },
  {
   "cell_type": "code",
   "execution_count": 331,
   "outputs": [],
   "source": [
    "def evaluate_model(start_date,end_date,model,df_test):\n",
    "    y_hat = make_prediction(start_date,end_date,model,df_test)\n",
    "    df_temp = df_test.set_index(\"created_at\")[\"price\"].drop_duplicates()\n",
    "    mse = 0\n",
    "    for i in y_hat:\n",
    "        try:\n",
    "            mse+=(df_temp.loc[i].values[0]-y_hat[i])**2\n",
    "        except:\n",
    "            pass\n",
    "    return mse/len(y_hat)\n",
    "\n"
   ],
   "metadata": {
    "collapsed": false,
    "pycharm": {
     "name": "#%%\n"
    }
   }
  },
  {
   "cell_type": "code",
   "execution_count": 332,
   "outputs": [],
   "source": [
    "def make_time_series_dataset(crypto,start_month,start_day,end_month,end_day):\n",
    "    X = []\n",
    "    y = []\n",
    "    try:\n",
    "        crypt_prices = pd.read_csv(f'data/raw/crypto/{crypto_dict[crypto]}_2022_{start_month}_{start_day}-2022_{end_month}_{end_day}_minute.csv')\n",
    "\n",
    "    except:\n",
    "        crypt_prices = pd.read_csv(f'data/raw/crypto/{crypto_dict[crypto]}_2022_{start_month}_{start_day}-2022_{end_month}_{end_day}.csv')\n",
    "\n",
    "    crypt_prices[\"time\"] = pd.to_datetime(crypt_prices['time'],unit='s')\n",
    "\n",
    "    crypt_prices_useful = {}\n",
    "\n",
    "    for i in crypt_prices[[\"time\",\"open\"]].values:\n",
    "        if int(i[0].strftime(\"%M\"))==0 and int(i[0].strftime(\"%S\"))==0:\n",
    "            crypt_prices_useful[i[0]] = i[1]\n",
    "    for i in crypt_prices_useful:\n",
    "        if (i-timedelta(hours=23)) in crypt_prices_useful:\n",
    "            X.append([crypt_prices_useful[i] for i in pd.date_range(i-timedelta(hours=23),i-timedelta(hours=1),freq=\"H\")])\n",
    "            y.append(crypt_prices_useful[i])\n",
    "    return X,y\n"
   ],
   "metadata": {
    "collapsed": false,
    "pycharm": {
     "name": "#%%\n"
    }
   }
  },
  {
   "cell_type": "code",
   "execution_count": 333,
   "outputs": [],
   "source": [
    "def make_ts_model():\n",
    "    model = keras.Sequential()\n",
    "    model.add(keras.layers.LSTM(8,input_shape= (23,1)))\n",
    "    model.add(keras.layers.Dense(32))\n",
    "    model.add(keras.layers.Dense(1))\n",
    "    model.compile(loss='mean_squared_error', optimizer='adam', metrics=['mean_squared_error'])\n",
    "    return model"
   ],
   "metadata": {
    "collapsed": false,
    "pycharm": {
     "name": "#%%\n"
    }
   }
  },
  {
   "cell_type": "code",
   "execution_count": 334,
   "outputs": [],
   "source": [
    "df_avax,X_avax,y_avax = get_dataset(\"avalanche\",\"03\",\"05\",\"03\",\"11\")\n",
    "df_avax2, X_avax2, y_avax2 = get_dataset(\"avalanche\",\"03\",\"28\",\"04\",\"04\")\n",
    "df_avax3, X_avax3, y_avax3 = get_dataset(\"avalanche\",\"03\",\"11\",\"03\",\"12\")\n",
    "df_avax4, X_avax4, y_avax4 = get_dataset(\"avalanche\",\"04\",\"04\",\"04\",\"05\")\n",
    "\n",
    "df_avax = df_avax.append(df_avax2)\n",
    "df_avax = df_avax.append(df_avax3)\n",
    "df_avax = df_avax.append(df_avax4)\n",
    "\n",
    "X_avax = X_avax.append(X_avax2)\n",
    "X_avax = X_avax.append(X_avax3)\n",
    "X_avax = X_avax.append(X_avax4)\n",
    "\n",
    "y_avax = y_avax.append(y_avax2)\n",
    "y_avax = y_avax.append(y_avax3)\n",
    "y_avax = y_avax.append(y_avax4)\n",
    "\n",
    "df_avax_test, _,_ = get_dataset(\"avalanche\",\"04\",\"05\",\"04\",\"07\")\n"
   ],
   "metadata": {
    "collapsed": false,
    "pycharm": {
     "name": "#%%\n"
    }
   }
  },
  {
   "cell_type": "code",
   "execution_count": 335,
   "outputs": [],
   "source": [
    "df_btc,X_btc,y_btc = get_dataset(\"bitcoin\",\"03\",\"05\",\"03\",\"11\")\n",
    "df_btc2, X_btc2, y_btc2 = get_dataset(\"bitcoin\",\"03\",\"28\",\"04\",\"04\")\n",
    "df_btc3, X_btc3, y_btc3 = get_dataset(\"bitcoin\",\"03\",\"11\",\"03\",\"12\")\n",
    "df_btc4, X_btc4, y_btc4 = get_dataset(\"bitcoin\",\"04\",\"04\",\"04\",\"05\")\n",
    "\n",
    "df_btc = df_btc.append(df_btc2)\n",
    "df_btc = df_btc.append(df_btc3)\n",
    "df_btc = df_btc.append(df_btc4)\n",
    "\n",
    "X_btc = X_btc.append(X_btc2)\n",
    "X_btc = X_btc.append(X_btc3)\n",
    "X_btc = X_btc.append(X_btc4)\n",
    "\n",
    "y_btc = y_btc.append(y_btc2)\n",
    "y_btc = y_btc.append(y_btc3)\n",
    "y_btc = y_btc.append(y_btc4)\n",
    "df_btc_test, _,_ = get_dataset(\"bitcoin\",\"04\",\"05\",\"04\",\"07\")\n"
   ],
   "metadata": {
    "collapsed": false,
    "pycharm": {
     "name": "#%%\n"
    }
   }
  },
  {
   "cell_type": "code",
   "execution_count": 336,
   "outputs": [],
   "source": [
    "df_eth,X_eth,y_eth = get_dataset(\"ethereum\",\"03\",\"05\",\"03\",\"11\")\n",
    "df_eth2, X_eth2, y_eth2 = get_dataset(\"ethereum\",\"03\",\"28\",\"04\",\"04\")\n",
    "df_eth3,X_eth3,y_eth3 = get_dataset(\"ethereum\",\"03\",\"11\",\"03\",\"12\")\n",
    "df_eth4, X_eth4, y_eth4 = get_dataset(\"ethereum\",\"04\",\"04\",\"04\",\"05\")\n",
    "\n",
    "df_eth = df_eth.append(df_eth2)\n",
    "df_eth = df_eth.append(df_eth3)\n",
    "df_eth = df_eth.append(df_eth4)\n",
    "\n",
    "\n",
    "\n",
    "X_eth = X_eth.append(X_eth2)\n",
    "X_eth = X_eth.append(X_eth3)\n",
    "X_eth = X_eth.append(X_eth4)\n",
    "\n",
    "y_eth = y_eth.append(y_eth2)\n",
    "y_eth = y_eth.append(y_eth3)\n",
    "y_eth = y_eth.append(y_eth4)\n",
    "\n",
    "df_eth_test, _,_ = get_dataset(\"ethereum\",\"04\",\"05\",\"04\",\"07\")"
   ],
   "metadata": {
    "collapsed": false,
    "pycharm": {
     "name": "#%%\n"
    }
   }
  },
  {
   "cell_type": "code",
   "execution_count": 337,
   "outputs": [],
   "source": [
    "df_sol,X_sol,y_sol = get_dataset(\"solana\",\"03\",\"05\",\"03\",\"11\")\n",
    "df_sol2, X_sol2, y_sol2 = get_dataset(\"solana\",\"03\",\"28\",\"04\",\"04\")\n",
    "df_sol3,X_sol3,y_sol3 = get_dataset(\"solana\",\"03\",\"11\",\"03\",\"12\")\n",
    "df_sol4, X_sol4, y_sol4 = get_dataset(\"solana\",\"04\",\"04\",\"04\",\"05\")\n",
    "\n",
    "df_sol = df_sol.append(df_sol2)\n",
    "df_sol = df_sol.append(df_sol3)\n",
    "df_sol = df_sol.append(df_sol4)\n",
    "\n",
    "\n",
    "X_sol = X_sol.append(X_sol2)\n",
    "X_sol = X_sol.append(X_sol3)\n",
    "X_sol = X_sol.append(X_sol4)\n",
    "\n",
    "y_sol = y_sol.append(y_sol2)\n",
    "y_sol = y_sol.append(y_sol3)\n",
    "y_sol = y_sol.append(y_sol4)\n",
    "\n",
    "df_sol_test, _,_ = get_dataset(\"solana\",\"04\",\"05\",\"04\",\"07\")"
   ],
   "metadata": {
    "collapsed": false,
    "pycharm": {
     "name": "#%%\n"
    }
   }
  },
  {
   "cell_type": "code",
   "execution_count": 338,
   "outputs": [],
   "source": [
    "df_doge,X_doge,y_doge = get_dataset(\"doge\",\"03\",\"05\",\"03\",\"11\")\n",
    "df_doge2, X_doge2, y_doge2 = get_dataset(\"doge\",\"03\",\"28\",\"04\",\"04\")\n",
    "df_doge3,X_doge3,y_doge3 = get_dataset(\"doge\",\"03\",\"11\",\"03\",\"12\")\n",
    "df_doge4, X_doge4, y_doge4 = get_dataset(\"doge\",\"04\",\"04\",\"04\",\"05\")\n",
    "\n",
    "df_doge = df_doge.append(df_doge2)\n",
    "df_doge = df_doge.append(df_doge3)\n",
    "df_doge = df_doge.append(df_doge4)\n",
    "\n",
    "\n",
    "X_doge = X_doge.append(X_doge2)\n",
    "X_doge = X_doge.append(X_doge3)\n",
    "X_doge = X_doge.append(X_doge4)\n",
    "\n",
    "y_doge = y_doge.append(y_doge2)\n",
    "y_doge = y_doge.append(y_doge3)\n",
    "y_doge = y_doge.append(y_doge4)\n",
    "\n",
    "df_doge_test, _,_ = get_dataset(\"solana\",\"04\",\"05\",\"04\",\"07\")"
   ],
   "metadata": {
    "collapsed": false,
    "pycharm": {
     "name": "#%%\n"
    }
   }
  },
  {
   "cell_type": "code",
   "execution_count": null,
   "outputs": [
    {
     "name": "stdout",
     "output_type": "stream",
     "text": [
      "Epoch 1/500\n",
      "163/163 [==============================] - 2s 3ms/step - loss: 2023683328.0000 - mean_squared_error: 2023683328.0000\n",
      "Epoch 2/500\n",
      "163/163 [==============================] - 0s 3ms/step - loss: 2022702080.0000 - mean_squared_error: 2022702080.0000\n",
      "Epoch 3/500\n",
      "163/163 [==============================] - 0s 3ms/step - loss: 2020833920.0000 - mean_squared_error: 2020833920.0000\n",
      "Epoch 4/500\n",
      "163/163 [==============================] - 0s 3ms/step - loss: 2017039616.0000 - mean_squared_error: 2017039616.0000\n",
      "Epoch 5/500\n",
      "163/163 [==============================] - 1s 3ms/step - loss: 2011054464.0000 - mean_squared_error: 2011054464.0000\n",
      "Epoch 6/500\n",
      "163/163 [==============================] - 0s 3ms/step - loss: 2002865664.0000 - mean_squared_error: 2002865664.0000\n",
      "Epoch 7/500\n",
      "163/163 [==============================] - 0s 3ms/step - loss: 1993021952.0000 - mean_squared_error: 1993021952.0000\n",
      "Epoch 8/500\n",
      "163/163 [==============================] - 0s 3ms/step - loss: 1981782784.0000 - mean_squared_error: 1981782784.0000\n",
      "Epoch 9/500\n",
      "163/163 [==============================] - 0s 3ms/step - loss: 1968926848.0000 - mean_squared_error: 1968926848.0000\n",
      "Epoch 10/500\n",
      "163/163 [==============================] - 0s 3ms/step - loss: 1951793408.0000 - mean_squared_error: 1951793408.0000\n",
      "Epoch 11/500\n",
      "163/163 [==============================] - 0s 3ms/step - loss: 1933643136.0000 - mean_squared_error: 1933643136.0000\n",
      "Epoch 12/500\n",
      "163/163 [==============================] - 0s 3ms/step - loss: 1913520256.0000 - mean_squared_error: 1913520256.0000\n",
      "Epoch 13/500\n",
      "163/163 [==============================] - 0s 3ms/step - loss: 1888998656.0000 - mean_squared_error: 1888998656.0000\n",
      "Epoch 14/500\n",
      "163/163 [==============================] - 0s 3ms/step - loss: 1864365824.0000 - mean_squared_error: 1864365824.0000\n",
      "Epoch 15/500\n",
      "163/163 [==============================] - 0s 3ms/step - loss: 1838996608.0000 - mean_squared_error: 1838996608.0000\n",
      "Epoch 16/500\n",
      "163/163 [==============================] - 0s 3ms/step - loss: 1812740992.0000 - mean_squared_error: 1812740992.0000\n",
      "Epoch 17/500\n",
      "163/163 [==============================] - 0s 3ms/step - loss: 1785604480.0000 - mean_squared_error: 1785604480.0000\n",
      "Epoch 18/500\n",
      "163/163 [==============================] - 0s 3ms/step - loss: 1757647232.0000 - mean_squared_error: 1757647232.0000\n",
      "Epoch 19/500\n",
      "163/163 [==============================] - 0s 3ms/step - loss: 1728856192.0000 - mean_squared_error: 1728856192.0000\n",
      "Epoch 20/500\n",
      "163/163 [==============================] - 0s 3ms/step - loss: 1699309056.0000 - mean_squared_error: 1699309056.0000\n",
      "Epoch 21/500\n",
      "163/163 [==============================] - 1s 3ms/step - loss: 1669072512.0000 - mean_squared_error: 1669072512.0000\n",
      "Epoch 22/500\n",
      " 29/163 [====>.........................] - ETA: 0s - loss: 1651509120.0000 - mean_squared_error: 1651509120.0000"
     ]
    }
   ],
   "source": [
    "bit_model = make_model()\n",
    "bit_model.fit(X_btc,y_btc,epochs=500,batch_size=10)"
   ],
   "metadata": {
    "collapsed": false,
    "pycharm": {
     "name": "#%%\n",
     "is_executing": true
    }
   }
  },
  {
   "cell_type": "code",
   "execution_count": null,
   "outputs": [],
   "source": [
    "eth_model = make_model()\n",
    "eth_model.fit(X_eth,y_eth,epochs=1000,batch_size=10)"
   ],
   "metadata": {
    "collapsed": false,
    "pycharm": {
     "name": "#%%\n",
     "is_executing": true
    }
   }
  },
  {
   "cell_type": "code",
   "execution_count": null,
   "outputs": [],
   "source": [
    "doge_model = make_model()\n",
    "doge_model.fit(X_doge,y_doge,epochs=1000,batch_size=10)"
   ],
   "metadata": {
    "collapsed": false,
    "pycharm": {
     "name": "#%%\n",
     "is_executing": true
    }
   }
  },
  {
   "cell_type": "code",
   "execution_count": null,
   "outputs": [],
   "source": [
    "sol_model = make_model()\n",
    "sol_model.fit(X_sol,y_sol,epochs=1000,batch_size=10)"
   ],
   "metadata": {
    "collapsed": false,
    "pycharm": {
     "name": "#%%\n",
     "is_executing": true
    }
   }
  },
  {
   "cell_type": "code",
   "execution_count": null,
   "outputs": [],
   "source": [
    "avax_model = make_model()\n",
    "avax_model.fit(X_avax,y_avax,epochs=1000,batch_size=10)"
   ],
   "metadata": {
    "collapsed": false,
    "pycharm": {
     "name": "#%%\n",
     "is_executing": true
    }
   }
  },
  {
   "cell_type": "code",
   "execution_count": null,
   "outputs": [],
   "source": [
    "evaluate_model(\"05/04/2022\",\"07/04/2022\",bit_model,df_btc_test)"
   ],
   "metadata": {
    "collapsed": false,
    "pycharm": {
     "name": "#%%\n",
     "is_executing": true
    }
   }
  },
  {
   "cell_type": "code",
   "execution_count": null,
   "outputs": [],
   "source": [
    "X_ts_btc ,y_ts_btc = make_time_series_dataset(\"bitcoin\",\"01\",\"03\",\"04\",\"03\")\n",
    "X_test_btc, y_test_btc = make_time_series_dataset(\"bitcoin\",\"04\",\"05\",\"04\",\"07\")\n",
    "bit_ltsm = make_ts_model()\n",
    "bit_ltsm.fit(X_ts_btc,y_ts_btc,epochs=500,batch_size=10,validation_data=(X_test_btc,y_test_btc))"
   ],
   "metadata": {
    "collapsed": false,
    "pycharm": {
     "name": "#%%\n",
     "is_executing": true
    }
   }
  },
  {
   "cell_type": "code",
   "execution_count": null,
   "outputs": [],
   "source": [],
   "metadata": {
    "collapsed": false,
    "pycharm": {
     "name": "#%%\n",
     "is_executing": true
    }
   }
  },
  {
   "cell_type": "code",
   "execution_count": null,
   "outputs": [],
   "source": [
    "X_ts_eth ,y_ts_eth = make_time_series_dataset(\"ethereum\",\"01\",\"03\",\"04\",\"03\")\n",
    "X_test_eth, y_test_eth = make_time_series_dataset(\"ethereum\",\"04\",\"05\",\"04\",\"07\")\n",
    "eth_ltsm = make_ts_model()\n",
    "eth_ltsm.fit(X_ts_eth,y_ts_eth,epochs=500,batch_size=10)"
   ],
   "metadata": {
    "collapsed": false,
    "pycharm": {
     "name": "#%%\n",
     "is_executing": true
    }
   }
  },
  {
   "cell_type": "code",
   "execution_count": null,
   "outputs": [],
   "source": [
    "X_ts_avax ,y_ts_avax = make_time_series_dataset(\"avalanche\",\"01\",\"03\",\"04\",\"03\")\n",
    "X_test_avax, y_test_avax = make_time_series_dataset(\"avalanche\",\"04\",\"05\",\"04\",\"07\")\n",
    "\n",
    "avax_ltsm = make_ts_model()\n",
    "avax_ltsm.fit(X_ts_avax,y_ts_avax,epochs=500,batch_size=10)"
   ],
   "metadata": {
    "collapsed": false,
    "pycharm": {
     "name": "#%%\n",
     "is_executing": true
    }
   }
  },
  {
   "cell_type": "code",
   "execution_count": null,
   "outputs": [],
   "source": [
    "X_ts_sol ,y_ts_sol = make_time_series_dataset(\"solana\",\"01\",\"03\",\"04\",\"03\")\n",
    "X_test_sol, y_test_sol = make_time_series_dataset(\"solana\",\"04\",\"05\",\"04\",\"07\")\n",
    "\n",
    "sol_ltsm = make_ts_model()\n",
    "sol_ltsm.fit(X_ts_sol,y_ts_sol,epochs=500,batch_size=10)"
   ],
   "metadata": {
    "collapsed": false,
    "pycharm": {
     "name": "#%%\n",
     "is_executing": true
    }
   }
  },
  {
   "cell_type": "code",
   "execution_count": null,
   "outputs": [],
   "source": [
    "X_ts_doge ,y_ts_doge = make_time_series_dataset(\"doge\",\"01\",\"03\",\"04\",\"03\")\n",
    "X_test_doge, y_test_doge = make_time_series_dataset(\"doge\",\"04\",\"05\",\"04\",\"07\")\n",
    "\n",
    "doge_ltsm = make_ts_model()\n",
    "doge_ltsm.fit(X_ts_doge,y_ts_doge,epochs=500,batch_size=10)"
   ],
   "metadata": {
    "collapsed": false,
    "pycharm": {
     "name": "#%%\n",
     "is_executing": true
    }
   }
  },
  {
   "cell_type": "code",
   "execution_count": null,
   "outputs": [],
   "source": [],
   "metadata": {
    "collapsed": false,
    "pycharm": {
     "name": "#%%\n"
    }
   }
  },
  {
   "cell_type": "markdown",
   "source": [
    "Summary:\n"
   ],
   "metadata": {
    "collapsed": false,
    "pycharm": {
     "name": "#%% md\n"
    }
   }
  }
 ],
 "metadata": {
  "kernelspec": {
   "display_name": "Python 3",
   "language": "python",
   "name": "python3"
  },
  "language_info": {
   "codemirror_mode": {
    "name": "ipython",
    "version": 2
   },
   "file_extension": ".py",
   "mimetype": "text/x-python",
   "name": "python",
   "nbconvert_exporter": "python",
   "pygments_lexer": "ipython2",
   "version": "2.7.6"
  }
 },
 "nbformat": 4,
 "nbformat_minor": 0
}