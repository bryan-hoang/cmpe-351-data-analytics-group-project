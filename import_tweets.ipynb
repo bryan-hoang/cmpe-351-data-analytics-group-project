{
 "cells": [
  {
   "cell_type": "code",
   "execution_count": 29,
   "metadata": {
    "collapsed": true
   },
   "outputs": [],
   "source": [
    "from twython import Twython\n",
    "import pandas as pd\n",
    "\n",
    "APP_KEY = 'l9HUF0alT7jmUdtu7NdXTDt8H'\n",
    "APP_SECRET = 'iF3SenY2glLpt6XOswJVtgIkgyqXs6ax53HtRtJgaXe6YQq8QG'\n",
    "\n",
    "twitter = Twython(APP_KEY, APP_SECRET, oauth_version=2)\n",
    "ACCESS_TOKEN = twitter.obtain_access_token()"
   ]
  },
  {
   "cell_type": "code",
   "execution_count": 30,
   "outputs": [],
   "source": [
    "twitter = Twython(APP_KEY, APP_SECRET, access_token=ACCESS_TOKEN)"
   ],
   "metadata": {
    "collapsed": false,
    "pycharm": {
     "name": "#%%\n"
    }
   }
  },
  {
   "cell_type": "code",
   "execution_count": 38,
   "outputs": [],
   "source": [
    "dict = {\n",
    "    'text':[], #statuses\n",
    "    'retweet_count': [],\n",
    "    'favorite_count': [],\n",
    "    'followers_count' : [],\n",
    "    'verified': [],\n",
    "    'listed_count': [],\n",
    "    'created_at': [],\n",
    "    'hashtags': [],\n",
    "    'name':[],\n",
    "}"
   ],
   "metadata": {
    "collapsed": false,
    "pycharm": {
     "name": "#%%\n"
    }
   }
  },
  {
   "cell_type": "code",
   "execution_count": 39,
   "outputs": [],
   "source": [
    "def read_tweets(search_results):\n",
    "    for i in range(len(search_results['statuses'])):\n",
    "        for j in dict:\n",
    "            #search_results['statuses'][i]['text'] #, 'hashtags', 'followers_count', 'listed_count', 'favourites_count', 'created_at', 'retweet_count', 'favourite_count']]\n",
    "            if (j == 'text') or (j == 'retweet_count') or (j == 'favorite_count'):\n",
    "                dict[j].append(search_results['statuses'][i][j])\n",
    "            elif j=='hashtags':\n",
    "                dict[j].append(search_results['statuses'][i]['entities'][j])\n",
    "            else:\n",
    "                dict[j].append(search_results['statuses'][i]['user'][j])\n",
    "    return pd.DataFrame(dict)"
   ],
   "metadata": {
    "collapsed": false,
    "pycharm": {
     "name": "#%%\n"
    }
   }
  },
  {
   "cell_type": "code",
   "execution_count": 45,
   "outputs": [],
   "source": [
    "from datetime import datetime\n",
    "date = datetime.today().strftime('%Y-%m-%d')\n",
    "\n",
    "def make_df(hashtag_list, until_date = date, result_type = 'popular'):\n",
    "\n",
    "    count = 0\n",
    "    df = pd.DataFrame()\n",
    "    for i in hashtag_list:\n",
    "        search_results = twitter.search(count=100, q=i, until= until_date, result_type= result_type)\n",
    "        if count == 0:\n",
    "            df = read_tweets(search_results)\n",
    "        else:\n",
    "            df = df.append(read_tweets(search_results))\n",
    "        count = count + 1\n",
    "\n",
    "    return df"
   ],
   "metadata": {
    "collapsed": false,
    "pycharm": {
     "name": "#%%\n"
    }
   }
  },
  {
   "cell_type": "code",
   "execution_count": 41,
   "outputs": [],
   "source": [
    "hashtag_list = ['#cryptocurrency', '#crypto', '#dogecoin','#DOGE','#bitcoin','#BTC', '#ethereum','#ENS', '#avalanche', '#AVAX', '#solana', '#SOL']\n"
   ],
   "metadata": {
    "collapsed": false,
    "pycharm": {
     "name": "#%%\n"
    }
   }
  },
  {
   "cell_type": "code",
   "execution_count": 42,
   "outputs": [
    {
     "data": {
      "text/plain": "                                                  text  retweet_count  \\\n0    The Ukrainian government has spent $15 million...            105   \n1    Fashion নয়, #newoclan ‘ই future🚀 \\n\\nCryptocu...            109   \n2    Elon Musk has refused to block Russian news so...            149   \n3    Rich Dad Poor Dad author Robert Kiyosaki has g...            254   \n4    At $POODL? we don't just \"talk a good game\". W...            488   \n..                                                 ...            ...   \n116  #PISCIS. Felicidades. Con el #Sol y hoy tambié...             48   \n117  Which #Ethereum Killer do you prefer?\\n\\n#ADA ...             61   \n118  ✅✅✅ #BTC #ETH #ADA #SOL #DOGE #SHIB https://t....             50   \n119  Miguel Iriarte, médico #Sol: \"Sol de América s...             24   \n120  Con el #Sol 🌅por proa, saludamos a una nueva #...             35   \n\n     favorite_count  followers_count  verified  listed_count  \\\n0               348          2430642      True         10753   \n1               533          1221968      True           536   \n2               599          2430642      True         10753   \n3               534          2430642      True         10753   \n4               528           120368      True            90   \n..              ...              ...       ...           ...   \n116             351           370354      True           412   \n117             358            93855      True           127   \n118             267           720417      True          5388   \n119             253           561335      True           410   \n120             166           179561      True           941   \n\n                         created_at  \\\n0    Thu Jul 09 08:58:22 +0000 2015   \n1    Wed Apr 28 15:22:36 +0000 2010   \n2    Thu Jul 09 08:58:22 +0000 2015   \n3    Thu Jul 09 08:58:22 +0000 2015   \n4    Sat Mar 13 12:05:53 +0000 2021   \n..                              ...   \n116  Thu Apr 26 16:36:57 +0000 2012   \n117  Wed May 06 16:46:09 +0000 2020   \n118  Tue Dec 04 15:08:58 +0000 2012   \n119  Tue Oct 04 18:09:26 +0000 2011   \n120  Fri Feb 24 09:18:52 +0000 2012   \n\n                                              hashtags              name  \n0    [{'text': 'cryptocurrency', 'indices': [58, 73]}]      Bitcoin News  \n1          [{'text': 'newoclan', 'indices': [13, 22]}]               Dev  \n2          [{'text': 'crypto', 'indices': [102, 109]}]      Bitcoin News  \n3                                                   []      Bitcoin News  \n4                                                   []            $POODL  \n..                                                 ...               ...  \n116  [{'text': 'PISCIS', 'indices': [0, 7]}, {'text...  Esperanza Gracia  \n117  [{'text': 'Ethereum', 'indices': [6, 15]}, {'t...  CoinSwitch Kuber  \n118  [{'text': 'BTC', 'indices': [4, 8]}, {'text': ...     Investing.com  \n119             [{'text': 'Sol', 'indices': [23, 27]}]        Bruno Pont  \n120  [{'text': 'Sol', 'indices': [7, 11]}, {'text':...   Armada Española  \n\n[798 rows x 9 columns]",
      "text/html": "<div>\n<style scoped>\n    .dataframe tbody tr th:only-of-type {\n        vertical-align: middle;\n    }\n\n    .dataframe tbody tr th {\n        vertical-align: top;\n    }\n\n    .dataframe thead th {\n        text-align: right;\n    }\n</style>\n<table border=\"1\" class=\"dataframe\">\n  <thead>\n    <tr style=\"text-align: right;\">\n      <th></th>\n      <th>text</th>\n      <th>retweet_count</th>\n      <th>favorite_count</th>\n      <th>followers_count</th>\n      <th>verified</th>\n      <th>listed_count</th>\n      <th>created_at</th>\n      <th>hashtags</th>\n      <th>name</th>\n    </tr>\n  </thead>\n  <tbody>\n    <tr>\n      <th>0</th>\n      <td>The Ukrainian government has spent $15 million...</td>\n      <td>105</td>\n      <td>348</td>\n      <td>2430642</td>\n      <td>True</td>\n      <td>10753</td>\n      <td>Thu Jul 09 08:58:22 +0000 2015</td>\n      <td>[{'text': 'cryptocurrency', 'indices': [58, 73]}]</td>\n      <td>Bitcoin News</td>\n    </tr>\n    <tr>\n      <th>1</th>\n      <td>Fashion নয়, #newoclan ‘ই future🚀 \\n\\nCryptocu...</td>\n      <td>109</td>\n      <td>533</td>\n      <td>1221968</td>\n      <td>True</td>\n      <td>536</td>\n      <td>Wed Apr 28 15:22:36 +0000 2010</td>\n      <td>[{'text': 'newoclan', 'indices': [13, 22]}]</td>\n      <td>Dev</td>\n    </tr>\n    <tr>\n      <th>2</th>\n      <td>Elon Musk has refused to block Russian news so...</td>\n      <td>149</td>\n      <td>599</td>\n      <td>2430642</td>\n      <td>True</td>\n      <td>10753</td>\n      <td>Thu Jul 09 08:58:22 +0000 2015</td>\n      <td>[{'text': 'crypto', 'indices': [102, 109]}]</td>\n      <td>Bitcoin News</td>\n    </tr>\n    <tr>\n      <th>3</th>\n      <td>Rich Dad Poor Dad author Robert Kiyosaki has g...</td>\n      <td>254</td>\n      <td>534</td>\n      <td>2430642</td>\n      <td>True</td>\n      <td>10753</td>\n      <td>Thu Jul 09 08:58:22 +0000 2015</td>\n      <td>[]</td>\n      <td>Bitcoin News</td>\n    </tr>\n    <tr>\n      <th>4</th>\n      <td>At $POODL? we don't just \"talk a good game\". W...</td>\n      <td>488</td>\n      <td>528</td>\n      <td>120368</td>\n      <td>True</td>\n      <td>90</td>\n      <td>Sat Mar 13 12:05:53 +0000 2021</td>\n      <td>[]</td>\n      <td>$POODL</td>\n    </tr>\n    <tr>\n      <th>...</th>\n      <td>...</td>\n      <td>...</td>\n      <td>...</td>\n      <td>...</td>\n      <td>...</td>\n      <td>...</td>\n      <td>...</td>\n      <td>...</td>\n      <td>...</td>\n    </tr>\n    <tr>\n      <th>116</th>\n      <td>#PISCIS. Felicidades. Con el #Sol y hoy tambié...</td>\n      <td>48</td>\n      <td>351</td>\n      <td>370354</td>\n      <td>True</td>\n      <td>412</td>\n      <td>Thu Apr 26 16:36:57 +0000 2012</td>\n      <td>[{'text': 'PISCIS', 'indices': [0, 7]}, {'text...</td>\n      <td>Esperanza Gracia</td>\n    </tr>\n    <tr>\n      <th>117</th>\n      <td>Which #Ethereum Killer do you prefer?\\n\\n#ADA ...</td>\n      <td>61</td>\n      <td>358</td>\n      <td>93855</td>\n      <td>True</td>\n      <td>127</td>\n      <td>Wed May 06 16:46:09 +0000 2020</td>\n      <td>[{'text': 'Ethereum', 'indices': [6, 15]}, {'t...</td>\n      <td>CoinSwitch Kuber</td>\n    </tr>\n    <tr>\n      <th>118</th>\n      <td>✅✅✅ #BTC #ETH #ADA #SOL #DOGE #SHIB https://t....</td>\n      <td>50</td>\n      <td>267</td>\n      <td>720417</td>\n      <td>True</td>\n      <td>5388</td>\n      <td>Tue Dec 04 15:08:58 +0000 2012</td>\n      <td>[{'text': 'BTC', 'indices': [4, 8]}, {'text': ...</td>\n      <td>Investing.com</td>\n    </tr>\n    <tr>\n      <th>119</th>\n      <td>Miguel Iriarte, médico #Sol: \"Sol de América s...</td>\n      <td>24</td>\n      <td>253</td>\n      <td>561335</td>\n      <td>True</td>\n      <td>410</td>\n      <td>Tue Oct 04 18:09:26 +0000 2011</td>\n      <td>[{'text': 'Sol', 'indices': [23, 27]}]</td>\n      <td>Bruno Pont</td>\n    </tr>\n    <tr>\n      <th>120</th>\n      <td>Con el #Sol 🌅por proa, saludamos a una nueva #...</td>\n      <td>35</td>\n      <td>166</td>\n      <td>179561</td>\n      <td>True</td>\n      <td>941</td>\n      <td>Fri Feb 24 09:18:52 +0000 2012</td>\n      <td>[{'text': 'Sol', 'indices': [7, 11]}, {'text':...</td>\n      <td>Armada Española</td>\n    </tr>\n  </tbody>\n</table>\n<p>798 rows × 9 columns</p>\n</div>"
     },
     "execution_count": 42,
     "metadata": {},
     "output_type": "execute_result"
    }
   ],
   "source": [
    "df = make_df(hashtag_list)\n",
    "df"
   ],
   "metadata": {
    "collapsed": false,
    "pycharm": {
     "name": "#%%\n"
    }
   }
  },
  {
   "cell_type": "code",
   "execution_count": 47,
   "outputs": [],
   "source": [
    "df.to_csv(\"tweets-\" +date+ \".csv\")"
   ],
   "metadata": {
    "collapsed": false,
    "pycharm": {
     "name": "#%%\n"
    }
   }
  },
  {
   "cell_type": "code",
   "execution_count": null,
   "outputs": [],
   "source": [],
   "metadata": {
    "collapsed": false,
    "pycharm": {
     "name": "#%%\n"
    }
   }
  }
 ],
 "metadata": {
  "kernelspec": {
   "display_name": "Python 3",
   "language": "python",
   "name": "python3"
  },
  "language_info": {
   "codemirror_mode": {
    "name": "ipython",
    "version": 2
   },
   "file_extension": ".py",
   "mimetype": "text/x-python",
   "name": "python",
   "nbconvert_exporter": "python",
   "pygments_lexer": "ipython2",
   "version": "2.7.6"
  }
 },
 "nbformat": 4,
 "nbformat_minor": 0
}